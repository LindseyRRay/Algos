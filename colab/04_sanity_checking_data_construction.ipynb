{
  "nbformat": 4,
  "nbformat_minor": 0,
  "metadata": {
    "colab": {
      "provenance": [],
      "machine_shape": "hm",
      "authorship_tag": "ABX9TyMSVFTMLga36ESfJJyircQu",
      "include_colab_link": true
    },
    "kernelspec": {
      "name": "python3",
      "display_name": "Python 3"
    },
    "language_info": {
      "name": "python"
    },
    "gpuClass": "standard"
  },
  "cells": [
    {
      "cell_type": "markdown",
      "metadata": {
        "id": "view-in-github",
        "colab_type": "text"
      },
      "source": [
        "<a href=\"https://colab.research.google.com/github/LindseyRRay/Algos/blob/master/colab/04_sanity_checking_data_construction.ipynb\" target=\"_parent\"><img src=\"https://colab.research.google.com/assets/colab-badge.svg\" alt=\"Open In Colab\"/></a>"
      ]
    },
    {
      "cell_type": "code",
      "execution_count": null,
      "metadata": {
        "id": "8y0FdyGJ1r39",
        "colab": {
          "base_uri": "https://localhost:8080/"
        },
        "outputId": "972c7a27-089b-471b-97ad-31bde331b2ad"
      },
      "outputs": [
        {
          "output_type": "stream",
          "name": "stdout",
          "text": [
            "Looking in indexes: https://pypi.org/simple, https://us-python.pkg.dev/colab-wheels/public/simple/\n",
            "Collecting funcy\n",
            "  Downloading funcy-1.17-py2.py3-none-any.whl (33 kB)\n",
            "Requirement already satisfied: pandas in /usr/local/lib/python3.7/dist-packages (1.3.5)\n",
            "Requirement already satisfied: numpy in /usr/local/lib/python3.7/dist-packages (1.21.6)\n",
            "Requirement already satisfied: matplotlib in /usr/local/lib/python3.7/dist-packages (3.2.2)\n",
            "Requirement already satisfied: seaborn in /usr/local/lib/python3.7/dist-packages (0.11.2)\n",
            "Collecting isoweek\n",
            "  Downloading isoweek-1.3.3-py2.py3-none-any.whl (7.1 kB)\n",
            "Collecting ipython-autotime\n",
            "  Downloading ipython_autotime-0.3.1-py2.py3-none-any.whl (6.8 kB)\n",
            "Collecting import_ipynb\n",
            "  Downloading import_ipynb-0.1.4-py3-none-any.whl (4.1 kB)\n",
            "Collecting fuzzymatcher\n",
            "  Downloading fuzzymatcher-0.0.6-py3-none-any.whl (15 kB)\n",
            "Collecting dropbox\n",
            "  Downloading dropbox-11.36.0-py3-none-any.whl (594 kB)\n",
            "\u001b[K     |████████████████████████████████| 594 kB 39.5 MB/s \n",
            "\u001b[?25hRequirement already satisfied: python-dateutil>=2.7.3 in /usr/local/lib/python3.7/dist-packages (from pandas) (2.8.2)\n",
            "Requirement already satisfied: pytz>=2017.3 in /usr/local/lib/python3.7/dist-packages (from pandas) (2022.6)\n",
            "Requirement already satisfied: six>=1.5 in /usr/local/lib/python3.7/dist-packages (from python-dateutil>=2.7.3->pandas) (1.15.0)\n",
            "Requirement already satisfied: pyparsing!=2.0.4,!=2.1.2,!=2.1.6,>=2.0.1 in /usr/local/lib/python3.7/dist-packages (from matplotlib) (3.0.9)\n",
            "Requirement already satisfied: kiwisolver>=1.0.1 in /usr/local/lib/python3.7/dist-packages (from matplotlib) (1.4.4)\n",
            "Requirement already satisfied: cycler>=0.10 in /usr/local/lib/python3.7/dist-packages (from matplotlib) (0.11.0)\n",
            "Requirement already satisfied: typing-extensions in /usr/local/lib/python3.7/dist-packages (from kiwisolver>=1.0.1->matplotlib) (4.1.1)\n",
            "Requirement already satisfied: scipy>=1.0 in /usr/local/lib/python3.7/dist-packages (from seaborn) (1.7.3)\n",
            "Requirement already satisfied: ipython in /usr/local/lib/python3.7/dist-packages (from ipython-autotime) (7.9.0)\n",
            "Requirement already satisfied: nbformat in /usr/local/lib/python3.7/dist-packages (from import_ipynb) (5.7.0)\n",
            "Collecting metaphone\n",
            "  Downloading Metaphone-0.6.tar.gz (14 kB)\n",
            "Collecting rapidfuzz\n",
            "  Downloading rapidfuzz-2.13.2-cp37-cp37m-manylinux_2_17_x86_64.manylinux2014_x86_64.whl (2.2 MB)\n",
            "\u001b[K     |████████████████████████████████| 2.2 MB 61.0 MB/s \n",
            "\u001b[?25hCollecting python-Levenshtein\n",
            "  Downloading python_Levenshtein-0.20.8-py3-none-any.whl (9.4 kB)\n",
            "Requirement already satisfied: requests>=2.16.2 in /usr/local/lib/python3.7/dist-packages (from dropbox) (2.23.0)\n",
            "Collecting stone>=2.*\n",
            "  Downloading stone-3.3.1-py3-none-any.whl (162 kB)\n",
            "\u001b[K     |████████████████████████████████| 162 kB 50.7 MB/s \n",
            "\u001b[?25hRequirement already satisfied: certifi>=2017.4.17 in /usr/local/lib/python3.7/dist-packages (from requests>=2.16.2->dropbox) (2022.9.24)\n",
            "Requirement already satisfied: chardet<4,>=3.0.2 in /usr/local/lib/python3.7/dist-packages (from requests>=2.16.2->dropbox) (3.0.4)\n",
            "Requirement already satisfied: urllib3!=1.25.0,!=1.25.1,<1.26,>=1.21.1 in /usr/local/lib/python3.7/dist-packages (from requests>=2.16.2->dropbox) (1.24.3)\n",
            "Requirement already satisfied: idna<3,>=2.5 in /usr/local/lib/python3.7/dist-packages (from requests>=2.16.2->dropbox) (2.10)\n",
            "Collecting ply>=3.4\n",
            "  Downloading ply-3.11-py2.py3-none-any.whl (49 kB)\n",
            "\u001b[K     |████████████████████████████████| 49 kB 3.8 MB/s \n",
            "\u001b[?25hRequirement already satisfied: backcall in /usr/local/lib/python3.7/dist-packages (from ipython->ipython-autotime) (0.2.0)\n",
            "Requirement already satisfied: pickleshare in /usr/local/lib/python3.7/dist-packages (from ipython->ipython-autotime) (0.7.5)\n",
            "Requirement already satisfied: decorator in /usr/local/lib/python3.7/dist-packages (from ipython->ipython-autotime) (4.4.2)\n",
            "Requirement already satisfied: traitlets>=4.2 in /usr/local/lib/python3.7/dist-packages (from ipython->ipython-autotime) (5.1.1)\n",
            "Requirement already satisfied: pexpect in /usr/local/lib/python3.7/dist-packages (from ipython->ipython-autotime) (4.8.0)\n",
            "Requirement already satisfied: setuptools>=18.5 in /usr/local/lib/python3.7/dist-packages (from ipython->ipython-autotime) (57.4.0)\n",
            "Requirement already satisfied: pygments in /usr/local/lib/python3.7/dist-packages (from ipython->ipython-autotime) (2.6.1)\n",
            "Collecting jedi>=0.10\n",
            "  Downloading jedi-0.18.2-py2.py3-none-any.whl (1.6 MB)\n",
            "\u001b[K     |████████████████████████████████| 1.6 MB 66.9 MB/s \n",
            "\u001b[?25hRequirement already satisfied: prompt-toolkit<2.1.0,>=2.0.0 in /usr/local/lib/python3.7/dist-packages (from ipython->ipython-autotime) (2.0.10)\n",
            "Requirement already satisfied: parso<0.9.0,>=0.8.0 in /usr/local/lib/python3.7/dist-packages (from jedi>=0.10->ipython->ipython-autotime) (0.8.3)\n",
            "Requirement already satisfied: wcwidth in /usr/local/lib/python3.7/dist-packages (from prompt-toolkit<2.1.0,>=2.0.0->ipython->ipython-autotime) (0.2.5)\n",
            "Requirement already satisfied: jsonschema>=2.6 in /usr/local/lib/python3.7/dist-packages (from nbformat->import_ipynb) (4.3.3)\n",
            "Requirement already satisfied: jupyter-core in /usr/local/lib/python3.7/dist-packages (from nbformat->import_ipynb) (4.11.2)\n",
            "Requirement already satisfied: importlib-metadata>=3.6 in /usr/local/lib/python3.7/dist-packages (from nbformat->import_ipynb) (4.13.0)\n",
            "Requirement already satisfied: fastjsonschema in /usr/local/lib/python3.7/dist-packages (from nbformat->import_ipynb) (2.16.2)\n",
            "Requirement already satisfied: zipp>=0.5 in /usr/local/lib/python3.7/dist-packages (from importlib-metadata>=3.6->nbformat->import_ipynb) (3.10.0)\n",
            "Requirement already satisfied: attrs>=17.4.0 in /usr/local/lib/python3.7/dist-packages (from jsonschema>=2.6->nbformat->import_ipynb) (22.1.0)\n",
            "Requirement already satisfied: pyrsistent!=0.17.0,!=0.17.1,!=0.17.2,>=0.14.0 in /usr/local/lib/python3.7/dist-packages (from jsonschema>=2.6->nbformat->import_ipynb) (0.19.2)\n",
            "Requirement already satisfied: importlib-resources>=1.4.0 in /usr/local/lib/python3.7/dist-packages (from jsonschema>=2.6->nbformat->import_ipynb) (5.10.0)\n",
            "Requirement already satisfied: ptyprocess>=0.5 in /usr/local/lib/python3.7/dist-packages (from pexpect->ipython->ipython-autotime) (0.7.0)\n",
            "Collecting Levenshtein==0.20.8\n",
            "  Downloading Levenshtein-0.20.8-cp37-cp37m-manylinux_2_17_x86_64.manylinux2014_x86_64.whl (175 kB)\n",
            "\u001b[K     |████████████████████████████████| 175 kB 75.2 MB/s \n",
            "\u001b[?25hBuilding wheels for collected packages: metaphone\n",
            "  Building wheel for metaphone (setup.py) ... \u001b[?25l\u001b[?25hdone\n",
            "  Created wheel for metaphone: filename=Metaphone-0.6-py3-none-any.whl size=13919 sha256=d0debf931a91a9fb72b90cdd906b3a3c2bb65e74953cb8156ce326f1678ffa33\n",
            "  Stored in directory: /root/.cache/pip/wheels/1d/a8/cb/6f8902aa5457bd71344e00665c230e9c45255b3f57f2194a0f\n",
            "Successfully built metaphone\n",
            "Installing collected packages: rapidfuzz, ply, Levenshtein, jedi, stone, python-Levenshtein, metaphone, isoweek, ipython-autotime, import-ipynb, fuzzymatcher, funcy, dropbox\n",
            "Successfully installed Levenshtein-0.20.8 dropbox-11.36.0 funcy-1.17 fuzzymatcher-0.0.6 import-ipynb-0.1.4 ipython-autotime-0.3.1 isoweek-1.3.3 jedi-0.18.2 metaphone-0.6 ply-3.11 python-Levenshtein-0.20.8 rapidfuzz-2.13.2 stone-3.3.1\n",
            "Your runtime has 54.8 gigabytes of available RAM\n",
            "\n",
            "You are using a high-RAM runtime!\n",
            "Mounted at /content/drive\n",
            "/content/drive/MyDrive/Colab Notebooks/Cresta\n",
            "/content/drive/MyDrive/Research/Cresta/Empirics/Code\n",
            "Python 3.7.15\n",
            "time: 117 ms (started: 2022-11-30 19:07:53 +00:00)\n"
          ]
        }
      ],
      "source": [
        "!pip install funcy pandas numpy matplotlib seaborn isoweek ipython-autotime import_ipynb fuzzymatcher dropbox\n",
        "\n",
        "\n",
        "from psutil import virtual_memory\n",
        "ram_gb = virtual_memory().total / 1e9\n",
        "print('Your runtime has {:.1f} gigabytes of available RAM\\n'.format(ram_gb))\n",
        "\n",
        "if ram_gb < 20:\n",
        "  print('Not using a high-RAM runtime')\n",
        "else:\n",
        "  print('You are using a high-RAM runtime!')\n",
        "\n",
        "from google.colab import drive\n",
        "drive.mount('/content/drive')\n",
        "\n",
        "## Navigate to collab notebook and import function\n",
        "# https://colab.research.google.com/drive/1nta1E1GbvWw0NknSNhpMPrH39af3HMhj\n",
        "%cd \"/content/drive/MyDrive/Colab Notebooks/Cresta\"\n",
        "%cd \"/content/drive/MyDrive/Research/Cresta/Empirics/Code\"\n",
        "\n",
        "\n",
        "import json\n",
        "import funcy\n",
        "import pandas as pd\n",
        "import os\n",
        "import fuzzymatcher\n",
        "import numpy as np\n",
        "import math\n",
        "import matplotlib.pyplot as plt\n",
        "import seaborn as sns\n",
        "import isoweek\n",
        "import importlib\n",
        "\n",
        "\n",
        "import datetime\n",
        "\n",
        "\n",
        "#import colab_data_construction_helpers\n",
        "import colab_config\n",
        "import colab_data_construction_helpers\n",
        "import process_data_helpers\n",
        "import dropbox_helpers\n",
        "\n",
        "%load_ext autotime\n",
        "\n",
        "%matplotlib inline\n",
        "\n",
        "!python --version"
      ]
    },
    {
      "cell_type": "code",
      "source": [
        "## go through the agents, flag the ones that seems wrong and are missing ifnormation, include the variables and merge \n",
        "\n",
        "from colab_config import root_dir\n",
        "\n",
        "print(root_dir)\n",
        "\n",
        "stata_files_dir = os.path.join(root_dir, 'Data/IntData/merged/stata_files')"
      ],
      "metadata": {
        "id": "Ecmflzjp1w1Y",
        "colab": {
          "base_uri": "https://localhost:8080/"
        },
        "outputId": "f00f82d6-2cbd-4a8b-cc10-39d4f0d53d7a"
      },
      "execution_count": null,
      "outputs": [
        {
          "output_type": "stream",
          "name": "stdout",
          "text": [
            "/content/drive/MyDrive/Research/Cresta/Empirics\n",
            "time: 940 µs (started: 2022-11-30 19:07:53 +00:00)\n"
          ]
        }
      ]
    },
    {
      "cell_type": "code",
      "source": [
        "## import each stata file\n",
        "ana_files = [x for x in os.listdir(stata_files_dir) if x.startswith('intuitCS')]\n",
        "print(ana_files)"
      ],
      "metadata": {
        "colab": {
          "base_uri": "https://localhost:8080/"
        },
        "id": "dy_dv2u85JL3",
        "outputId": "c80db377-87de-4b3f-d808-5bb51b1a88f4"
      },
      "execution_count": null,
      "outputs": [
        {
          "output_type": "stream",
          "name": "stdout",
          "text": [
            "['intuitCS_anaprod_12March2022_1.csv', 'intuitCS_anaprod_12March2022_2.csv', 'intuitCS_anaprod_12March2022_3.csv', 'intuitCS_anaprod_12March2022_4.csv', 'intuitCS_anaprod_12March2022_5.csv', 'intuitCS_anaprod_12March2022_6.csv', 'intuitCS_anaprod_12March2022_7.csv', 'intuitCS_anaprod_12March2022_8.csv']\n",
            "time: 856 ms (started: 2022-11-30 19:07:53 +00:00)\n"
          ]
        }
      ]
    },
    {
      "cell_type": "code",
      "source": [
        "## collect agents who don't match to the roster file"
      ],
      "metadata": {
        "colab": {
          "base_uri": "https://localhost:8080/"
        },
        "id": "_aBfGIlp6ogo",
        "outputId": "64e6febb-388f-4742-faec-0d52d9989061"
      },
      "execution_count": null,
      "outputs": [
        {
          "output_type": "stream",
          "name": "stdout",
          "text": [
            "time: 496 µs (started: 2022-11-30 19:07:54 +00:00)\n"
          ]
        }
      ]
    },
    {
      "cell_type": "code",
      "source": [
        "print(ana_files)"
      ],
      "metadata": {
        "colab": {
          "base_uri": "https://localhost:8080/"
        },
        "id": "xeA1gpib7djJ",
        "outputId": "de45f46b-34d6-4005-f149-1a24b7a2ed7b"
      },
      "execution_count": null,
      "outputs": [
        {
          "output_type": "stream",
          "name": "stdout",
          "text": [
            "['intuitCS_anaprod_12March2022_1.csv', 'intuitCS_anaprod_12March2022_2.csv', 'intuitCS_anaprod_12March2022_3.csv', 'intuitCS_anaprod_12March2022_4.csv', 'intuitCS_anaprod_12March2022_5.csv', 'intuitCS_anaprod_12March2022_6.csv', 'intuitCS_anaprod_12March2022_7.csv', 'intuitCS_anaprod_12March2022_8.csv']\n",
            "time: 554 µs (started: 2022-11-30 19:07:54 +00:00)\n"
          ]
        }
      ]
    },
    {
      "cell_type": "code",
      "source": [
        "fname = os.path.join(stata_files_dir, 'intuitCS_anaprod_12March2022_5.csv')"
      ],
      "metadata": {
        "colab": {
          "base_uri": "https://localhost:8080/"
        },
        "id": "tDXH_QWw59p_",
        "outputId": "fd8936fd-867a-4922-c62e-a4d8c21de74c"
      },
      "execution_count": null,
      "outputs": [
        {
          "output_type": "stream",
          "name": "stdout",
          "text": [
            "time: 590 µs (started: 2022-11-30 19:07:54 +00:00)\n"
          ]
        }
      ]
    },
    {
      "cell_type": "code",
      "source": [
        "df = pd.read_csv(fname)"
      ],
      "metadata": {
        "colab": {
          "base_uri": "https://localhost:8080/"
        },
        "id": "l8oZxrGQWkcX",
        "outputId": "c394aa85-c79a-451b-cc98-f138b03307c8"
      },
      "execution_count": null,
      "outputs": [
        {
          "output_type": "stream",
          "name": "stderr",
          "text": [
            "/usr/local/lib/python3.7/dist-packages/IPython/core/interactiveshell.py:3326: DtypeWarning: Columns (0) have mixed types.Specify dtype option on import or set low_memory=False.\n",
            "  exec(code_obj, self.user_global_ns, self.user_ns)\n"
          ]
        },
        {
          "output_type": "stream",
          "name": "stdout",
          "text": [
            "time: 42.3 s (started: 2022-11-30 19:07:54 +00:00)\n"
          ]
        }
      ]
    },
    {
      "cell_type": "code",
      "source": [
        "text_fname = '/content/drive/MyDrive/Research/Cresta/Empirics/Data/IntData/merged/merged_prod_ana_usernameupdate/intuitCS_anaprod_12March2022_5.csv'\n",
        "chat_level_df = process_data_helpers.load_merged_file(text_fname, include_text=True)"
      ],
      "metadata": {
        "colab": {
          "base_uri": "https://localhost:8080/"
        },
        "id": "rvkLpW5057N_",
        "outputId": "29ff267b-2148-40ee-8acd-c2243acc1f17"
      },
      "execution_count": null,
      "outputs": [
        {
          "output_type": "stream",
          "name": "stderr",
          "text": [
            "/usr/local/lib/python3.7/dist-packages/ipykernel_launcher.py:2: DtypeWarning: Columns (3,20) have mixed types.Specify dtype option on import or set low_memory=False.\n",
            "  \n"
          ]
        },
        {
          "output_type": "stream",
          "name": "stdout",
          "text": [
            "time: 5min 55s (started: 2022-11-30 19:08:36 +00:00)\n"
          ]
        }
      ]
    },
    {
      "cell_type": "code",
      "source": [
        "chat_level_df['chat_firstconversation'].value_counts()"
      ],
      "metadata": {
        "colab": {
          "base_uri": "https://localhost:8080/"
        },
        "id": "cO4ncF6DAG3H",
        "outputId": "dbe25937-839d-4991-bc6e-46a8616e1924"
      },
      "execution_count": null,
      "outputs": [
        {
          "output_type": "execute_result",
          "data": {
            "text/plain": [
              "True     637443\n",
              "False    400906\n",
              "Name: chat_firstconversation, dtype: int64"
            ]
          },
          "metadata": {},
          "execution_count": 15
        },
        {
          "output_type": "stream",
          "name": "stdout",
          "text": [
            "time: 15.8 ms (started: 2022-11-30 19:25:44 +00:00)\n"
          ]
        }
      ]
    },
    {
      "cell_type": "code",
      "source": [
        "eval(chat_level_df.loc[((chat_level_df['chat_firstconversation']==False) & (chat_level_df['number_messages_agent']<=5)), 'sorted_chat_text'].values[200])\n"
      ],
      "metadata": {
        "colab": {
          "base_uri": "https://localhost:8080/"
        },
        "id": "dNTllhoh6AnD",
        "outputId": "2e431d08-8225-4360-d54c-6b63d75e686c"
      },
      "execution_count": null,
      "outputs": [
        {
          "output_type": "execute_result",
          "data": {
            "text/plain": [
              "[{'chat_text': '..................\\n Salesforce Case Number (Type): ${SSN} \\n Customers Question (Role): I cancelled my Quickbooks account years ago yet you continue to invoice my credit card._GAB Consultancy \\n Customer Email (Social ID): ${EMAIL} \\n Customer Name (UserName): Greg_Brower \\n \\n All values (Store Number):  workgroup:carepropremopsec;What best describes your issue?:Billing Inquiry;  ',\n",
              "  'speaker_role': 'visitor',\n",
              "  'pub_date': '2020-12-02T18:36:33.239'},\n",
              " {'chat_text': 'Why am I still being invoiced for a quickbooks account I cancelled years ago?',\n",
              "  'speaker_role': 'visitor',\n",
              "  'pub_date': '2020-12-02T18:38:35.288'},\n",
              " {'chat_text': 'are you there???',\n",
              "  'speaker_role': 'visitor',\n",
              "  'pub_date': '2020-12-02T18:45:03.785'},\n",
              " {'chat_text': '..................\\n Salesforce Case Number (Type): ${SSN} \\n Customers Question (Role): Why am I being billed when I cancelled over 2 years ago?_GAB Consultance \\n Customer Email (Social ID): ${EMAIL} \\n Customer Name (UserName): Greg_Brower \\n \\n All values (Store Number):  workgroup:carepropremopsec;What best describes your issue?:Billing Inquiry;  ',\n",
              "  'speaker_role': 'visitor',\n",
              "  'pub_date': '2020-12-02T18:57:09.588'},\n",
              " {'chat_text': 'Hello?',\n",
              "  'speaker_role': 'visitor',\n",
              "  'pub_date': '2020-12-02T18:58:34.831'},\n",
              " {'chat_text': \"Hi! Thank you for messaging Intuit QuickBooks Pro Premier. My name is Dindo. I hope you are doing well today. I'll be happy to assist your with your concern.\",\n",
              "  'speaker_role': 'agent',\n",
              "  'pub_date': '2020-12-02T20:23:26.352'},\n",
              " {'chat_text': \"I don't mean to rush you, are you still with me?\",\n",
              "  'speaker_role': 'agent',\n",
              "  'pub_date': '2020-12-02T20:26:21.843'},\n",
              " {'chat_text': 'It seems that you may have stepped away from your computer to attend other important matters. But when you get a chance, please reach back out to us and we`ll do our best to resolve the issue in a quickest way possible.',\n",
              "  'speaker_role': 'agent',\n",
              "  'pub_date': '2020-12-02T20:27:39.988'},\n",
              " {'chat_text': 'Sadly, at this time I have to leave this conversation due to lack of response. Please respond here though if you need further assistance and someone can pick up where we left off. Have a great day.',\n",
              "  'speaker_role': 'agent',\n",
              "  'pub_date': '2020-12-02T20:28:45.821'}]"
            ]
          },
          "metadata": {},
          "execution_count": 41
        },
        {
          "output_type": "stream",
          "name": "stdout",
          "text": [
            "time: 29.8 ms (started: 2022-11-30 19:45:11 +00:00)\n"
          ]
        }
      ]
    },
    {
      "cell_type": "code",
      "source": [
        "chat_level"
      ],
      "metadata": {
        "id": "mGMseSoxGwZM"
      },
      "execution_count": null,
      "outputs": []
    },
    {
      "cell_type": "code",
      "source": [],
      "metadata": {
        "id": "cICX7vWjBt_p"
      },
      "execution_count": null,
      "outputs": []
    },
    {
      "cell_type": "code",
      "source": [
        "list(filter(lambda x: x['speaker_role']=='agent', eval(chat_level_df.loc[chat_level_df['chat_firstconversation']==True, 'sorted_chat_text'].values[4]))))"
      ],
      "metadata": {
        "colab": {
          "base_uri": "https://localhost:8080/"
        },
        "id": "8wDmnB4RBHu2",
        "outputId": "98830be6-1131-4b5a-e2ed-44fbd74a1599"
      },
      "execution_count": null,
      "outputs": [
        {
          "output_type": "execute_result",
          "data": {
            "text/plain": [
              "17"
            ]
          },
          "metadata": {},
          "execution_count": 27
        },
        {
          "output_type": "stream",
          "name": "stdout",
          "text": [
            "time: 96.9 ms (started: 2022-11-30 19:31:14 +00:00)\n"
          ]
        }
      ]
    },
    {
      "cell_type": "code",
      "source": [
        "\n",
        "sorted(chat_level_df.columns)"
      ],
      "metadata": {
        "colab": {
          "base_uri": "https://localhost:8080/"
        },
        "id": "vVVb_QRy6R1Z",
        "outputId": "c545bb10-9bfd-4e47-f07f-b5a38482d90e"
      },
      "execution_count": null,
      "outputs": [
        {
          "output_type": "execute_result",
          "data": {
            "text/plain": [
              "['_kpis_merge',\n",
              " '_roster_merge',\n",
              " 'agent_chat_text',\n",
              " 'agent_created_at_prod',\n",
              " 'agent_date_maxdate',\n",
              " 'agent_date_mindate',\n",
              " 'agent_platform_id',\n",
              " 'agent_platform_id_agg',\n",
              " 'agent_team',\n",
              " 'agent_team_id_agg_prod',\n",
              " 'agent_team_id_prod',\n",
              " 'agent_tenure_days',\n",
              " 'agent_tenure_months',\n",
              " 'agent_user_id_prod',\n",
              " 'aht',\n",
              " 'ai_start_maxdate_prod',\n",
              " 'ai_start_mindate_prod',\n",
              " 'ai_start_minmaxdatediff_prod',\n",
              " 'ana_n_messages_agent',\n",
              " 'ana_n_messages_visitor',\n",
              " 'ana_number_messages',\n",
              " 'analytics_chat_db_id',\n",
              " 'api_source',\n",
              " 'behaviors_needing_coaching_prod',\n",
              " 'chat_agentdeleted',\n",
              " 'chat_closereason',\n",
              " 'chat_closereasondescr',\n",
              " 'chat_date',\n",
              " 'chat_duration_minutes',\n",
              " 'chat_features',\n",
              " 'chat_firstconversation',\n",
              " 'chat_isoweek_date',\n",
              " 'chat_month_date',\n",
              " 'chat_start_datetime',\n",
              " 'chat_status',\n",
              " 'chat_surveys',\n",
              " 'chat_text',\n",
              " 'company',\n",
              " 'company_kpis',\n",
              " 'correct_expert_corp_login',\n",
              " 'correct_expert_name',\n",
              " 'correct_universal_agent_username',\n",
              " 'cresta_receptivity',\n",
              " 'days_since_ai_start_mindate',\n",
              " 'diff',\n",
              " 'disinct_hints',\n",
              " 'email',\n",
              " 'expert_corp_login',\n",
              " 'expert_name',\n",
              " 'first_nonystem_message',\n",
              " 'flag',\n",
              " 'flag_agent_end_truncated',\n",
              " 'flag_agent_start_truncated',\n",
              " 'flag_ai_on_maxdate',\n",
              " 'flag_ai_on_mindate',\n",
              " 'flag_binary_manager',\n",
              " 'flag_binary_transfer',\n",
              " 'flag_closeagent',\n",
              " 'flag_deleted',\n",
              " 'flag_ever_ai',\n",
              " 'flag_manager',\n",
              " 'flag_manager_ana',\n",
              " 'flag_manager_prod',\n",
              " 'flag_manualclose',\n",
              " 'flag_never_ai',\n",
              " 'flag_notpartial',\n",
              " 'flag_receptive_noninactive',\n",
              " 'flag_resolved',\n",
              " 'flag_transfer',\n",
              " 'flag_transfer_ana',\n",
              " 'flag_transfer_prod',\n",
              " 'guidance_hints',\n",
              " 'handle_count',\n",
              " 'inactivity_hints',\n",
              " 'ispartial',\n",
              " 'issue_resolution',\n",
              " 'kb_suggestion_text',\n",
              " 'kpi_month_date',\n",
              " 'lr_full_name',\n",
              " 'manager',\n",
              " 'max_chat_date_ana',\n",
              " 'min_chat_date_ana',\n",
              " 'n_followed_hints',\n",
              " 'n_messages_agent',\n",
              " 'n_messages_visitor',\n",
              " 'n_suggestions_shown',\n",
              " 'n_used_suggestion_id',\n",
              " 'number_chats_kpis',\n",
              " 'number_chats_usage_kpis',\n",
              " 'number_entries',\n",
              " 'number_hints_followed_kpis',\n",
              " 'number_hints_received_kpis',\n",
              " 'number_instantsend_suggestions',\n",
              " 'number_kb_suggestions',\n",
              " 'number_messages',\n",
              " 'number_messages_agent',\n",
              " 'number_messages_all',\n",
              " 'number_messages_per_chat_kpis',\n",
              " 'number_messages_visitor',\n",
              " 'number_sc_inserted',\n",
              " 'number_sc_per_chat_kpis',\n",
              " 'number_surveys_kpis',\n",
              " 'platform_chat_id',\n",
              " 'platform_chat_skillname',\n",
              " 'positive_reinforce_hints',\n",
              " 'proactive_hints',\n",
              " 'prod_ana_merge',\n",
              " 'prod_chat_id',\n",
              " 'react_game_hints',\n",
              " 'receptivity',\n",
              " 'roster_team',\n",
              " 'sc_ai_used',\n",
              " 'sc_coach_used',\n",
              " 'sc_suggestions_used',\n",
              " 'scored_hints',\n",
              " 'sorted_chat_text',\n",
              " 'survey_count',\n",
              " 'team_name_agg_prod',\n",
              " 'team_name_prod',\n",
              " 'tnps',\n",
              " 'total_asst_per_chat_kpis',\n",
              " 'total_number_hints',\n",
              " 'universal_agent_username',\n",
              " 'user_distinct_weeks_p',\n",
              " 'user_id',\n",
              " 'user_id_prod',\n",
              " 'user_location',\n",
              " 'user_max_chat_date_p',\n",
              " 'user_min_chat_date_p',\n",
              " 'user_platform_id',\n",
              " 'user_platform_id_prod',\n",
              " 'user_role_name_agg_prod',\n",
              " 'user_role_name_prod',\n",
              " 'user_str_id_prod',\n",
              " 'username_prod',\n",
              " 'visitor_chat_text',\n",
              " 'visitor_platform_id',\n",
              " 'weeks_since_ai_start_mindate']"
            ]
          },
          "metadata": {},
          "execution_count": 14
        },
        {
          "output_type": "stream",
          "name": "stdout",
          "text": [
            "time: 7.19 ms (started: 2022-11-30 19:24:48 +00:00)\n"
          ]
        }
      ]
    },
    {
      "cell_type": "code",
      "source": [
        "'n_messages_agent',\n",
        " 'n_messages_visitor',\n",
        " 'n_suggestions_shown',\n",
        " 'n_used_suggestion_id',\n",
        " 'number_distinct_usernames',\n",
        " 'number_instantsend_suggestions',\n",
        " 'number_kb_suggestions',\n",
        " 'number_messages_agent',\n",
        " 'number_messages_all',\n",
        " 'number_messages_visitor',"
      ],
      "metadata": {
        "id": "kWibcME93WIZ"
      },
      "execution_count": null,
      "outputs": []
    },
    {
      "cell_type": "code",
      "source": [
        "## check which n_messages is right\n",
        "print(np.mean(df['number_messages_all'] == df[ 'number_messages_agent']+df[ 'number_messages_visitor']))\n",
        "print(np.mean(df['number_messages_agent'] == df[ 'n_messages_agent']))\n",
        "print(np.mean(df['number_messages_visitor'] == df[ 'n_messages_visitor']))"
      ],
      "metadata": {
        "colab": {
          "base_uri": "https://localhost:8080/"
        },
        "id": "YZfuWNNGjjnS",
        "outputId": "63562721-09a0-4f36-9656-9111e46ed73f"
      },
      "execution_count": null,
      "outputs": [
        {
          "output_type": "stream",
          "name": "stdout",
          "text": [
            "1.0\n",
            "0.10002426978758157\n",
            "0.03814112688861323\n",
            "time: 24.4 ms (started: 2022-11-30 18:53:01 +00:00)\n"
          ]
        }
      ]
    },
    {
      "cell_type": "code",
      "source": [
        "print(np.mean(df['flag_firstconversation']))"
      ],
      "metadata": {
        "colab": {
          "base_uri": "https://localhost:8080/"
        },
        "id": "9tnO7OKk5kFN",
        "outputId": "909f569c-35d7-4c83-81f8-450eff53dd07"
      },
      "execution_count": null,
      "outputs": [
        {
          "output_type": "stream",
          "name": "stdout",
          "text": [
            "0.6139013876154741\n",
            "time: 24 ms (started: 2022-11-30 18:57:12 +00:00)\n"
          ]
        }
      ]
    },
    {
      "cell_type": "code",
      "source": [
        "df.loc[df['number_messages_agent']==5, 'platform_chat_id']"
      ],
      "metadata": {
        "colab": {
          "base_uri": "https://localhost:8080/"
        },
        "id": "7G-fju3q4FRk",
        "outputId": "f034cc29-b2f2-4101-f7d3-c57f3882c23f"
      },
      "execution_count": null,
      "outputs": [
        {
          "output_type": "execute_result",
          "data": {
            "text/plain": [
              "17         9e0dd2e5-e636-4503-b724-d5d2db4630b8\n",
              "18         9e0dd2e5-e636-4503-b724-d5d2db4630b8\n",
              "97         84cac983-8e78-4507-abed-ad5beb36aba9\n",
              "150        95c35413-589c-4a46-ba0c-06b9d943080a\n",
              "196        a6b2f518-9f26-4d73-bac7-ad57176ce389\n",
              "                           ...                 \n",
              "1038278    b79e7643-2b8e-4109-9a3a-59492380fa81\n",
              "1038294    316f916c-ec44-443a-99be-ba868508095d\n",
              "1038295    316f916c-ec44-443a-99be-ba868508095d\n",
              "1038316    708a16c6-c306-41f7-ad50-0b84899caa5f\n",
              "1038317    708a16c6-c306-41f7-ad50-0b84899caa5f\n",
              "Name: platform_chat_id, Length: 33905, dtype: object"
            ]
          },
          "metadata": {},
          "execution_count": 31
        },
        {
          "output_type": "stream",
          "name": "stdout",
          "text": [
            "time: 40.2 ms (started: 2022-11-30 18:58:17 +00:00)\n"
          ]
        }
      ]
    },
    {
      "cell_type": "code",
      "source": [
        "df['n_chats'] = df.groupby('correct_universal_agent_username')['correct_universal_agent_username'].transform('count')"
      ],
      "metadata": {
        "colab": {
          "base_uri": "https://localhost:8080/"
        },
        "id": "-cGGlOeeW0hu",
        "outputId": "745fb32e-b75d-4a62-f4ac-5b768a28fd56"
      },
      "execution_count": null,
      "outputs": [
        {
          "output_type": "stream",
          "name": "stdout",
          "text": [
            "time: 246 ms (started: 2022-11-29 21:59:44 +00:00)\n"
          ]
        }
      ]
    },
    {
      "cell_type": "code",
      "source": [
        "df.drop_duplicates('correct_universal_agent_username')['n_chats'].sum()"
      ],
      "metadata": {
        "colab": {
          "base_uri": "https://localhost:8080/"
        },
        "id": "2N747s9JZzno",
        "outputId": "5535428d-a23f-463c-c94a-0ef2368225f0"
      },
      "execution_count": null,
      "outputs": [
        {
          "output_type": "execute_result",
          "data": {
            "text/plain": [
              "401656"
            ]
          },
          "metadata": {},
          "execution_count": 66
        },
        {
          "output_type": "stream",
          "name": "stdout",
          "text": [
            "time: 137 ms (started: 2022-11-29 22:00:38 +00:00)\n"
          ]
        }
      ]
    },
    {
      "cell_type": "code",
      "source": [
        "df.shape"
      ],
      "metadata": {
        "colab": {
          "base_uri": "https://localhost:8080/"
        },
        "id": "zgCCpBoXZ19I",
        "outputId": "c7700234-cd7e-4feb-d68b-4fefdf5a497e"
      },
      "execution_count": null,
      "outputs": [
        {
          "output_type": "execute_result",
          "data": {
            "text/plain": [
              "(401656, 106)"
            ]
          },
          "metadata": {},
          "execution_count": 64
        },
        {
          "output_type": "stream",
          "name": "stdout",
          "text": [
            "time: 17.1 ms (started: 2022-11-29 21:59:59 +00:00)\n"
          ]
        }
      ]
    },
    {
      "cell_type": "code",
      "source": [
        "df.groupby('correct_universal_agent_username')['correct_universal_agent_username'].transform('size')"
      ],
      "metadata": {
        "colab": {
          "base_uri": "https://localhost:8080/"
        },
        "id": "wtREaQGheK19",
        "outputId": "3a1a04a1-c5b4-4ce2-89a6-ceaf146f9fc9"
      },
      "execution_count": null,
      "outputs": [
        {
          "output_type": "execute_result",
          "data": {
            "text/plain": [
              "0          824\n",
              "1          824\n",
              "2          240\n",
              "3         1620\n",
              "4         1620\n",
              "          ... \n",
              "638695    1446\n",
              "638696    1098\n",
              "638697    1098\n",
              "638698     176\n",
              "638699     176\n",
              "Name: correct_universal_agent_username, Length: 638700, dtype: int64"
            ]
          },
          "metadata": {},
          "execution_count": 99
        },
        {
          "output_type": "stream",
          "name": "stdout",
          "text": [
            "time: 73.9 ms (started: 2022-11-29 22:20:04 +00:00)\n"
          ]
        }
      ]
    },
    {
      "cell_type": "code",
      "source": [
        "missing_agents = []\n",
        "test = [] ## also include a test case to see why the number of chats is off \n",
        "for f in ana_files:\n",
        "    print(f)\n",
        "    df = pd.read_csv(os.path.join(stata_files_dir, f))\n",
        "    ### get all users who are \n",
        "    df['n_chats'] = df.groupby('correct_universal_agent_username')['correct_universal_agent_username'].transform('size')\n",
        "    test.append(df.loc[df['lr_full_name']=='Aaron Jauch', :].copy())\n",
        "    left_only_agents = df.loc[(df['_roster_merge']=='left_only'), :].drop_duplicates('correct_universal_agent_username')\n",
        "    missing_agents.append(left_only_agents.copy())"
      ],
      "metadata": {
        "colab": {
          "base_uri": "https://localhost:8080/"
        },
        "id": "6Hf6nnH55OLm",
        "outputId": "2f2ed943-e513-44f0-c962-451cacd95726"
      },
      "execution_count": null,
      "outputs": [
        {
          "output_type": "stream",
          "name": "stdout",
          "text": [
            "intuitCS_anaprod_12March2022_1.csv\n",
            "intuitCS_anaprod_12March2022_2.csv\n",
            "intuitCS_anaprod_12March2022_3.csv\n"
          ]
        },
        {
          "output_type": "stream",
          "name": "stderr",
          "text": [
            "/usr/local/lib/python3.7/dist-packages/IPython/core/interactiveshell.py:3326: DtypeWarning: Columns (49,50,51,52,55,56,57,58) have mixed types.Specify dtype option on import or set low_memory=False.\n",
            "  exec(code_obj, self.user_global_ns, self.user_ns)\n"
          ]
        },
        {
          "output_type": "stream",
          "name": "stdout",
          "text": [
            "intuitCS_anaprod_12March2022_4.csv\n",
            "intuitCS_anaprod_12March2022_5.csv\n"
          ]
        },
        {
          "output_type": "stream",
          "name": "stderr",
          "text": [
            "/usr/local/lib/python3.7/dist-packages/IPython/core/interactiveshell.py:3326: DtypeWarning: Columns (0) have mixed types.Specify dtype option on import or set low_memory=False.\n",
            "  exec(code_obj, self.user_global_ns, self.user_ns)\n"
          ]
        },
        {
          "output_type": "stream",
          "name": "stdout",
          "text": [
            "intuitCS_anaprod_12March2022_6.csv\n",
            "intuitCS_anaprod_12March2022_7.csv\n"
          ]
        },
        {
          "output_type": "stream",
          "name": "stderr",
          "text": [
            "/usr/local/lib/python3.7/dist-packages/IPython/core/interactiveshell.py:3326: DtypeWarning: Columns (34,54) have mixed types.Specify dtype option on import or set low_memory=False.\n",
            "  exec(code_obj, self.user_global_ns, self.user_ns)\n"
          ]
        },
        {
          "output_type": "stream",
          "name": "stdout",
          "text": [
            "intuitCS_anaprod_12March2022_8.csv\n"
          ]
        },
        {
          "output_type": "stream",
          "name": "stderr",
          "text": [
            "/usr/local/lib/python3.7/dist-packages/IPython/core/interactiveshell.py:3326: DtypeWarning: Columns (34) have mixed types.Specify dtype option on import or set low_memory=False.\n",
            "  exec(code_obj, self.user_global_ns, self.user_ns)\n"
          ]
        },
        {
          "output_type": "stream",
          "name": "stdout",
          "text": [
            "time: 3min 17s (started: 2022-11-29 22:20:18 +00:00)\n"
          ]
        }
      ]
    },
    {
      "cell_type": "code",
      "source": [
        "test_df = pd.concat(test, axis=0)\n",
        "print(test_df.shape)"
      ],
      "metadata": {
        "colab": {
          "base_uri": "https://localhost:8080/"
        },
        "id": "h7yy5fRqdPSV",
        "outputId": "afac263f-5a67-4e5f-8f25-1f2fa1fd6161"
      },
      "execution_count": null,
      "outputs": [
        {
          "output_type": "stream",
          "name": "stdout",
          "text": [
            "(778, 107)\n",
            "time: 68.9 ms (started: 2022-11-29 22:24:29 +00:00)\n"
          ]
        }
      ]
    },
    {
      "cell_type": "code",
      "source": [
        "# collect these agents into a single dataframe\n",
        "missing_agents_df = pd.concat(missing_agents, axis=0)\n",
        "print(missing_agents_df.shape)"
      ],
      "metadata": {
        "colab": {
          "base_uri": "https://localhost:8080/"
        },
        "id": "86xTDriT6D1H",
        "outputId": "46ecbcf4-7bfa-45a0-9e9c-d087d03fa58a"
      },
      "execution_count": null,
      "outputs": [
        {
          "output_type": "stream",
          "name": "stdout",
          "text": [
            "(11500, 107)\n",
            "time: 82.4 ms (started: 2022-11-29 22:23:59 +00:00)\n"
          ]
        }
      ]
    },
    {
      "cell_type": "code",
      "source": [
        "missing_agents_df.loc[missing_agents_df['lr_full_name']=='Aaron Jauch', ['n_chats', 'correct_universal_agent_username']]"
      ],
      "metadata": {
        "colab": {
          "base_uri": "https://localhost:8080/",
          "height": 193
        },
        "id": "Jb37ox1JccCe",
        "outputId": "760c5c9e-24ef-408a-bd03-5b75ebd36913"
      },
      "execution_count": null,
      "outputs": [
        {
          "output_type": "execute_result",
          "data": {
            "text/plain": [
              "         n_chats correct_universal_agent_username\n",
              "79690        778                        aaronj385\n",
              "566095       778                        aaronj385\n",
              "29624        778                        aaronj385\n",
              "1062377      778                        aaronj385"
            ],
            "text/html": [
              "\n",
              "  <div id=\"df-be6ddbad-6fe1-4c97-8233-615df4cc74b3\">\n",
              "    <div class=\"colab-df-container\">\n",
              "      <div>\n",
              "<style scoped>\n",
              "    .dataframe tbody tr th:only-of-type {\n",
              "        vertical-align: middle;\n",
              "    }\n",
              "\n",
              "    .dataframe tbody tr th {\n",
              "        vertical-align: top;\n",
              "    }\n",
              "\n",
              "    .dataframe thead th {\n",
              "        text-align: right;\n",
              "    }\n",
              "</style>\n",
              "<table border=\"1\" class=\"dataframe\">\n",
              "  <thead>\n",
              "    <tr style=\"text-align: right;\">\n",
              "      <th></th>\n",
              "      <th>n_chats</th>\n",
              "      <th>correct_universal_agent_username</th>\n",
              "    </tr>\n",
              "  </thead>\n",
              "  <tbody>\n",
              "    <tr>\n",
              "      <th>79690</th>\n",
              "      <td>778</td>\n",
              "      <td>aaronj385</td>\n",
              "    </tr>\n",
              "    <tr>\n",
              "      <th>566095</th>\n",
              "      <td>778</td>\n",
              "      <td>aaronj385</td>\n",
              "    </tr>\n",
              "    <tr>\n",
              "      <th>29624</th>\n",
              "      <td>778</td>\n",
              "      <td>aaronj385</td>\n",
              "    </tr>\n",
              "    <tr>\n",
              "      <th>1062377</th>\n",
              "      <td>778</td>\n",
              "      <td>aaronj385</td>\n",
              "    </tr>\n",
              "  </tbody>\n",
              "</table>\n",
              "</div>\n",
              "      <button class=\"colab-df-convert\" onclick=\"convertToInteractive('df-be6ddbad-6fe1-4c97-8233-615df4cc74b3')\"\n",
              "              title=\"Convert this dataframe to an interactive table.\"\n",
              "              style=\"display:none;\">\n",
              "        \n",
              "  <svg xmlns=\"http://www.w3.org/2000/svg\" height=\"24px\"viewBox=\"0 0 24 24\"\n",
              "       width=\"24px\">\n",
              "    <path d=\"M0 0h24v24H0V0z\" fill=\"none\"/>\n",
              "    <path d=\"M18.56 5.44l.94 2.06.94-2.06 2.06-.94-2.06-.94-.94-2.06-.94 2.06-2.06.94zm-11 1L8.5 8.5l.94-2.06 2.06-.94-2.06-.94L8.5 2.5l-.94 2.06-2.06.94zm10 10l.94 2.06.94-2.06 2.06-.94-2.06-.94-.94-2.06-.94 2.06-2.06.94z\"/><path d=\"M17.41 7.96l-1.37-1.37c-.4-.4-.92-.59-1.43-.59-.52 0-1.04.2-1.43.59L10.3 9.45l-7.72 7.72c-.78.78-.78 2.05 0 2.83L4 21.41c.39.39.9.59 1.41.59.51 0 1.02-.2 1.41-.59l7.78-7.78 2.81-2.81c.8-.78.8-2.07 0-2.86zM5.41 20L4 18.59l7.72-7.72 1.47 1.35L5.41 20z\"/>\n",
              "  </svg>\n",
              "      </button>\n",
              "      \n",
              "  <style>\n",
              "    .colab-df-container {\n",
              "      display:flex;\n",
              "      flex-wrap:wrap;\n",
              "      gap: 12px;\n",
              "    }\n",
              "\n",
              "    .colab-df-convert {\n",
              "      background-color: #E8F0FE;\n",
              "      border: none;\n",
              "      border-radius: 50%;\n",
              "      cursor: pointer;\n",
              "      display: none;\n",
              "      fill: #1967D2;\n",
              "      height: 32px;\n",
              "      padding: 0 0 0 0;\n",
              "      width: 32px;\n",
              "    }\n",
              "\n",
              "    .colab-df-convert:hover {\n",
              "      background-color: #E2EBFA;\n",
              "      box-shadow: 0px 1px 2px rgba(60, 64, 67, 0.3), 0px 1px 3px 1px rgba(60, 64, 67, 0.15);\n",
              "      fill: #174EA6;\n",
              "    }\n",
              "\n",
              "    [theme=dark] .colab-df-convert {\n",
              "      background-color: #3B4455;\n",
              "      fill: #D2E3FC;\n",
              "    }\n",
              "\n",
              "    [theme=dark] .colab-df-convert:hover {\n",
              "      background-color: #434B5C;\n",
              "      box-shadow: 0px 1px 3px 1px rgba(0, 0, 0, 0.15);\n",
              "      filter: drop-shadow(0px 1px 2px rgba(0, 0, 0, 0.3));\n",
              "      fill: #FFFFFF;\n",
              "    }\n",
              "  </style>\n",
              "\n",
              "      <script>\n",
              "        const buttonEl =\n",
              "          document.querySelector('#df-be6ddbad-6fe1-4c97-8233-615df4cc74b3 button.colab-df-convert');\n",
              "        buttonEl.style.display =\n",
              "          google.colab.kernel.accessAllowed ? 'block' : 'none';\n",
              "\n",
              "        async function convertToInteractive(key) {\n",
              "          const element = document.querySelector('#df-be6ddbad-6fe1-4c97-8233-615df4cc74b3');\n",
              "          const dataTable =\n",
              "            await google.colab.kernel.invokeFunction('convertToInteractive',\n",
              "                                                     [key], {});\n",
              "          if (!dataTable) return;\n",
              "\n",
              "          const docLinkHtml = 'Like what you see? Visit the ' +\n",
              "            '<a target=\"_blank\" href=https://colab.research.google.com/notebooks/data_table.ipynb>data table notebook</a>'\n",
              "            + ' to learn more about interactive tables.';\n",
              "          element.innerHTML = '';\n",
              "          dataTable['output_type'] = 'display_data';\n",
              "          await google.colab.output.renderOutput(dataTable, element);\n",
              "          const docLink = document.createElement('div');\n",
              "          docLink.innerHTML = docLinkHtml;\n",
              "          element.appendChild(docLink);\n",
              "        }\n",
              "      </script>\n",
              "    </div>\n",
              "  </div>\n",
              "  "
            ]
          },
          "metadata": {},
          "execution_count": 115
        },
        {
          "output_type": "stream",
          "name": "stdout",
          "text": [
            "time: 64.2 ms (started: 2022-11-29 22:24:16 +00:00)\n"
          ]
        }
      ]
    },
    {
      "cell_type": "code",
      "source": [
        "missing_agents_df['n_chats'] = missing_agents_df.groupby('correct_universal_agent_username')['n_chats'].transform('sum')"
      ],
      "metadata": {
        "colab": {
          "base_uri": "https://localhost:8080/"
        },
        "id": "dtl-ZuZcW62y",
        "outputId": "dcf95256-5b1a-4669-de2a-449c921c736b"
      },
      "execution_count": null,
      "outputs": [
        {
          "output_type": "stream",
          "name": "stdout",
          "text": [
            "time: 34 ms (started: 2022-11-29 22:24:12 +00:00)\n"
          ]
        }
      ]
    },
    {
      "cell_type": "code",
      "source": [
        "missing_agents_df['n_chats'].mean()"
      ],
      "metadata": {
        "colab": {
          "base_uri": "https://localhost:8080/"
        },
        "id": "Qo_oQbdYXwI1",
        "outputId": "9a4eeec7-4d72-4bd9-d33b-1df48ef3bb3f"
      },
      "execution_count": null,
      "outputs": [
        {
          "output_type": "execute_result",
          "data": {
            "text/plain": [
              "1163.7492173913045"
            ]
          },
          "metadata": {},
          "execution_count": 114
        },
        {
          "output_type": "stream",
          "name": "stdout",
          "text": [
            "time: 5.84 ms (started: 2022-11-29 22:24:14 +00:00)\n"
          ]
        }
      ]
    },
    {
      "cell_type": "code",
      "source": [
        "missing_agents_df.loc[missing_agents_df['lr_full_name']=='Aaron Jauch', ['n_chats', 'correct_universal_agent_username']]"
      ],
      "metadata": {
        "colab": {
          "base_uri": "https://localhost:8080/",
          "height": 193
        },
        "id": "hwf5Vae-fbar",
        "outputId": "20d9f5c3-aef4-4207-8011-180c93ed8f47"
      },
      "execution_count": null,
      "outputs": [
        {
          "output_type": "execute_result",
          "data": {
            "text/plain": [
              "         n_chats correct_universal_agent_username\n",
              "79690        778                        aaronj385\n",
              "566095       778                        aaronj385\n",
              "29624        778                        aaronj385\n",
              "1062377      778                        aaronj385"
            ],
            "text/html": [
              "\n",
              "  <div id=\"df-1c00bde8-4961-4b02-a0fc-543a4f855e59\">\n",
              "    <div class=\"colab-df-container\">\n",
              "      <div>\n",
              "<style scoped>\n",
              "    .dataframe tbody tr th:only-of-type {\n",
              "        vertical-align: middle;\n",
              "    }\n",
              "\n",
              "    .dataframe tbody tr th {\n",
              "        vertical-align: top;\n",
              "    }\n",
              "\n",
              "    .dataframe thead th {\n",
              "        text-align: right;\n",
              "    }\n",
              "</style>\n",
              "<table border=\"1\" class=\"dataframe\">\n",
              "  <thead>\n",
              "    <tr style=\"text-align: right;\">\n",
              "      <th></th>\n",
              "      <th>n_chats</th>\n",
              "      <th>correct_universal_agent_username</th>\n",
              "    </tr>\n",
              "  </thead>\n",
              "  <tbody>\n",
              "    <tr>\n",
              "      <th>79690</th>\n",
              "      <td>778</td>\n",
              "      <td>aaronj385</td>\n",
              "    </tr>\n",
              "    <tr>\n",
              "      <th>566095</th>\n",
              "      <td>778</td>\n",
              "      <td>aaronj385</td>\n",
              "    </tr>\n",
              "    <tr>\n",
              "      <th>29624</th>\n",
              "      <td>778</td>\n",
              "      <td>aaronj385</td>\n",
              "    </tr>\n",
              "    <tr>\n",
              "      <th>1062377</th>\n",
              "      <td>778</td>\n",
              "      <td>aaronj385</td>\n",
              "    </tr>\n",
              "  </tbody>\n",
              "</table>\n",
              "</div>\n",
              "      <button class=\"colab-df-convert\" onclick=\"convertToInteractive('df-1c00bde8-4961-4b02-a0fc-543a4f855e59')\"\n",
              "              title=\"Convert this dataframe to an interactive table.\"\n",
              "              style=\"display:none;\">\n",
              "        \n",
              "  <svg xmlns=\"http://www.w3.org/2000/svg\" height=\"24px\"viewBox=\"0 0 24 24\"\n",
              "       width=\"24px\">\n",
              "    <path d=\"M0 0h24v24H0V0z\" fill=\"none\"/>\n",
              "    <path d=\"M18.56 5.44l.94 2.06.94-2.06 2.06-.94-2.06-.94-.94-2.06-.94 2.06-2.06.94zm-11 1L8.5 8.5l.94-2.06 2.06-.94-2.06-.94L8.5 2.5l-.94 2.06-2.06.94zm10 10l.94 2.06.94-2.06 2.06-.94-2.06-.94-.94-2.06-.94 2.06-2.06.94z\"/><path d=\"M17.41 7.96l-1.37-1.37c-.4-.4-.92-.59-1.43-.59-.52 0-1.04.2-1.43.59L10.3 9.45l-7.72 7.72c-.78.78-.78 2.05 0 2.83L4 21.41c.39.39.9.59 1.41.59.51 0 1.02-.2 1.41-.59l7.78-7.78 2.81-2.81c.8-.78.8-2.07 0-2.86zM5.41 20L4 18.59l7.72-7.72 1.47 1.35L5.41 20z\"/>\n",
              "  </svg>\n",
              "      </button>\n",
              "      \n",
              "  <style>\n",
              "    .colab-df-container {\n",
              "      display:flex;\n",
              "      flex-wrap:wrap;\n",
              "      gap: 12px;\n",
              "    }\n",
              "\n",
              "    .colab-df-convert {\n",
              "      background-color: #E8F0FE;\n",
              "      border: none;\n",
              "      border-radius: 50%;\n",
              "      cursor: pointer;\n",
              "      display: none;\n",
              "      fill: #1967D2;\n",
              "      height: 32px;\n",
              "      padding: 0 0 0 0;\n",
              "      width: 32px;\n",
              "    }\n",
              "\n",
              "    .colab-df-convert:hover {\n",
              "      background-color: #E2EBFA;\n",
              "      box-shadow: 0px 1px 2px rgba(60, 64, 67, 0.3), 0px 1px 3px 1px rgba(60, 64, 67, 0.15);\n",
              "      fill: #174EA6;\n",
              "    }\n",
              "\n",
              "    [theme=dark] .colab-df-convert {\n",
              "      background-color: #3B4455;\n",
              "      fill: #D2E3FC;\n",
              "    }\n",
              "\n",
              "    [theme=dark] .colab-df-convert:hover {\n",
              "      background-color: #434B5C;\n",
              "      box-shadow: 0px 1px 3px 1px rgba(0, 0, 0, 0.15);\n",
              "      filter: drop-shadow(0px 1px 2px rgba(0, 0, 0, 0.3));\n",
              "      fill: #FFFFFF;\n",
              "    }\n",
              "  </style>\n",
              "\n",
              "      <script>\n",
              "        const buttonEl =\n",
              "          document.querySelector('#df-1c00bde8-4961-4b02-a0fc-543a4f855e59 button.colab-df-convert');\n",
              "        buttonEl.style.display =\n",
              "          google.colab.kernel.accessAllowed ? 'block' : 'none';\n",
              "\n",
              "        async function convertToInteractive(key) {\n",
              "          const element = document.querySelector('#df-1c00bde8-4961-4b02-a0fc-543a4f855e59');\n",
              "          const dataTable =\n",
              "            await google.colab.kernel.invokeFunction('convertToInteractive',\n",
              "                                                     [key], {});\n",
              "          if (!dataTable) return;\n",
              "\n",
              "          const docLinkHtml = 'Like what you see? Visit the ' +\n",
              "            '<a target=\"_blank\" href=https://colab.research.google.com/notebooks/data_table.ipynb>data table notebook</a>'\n",
              "            + ' to learn more about interactive tables.';\n",
              "          element.innerHTML = '';\n",
              "          dataTable['output_type'] = 'display_data';\n",
              "          await google.colab.output.renderOutput(dataTable, element);\n",
              "          const docLink = document.createElement('div');\n",
              "          docLink.innerHTML = docLinkHtml;\n",
              "          element.appendChild(docLink);\n",
              "        }\n",
              "      </script>\n",
              "    </div>\n",
              "  </div>\n",
              "  "
            ]
          },
          "metadata": {},
          "execution_count": 117
        },
        {
          "output_type": "stream",
          "name": "stdout",
          "text": [
            "time: 16.8 ms (started: 2022-11-29 22:24:33 +00:00)\n"
          ]
        }
      ]
    },
    {
      "cell_type": "code",
      "source": [
        "# missing company \n",
        "mask = pd.isnull(missing_agents_df['company'])\n",
        "print('Number of agents missing company', sum(mask))\n",
        "\n",
        "## create bad agents file to verify \n",
        "bad_agents = missing_agents_df.loc[mask, :].copy()\n",
        "bad_agents['problem'] = 'missing_company'\n"
      ],
      "metadata": {
        "colab": {
          "base_uri": "https://localhost:8080/"
        },
        "id": "YAbIJCun8Hv6",
        "outputId": "149394cf-c86b-4c86-b46c-99c7c655408b"
      },
      "execution_count": null,
      "outputs": [
        {
          "output_type": "stream",
          "name": "stdout",
          "text": [
            "Number of agents missing company 3\n",
            "time: 10.7 ms (started: 2022-11-29 22:24:35 +00:00)\n"
          ]
        }
      ]
    },
    {
      "cell_type": "code",
      "source": [
        "## those who are treated and site\n",
        "new_df = missing_agents_df.loc[((missing_agents_df['flag_ever_ai']==1) & (missing_agents_df['company']=='SITEL')), :].copy()\n",
        "new_df['problem'] = 'treated and sitel'\n",
        "\n",
        "bad_agents = pd.concat([bad_agents,\n",
        "            new_df.loc[~new_df['correct_universal_agent_username'].isin(bad_agents['correct_universal_agent_username']),:]], axis=0)\n",
        "print(bad_agents.shape)\n",
        "del new_df"
      ],
      "metadata": {
        "colab": {
          "base_uri": "https://localhost:8080/"
        },
        "id": "pti-C48i8JQk",
        "outputId": "61cacc88-0e66-4fa0-f7e4-beaa656749f2"
      },
      "execution_count": null,
      "outputs": [
        {
          "output_type": "stream",
          "name": "stdout",
          "text": [
            "(10, 108)\n",
            "time: 35 ms (started: 2022-11-29 22:24:36 +00:00)\n"
          ]
        }
      ]
    },
    {
      "cell_type": "code",
      "source": [
        "## missing agent team\n",
        "new_df = missing_agents_df.loc[(pd.isnull(missing_agents_df['agent_team'])), :].copy()\n",
        "new_df['problem'] = 'missing team'\n",
        "\n",
        "bad_agents = pd.concat([bad_agents,\n",
        "            new_df.loc[~new_df['correct_universal_agent_username'].isin(bad_agents['correct_universal_agent_username']),:]], axis=0)\n",
        "print(bad_agents.shape)\n",
        "del new_df"
      ],
      "metadata": {
        "colab": {
          "base_uri": "https://localhost:8080/"
        },
        "id": "5w1Hr9agNHzW",
        "outputId": "c0a801bf-eed4-45a0-b661-0f1e17cd5c51"
      },
      "execution_count": null,
      "outputs": [
        {
          "output_type": "stream",
          "name": "stdout",
          "text": [
            "(40, 108)\n",
            "time: 20.2 ms (started: 2022-11-29 22:24:36 +00:00)\n"
          ]
        }
      ]
    },
    {
      "cell_type": "code",
      "source": [
        "def clean_team(x):\n",
        "    if pd.isnull(x):\n",
        "        return np.nan\n",
        "    x2 = x.lower().strip()\n",
        "    if 'concentrix' in x2:\n",
        "        return 'CONCENTRIX'\n",
        "    if 'convergys' in x2:\n",
        "        return 'CONVERGYS'\n",
        "    if 'sykes' in x2:\n",
        "        return 'SYKES'\n",
        "    if 'sitel' in x2:\n",
        "        return 'SITEL'\n",
        "    if 'intuit' in x2:\n",
        "        return 'intuit'\n",
        "    return np.nan\n"
      ],
      "metadata": {
        "colab": {
          "base_uri": "https://localhost:8080/"
        },
        "id": "zzpwV0Q4OwMI",
        "outputId": "cc1a1654-9199-4157-c555-97a68ab53ec3"
      },
      "execution_count": null,
      "outputs": [
        {
          "output_type": "stream",
          "name": "stdout",
          "text": [
            "time: 2.06 ms (started: 2022-11-29 22:24:38 +00:00)\n"
          ]
        }
      ]
    },
    {
      "cell_type": "code",
      "source": [
        "## those who have a new company and we want to verify\n",
        "## agents whose locations are different from their company, based on their team \n",
        "missing_agents_df['alt_company'] = missing_agents_df['agent_team'].apply(clean_team)\n",
        "mask = (missing_agents_df['alt_company']!=missing_agents_df['company'])\n",
        "print('Mismatched company', sum(mask))\n",
        "new_df = missing_agents_df.loc[mask, :].copy()\n",
        "new_df['problem'] = 'verify company and location'\n",
        "bad_agents = pd.concat([bad_agents,\n",
        "            new_df.loc[~new_df['correct_universal_agent_username'].isin(bad_agents['correct_universal_agent_username']),:]], axis=0)\n",
        "print(bad_agents.shape)\n",
        "\n",
        "## those who have a new location and we want to verify"
      ],
      "metadata": {
        "colab": {
          "base_uri": "https://localhost:8080/"
        },
        "id": "-uIFi0UoNeZh",
        "outputId": "71320fdf-9aa4-445b-fe63-1581bed7e960"
      },
      "execution_count": null,
      "outputs": [
        {
          "output_type": "stream",
          "name": "stdout",
          "text": [
            "Mismatched company 4358\n",
            "(4365, 109)\n",
            "time: 144 ms (started: 2022-11-29 22:24:39 +00:00)\n"
          ]
        }
      ]
    },
    {
      "cell_type": "code",
      "source": [
        "## verify those who are missing a location\n",
        "mask = pd.isnull(missing_agents_df['user_location'])\n",
        "print('Missing location', sum(mask))\n",
        "\n",
        "new_df = missing_agents_df.loc[mask, :].copy()\n",
        "new_df['problem'] = 'verify location'\n",
        "bad_agents = pd.concat([bad_agents,\n",
        "            new_df.loc[~new_df['correct_universal_agent_username'].isin(bad_agents['correct_universal_agent_username']),:]], axis=0)\n",
        "print(bad_agents.shape)"
      ],
      "metadata": {
        "colab": {
          "base_uri": "https://localhost:8080/"
        },
        "id": "PvK4Wfm7PQbY",
        "outputId": "a4805137-8666-44e2-a99e-6c37f0dd8ff8"
      },
      "execution_count": null,
      "outputs": [
        {
          "output_type": "stream",
          "name": "stdout",
          "text": [
            "Missing location 1766\n",
            "(4448, 109)\n",
            "time: 47.6 ms (started: 2022-11-29 22:24:39 +00:00)\n"
          ]
        }
      ]
    },
    {
      "cell_type": "code",
      "source": [
        "bad_agents_df_exp = bad_agents[[ 'lr_full_name',  'correct_universal_agent_username', 'email', 'company', 'alt_company', \n",
        "                        'agent_team', 'manager', 'roster_team',  'user_location', 'n_chats',\n",
        "            'ai_start_maxdate_prod', '_kpis_merge', '_prod_ana_merge', '_roster_merge',\n",
        " 'agent_date_maxdate', 'agent_date_mindate',\n",
        " 'ai_start_mindate_prod', 'correct_expert_corp_login', 'correct_expert_name',\n",
        " 'expert_corp_login', 'expert_name', 'flag_ever_ai',  'flag_never_ai', 'problem']].copy()"
      ],
      "metadata": {
        "colab": {
          "base_uri": "https://localhost:8080/"
        },
        "id": "9GbkiJ9wPmJT",
        "outputId": "e36e8990-bc0c-4c0b-f465-077451e47455"
      },
      "execution_count": null,
      "outputs": [
        {
          "output_type": "stream",
          "name": "stdout",
          "text": [
            "time: 49.5 ms (started: 2022-11-29 22:24:40 +00:00)\n"
          ]
        }
      ]
    },
    {
      "cell_type": "code",
      "source": [
        "## columns we want to fill in \n",
        "bad_agents_df_exp['correct_agent_team'] = np.nan\n",
        "bad_agents_df_exp['correct_user_location'] = np.nan\n",
        "bad_agents_df_exp['correct_company'] = np.nan\n",
        "bad_agents_df_exp['correct_flag_ever_ai'] = np.nan"
      ],
      "metadata": {
        "colab": {
          "base_uri": "https://localhost:8080/"
        },
        "id": "s1AbheyqQi-N",
        "outputId": "01d80854-4d47-4902-9fbd-65d29df7b461"
      },
      "execution_count": null,
      "outputs": [
        {
          "output_type": "stream",
          "name": "stdout",
          "text": [
            "time: 5.95 ms (started: 2022-11-29 22:24:41 +00:00)\n"
          ]
        }
      ]
    },
    {
      "cell_type": "code",
      "source": [
        "print(bad_agents_df_exp.shape)\n",
        "bad_agents_df_exp = bad_agents_df_exp.drop_duplicates('correct_universal_agent_username')\n",
        "print(bad_agents_df_exp.shape)"
      ],
      "metadata": {
        "colab": {
          "base_uri": "https://localhost:8080/"
        },
        "id": "jprzR1teQb8g",
        "outputId": "56ba95cd-b801-4857-a94e-29d2ff04b160"
      },
      "execution_count": null,
      "outputs": [
        {
          "output_type": "stream",
          "name": "stdout",
          "text": [
            "(4448, 28)\n",
            "(1927, 28)\n",
            "time: 12.6 ms (started: 2022-11-29 22:24:43 +00:00)\n"
          ]
        }
      ]
    },
    {
      "cell_type": "code",
      "source": [
        "bad_agents_df_exp['n_chats'].mean()"
      ],
      "metadata": {
        "colab": {
          "base_uri": "https://localhost:8080/"
        },
        "id": "QLCipsQTbD5g",
        "outputId": "841c2536-257e-4909-dcfc-63d7f800a981"
      },
      "execution_count": null,
      "outputs": [
        {
          "output_type": "execute_result",
          "data": {
            "text/plain": [
              "735.412558380903"
            ]
          },
          "metadata": {},
          "execution_count": 127
        },
        {
          "output_type": "stream",
          "name": "stdout",
          "text": [
            "time: 5.49 ms (started: 2022-11-29 22:24:43 +00:00)\n"
          ]
        }
      ]
    },
    {
      "cell_type": "code",
      "source": [
        "## then export \n",
        "\n",
        "bad_agents_df_exp.to_excel(os.path.join('/content/drive/MyDrive/Research/Cresta/Empirics/Data/IntData/agents', 'agents_to_verify.xlsx'))"
      ],
      "metadata": {
        "colab": {
          "base_uri": "https://localhost:8080/"
        },
        "id": "f7qDCVLKNqky",
        "outputId": "4ea8b6b4-4328-42f8-a0d9-6c25aa94a037"
      },
      "execution_count": null,
      "outputs": [
        {
          "output_type": "stream",
          "name": "stdout",
          "text": [
            "time: 1.98 s (started: 2022-11-29 22:24:44 +00:00)\n"
          ]
        }
      ]
    },
    {
      "cell_type": "markdown",
      "source": [
        "# Sanity Check Productivity Variables"
      ],
      "metadata": {
        "id": "WuzEyvLnknJT"
      }
    },
    {
      "cell_type": "code",
      "source": [
        "## Sanity Check productivity variables"
      ],
      "metadata": {
        "colab": {
          "base_uri": "https://localhost:8080/"
        },
        "id": "4R60UZpdU1PH",
        "outputId": "50fe70b1-9c3c-413c-9929-8c449be2ff7d"
      },
      "execution_count": null,
      "outputs": [
        {
          "output_type": "stream",
          "name": "stdout",
          "text": [
            "time: 12.6 s (started: 2022-11-29 21:53:14 +00:00)\n"
          ]
        }
      ]
    }
  ]
}