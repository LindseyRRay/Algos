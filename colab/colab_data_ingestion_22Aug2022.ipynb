{
  "cells": [
    {
      "cell_type": "markdown",
      "metadata": {
        "id": "view-in-github",
        "colab_type": "text"
      },
      "source": [
        "<a href=\"https://colab.research.google.com/github/LindseyRRay/Algos/blob/master/colab/colab_data_ingestion_22Aug2022.ipynb\" target=\"_parent\"><img src=\"https://colab.research.google.com/assets/colab-badge.svg\" alt=\"Open In Colab\"/></a>"
      ]
    },
    {
      "cell_type": "markdown",
      "source": [
        "# This is the first draft of what became 01_construct_data\n"
      ],
      "metadata": {
        "id": "XAzf19GBJ3sy"
      }
    },
    {
      "cell_type": "code",
      "source": [
        "!pip install funcy pandas numpy matplotlib seaborn isoweek ipython-autotime import_ipynb"
      ],
      "metadata": {
        "colab": {
          "base_uri": "https://localhost:8080/"
        },
        "id": "oI9lM6X6wTjJ",
        "outputId": "8eeae8e1-b689-42b8-ab86-12594537fac3"
      },
      "execution_count": null,
      "outputs": [
        {
          "output_type": "stream",
          "name": "stdout",
          "text": [
            "Looking in indexes: https://pypi.org/simple, https://us-python.pkg.dev/colab-wheels/public/simple/\n",
            "Requirement already satisfied: funcy in /usr/local/lib/python3.7/dist-packages (1.17)\n",
            "Requirement already satisfied: pandas in /usr/local/lib/python3.7/dist-packages (1.3.5)\n",
            "Requirement already satisfied: numpy in /usr/local/lib/python3.7/dist-packages (1.21.6)\n",
            "Requirement already satisfied: matplotlib in /usr/local/lib/python3.7/dist-packages (3.2.2)\n",
            "Requirement already satisfied: seaborn in /usr/local/lib/python3.7/dist-packages (0.11.2)\n",
            "Requirement already satisfied: isoweek in /usr/local/lib/python3.7/dist-packages (1.3.3)\n",
            "Requirement already satisfied: ipython-autotime in /usr/local/lib/python3.7/dist-packages (0.3.1)\n",
            "Requirement already satisfied: import_ipynb in /usr/local/lib/python3.7/dist-packages (0.1.4)\n",
            "Requirement already satisfied: python-dateutil>=2.7.3 in /usr/local/lib/python3.7/dist-packages (from pandas) (2.8.2)\n",
            "Requirement already satisfied: pytz>=2017.3 in /usr/local/lib/python3.7/dist-packages (from pandas) (2022.2.1)\n",
            "Requirement already satisfied: six>=1.5 in /usr/local/lib/python3.7/dist-packages (from python-dateutil>=2.7.3->pandas) (1.15.0)\n",
            "Requirement already satisfied: pyparsing!=2.0.4,!=2.1.2,!=2.1.6,>=2.0.1 in /usr/local/lib/python3.7/dist-packages (from matplotlib) (3.0.9)\n",
            "Requirement already satisfied: kiwisolver>=1.0.1 in /usr/local/lib/python3.7/dist-packages (from matplotlib) (1.4.4)\n",
            "Requirement already satisfied: cycler>=0.10 in /usr/local/lib/python3.7/dist-packages (from matplotlib) (0.11.0)\n",
            "Requirement already satisfied: typing-extensions in /usr/local/lib/python3.7/dist-packages (from kiwisolver>=1.0.1->matplotlib) (4.1.1)\n",
            "Requirement already satisfied: scipy>=1.0 in /usr/local/lib/python3.7/dist-packages (from seaborn) (1.7.3)\n",
            "Requirement already satisfied: ipython in /usr/local/lib/python3.7/dist-packages (from ipython-autotime) (7.9.0)\n",
            "Requirement already satisfied: nbformat in /usr/local/lib/python3.7/dist-packages (from import_ipynb) (5.4.0)\n",
            "Requirement already satisfied: traitlets>=4.2 in /usr/local/lib/python3.7/dist-packages (from ipython->ipython-autotime) (5.1.1)\n",
            "Requirement already satisfied: backcall in /usr/local/lib/python3.7/dist-packages (from ipython->ipython-autotime) (0.2.0)\n",
            "Requirement already satisfied: pexpect in /usr/local/lib/python3.7/dist-packages (from ipython->ipython-autotime) (4.8.0)\n",
            "Requirement already satisfied: pygments in /usr/local/lib/python3.7/dist-packages (from ipython->ipython-autotime) (2.6.1)\n",
            "Requirement already satisfied: pickleshare in /usr/local/lib/python3.7/dist-packages (from ipython->ipython-autotime) (0.7.5)\n",
            "Requirement already satisfied: prompt-toolkit<2.1.0,>=2.0.0 in /usr/local/lib/python3.7/dist-packages (from ipython->ipython-autotime) (2.0.10)\n",
            "Requirement already satisfied: jedi>=0.10 in /usr/local/lib/python3.7/dist-packages (from ipython->ipython-autotime) (0.18.1)\n",
            "Requirement already satisfied: decorator in /usr/local/lib/python3.7/dist-packages (from ipython->ipython-autotime) (4.4.2)\n",
            "Requirement already satisfied: setuptools>=18.5 in /usr/local/lib/python3.7/dist-packages (from ipython->ipython-autotime) (57.4.0)\n",
            "Requirement already satisfied: parso<0.9.0,>=0.8.0 in /usr/local/lib/python3.7/dist-packages (from jedi>=0.10->ipython->ipython-autotime) (0.8.3)\n",
            "Requirement already satisfied: wcwidth in /usr/local/lib/python3.7/dist-packages (from prompt-toolkit<2.1.0,>=2.0.0->ipython->ipython-autotime) (0.2.5)\n",
            "Requirement already satisfied: jsonschema>=2.6 in /usr/local/lib/python3.7/dist-packages (from nbformat->import_ipynb) (4.3.3)\n",
            "Requirement already satisfied: jupyter-core in /usr/local/lib/python3.7/dist-packages (from nbformat->import_ipynb) (4.11.1)\n",
            "Requirement already satisfied: fastjsonschema in /usr/local/lib/python3.7/dist-packages (from nbformat->import_ipynb) (2.16.1)\n",
            "Requirement already satisfied: attrs>=17.4.0 in /usr/local/lib/python3.7/dist-packages (from jsonschema>=2.6->nbformat->import_ipynb) (22.1.0)\n",
            "Requirement already satisfied: importlib-metadata in /usr/local/lib/python3.7/dist-packages (from jsonschema>=2.6->nbformat->import_ipynb) (4.12.0)\n",
            "Requirement already satisfied: importlib-resources>=1.4.0 in /usr/local/lib/python3.7/dist-packages (from jsonschema>=2.6->nbformat->import_ipynb) (5.9.0)\n",
            "Requirement already satisfied: pyrsistent!=0.17.0,!=0.17.1,!=0.17.2,>=0.14.0 in /usr/local/lib/python3.7/dist-packages (from jsonschema>=2.6->nbformat->import_ipynb) (0.18.1)\n",
            "Requirement already satisfied: zipp>=3.1.0 in /usr/local/lib/python3.7/dist-packages (from importlib-resources>=1.4.0->jsonschema>=2.6->nbformat->import_ipynb) (3.8.1)\n",
            "Requirement already satisfied: ptyprocess>=0.5 in /usr/local/lib/python3.7/dist-packages (from pexpect->ipython->ipython-autotime) (0.7.0)\n"
          ]
        }
      ]
    },
    {
      "cell_type": "code",
      "source": [
        "!python --version"
      ],
      "metadata": {
        "colab": {
          "base_uri": "https://localhost:8080/"
        },
        "id": "leeDriN1w5G-",
        "outputId": "a44b1c5a-6089-4377-bb42-bfbd134bb9dc"
      },
      "execution_count": null,
      "outputs": [
        {
          "output_type": "stream",
          "name": "stdout",
          "text": [
            "Python 3.7.13\n"
          ]
        }
      ]
    },
    {
      "cell_type": "code",
      "source": [
        "from psutil import virtual_memory\n",
        "ram_gb = virtual_memory().total / 1e9\n",
        "print('Your runtime has {:.1f} gigabytes of available RAM\\n'.format(ram_gb))\n",
        "\n",
        "if ram_gb < 20:\n",
        "  print('Not using a high-RAM runtime')\n",
        "else:\n",
        "  print('You are using a high-RAM runtime!')"
      ],
      "metadata": {
        "colab": {
          "base_uri": "https://localhost:8080/"
        },
        "id": "7mWBj_N-xDen",
        "outputId": "0465c856-6ab2-4525-af2a-b8180408d9a4"
      },
      "execution_count": null,
      "outputs": [
        {
          "output_type": "stream",
          "name": "stdout",
          "text": [
            "Your runtime has 54.8 gigabytes of available RAM\n",
            "\n",
            "You are using a high-RAM runtime!\n"
          ]
        }
      ]
    },
    {
      "cell_type": "code",
      "source": [
        "from google.colab import drive\n",
        "drive.mount('/content/drive')"
      ],
      "metadata": {
        "colab": {
          "base_uri": "https://localhost:8080/"
        },
        "id": "r81RKVIIxNpo",
        "outputId": "7731d14a-0883-47e1-f3e8-037a96d862b8"
      },
      "execution_count": null,
      "outputs": [
        {
          "output_type": "stream",
          "name": "stdout",
          "text": [
            "Drive already mounted at /content/drive; to attempt to forcibly remount, call drive.mount(\"/content/drive\", force_remount=True).\n"
          ]
        }
      ]
    },
    {
      "cell_type": "code",
      "source": [
        "## Navigate to collab notebook and import function\n",
        "# https://colab.research.google.com/drive/1nta1E1GbvWw0NknSNhpMPrH39af3HMhj\n",
        "%cd \"/content/drive/MyDrive/Colab Notebooks/Cresta\""
      ],
      "metadata": {
        "colab": {
          "base_uri": "https://localhost:8080/"
        },
        "id": "zuHDfEyqxVjk",
        "outputId": "5cc25452-d24e-4240-fb4f-a44cc6704b1c"
      },
      "execution_count": null,
      "outputs": [
        {
          "output_type": "stream",
          "name": "stdout",
          "text": [
            "/content/drive/MyDrive/Colab Notebooks/Cresta\n"
          ]
        }
      ]
    },
    {
      "cell_type": "code",
      "execution_count": null,
      "metadata": {
        "colab": {
          "base_uri": "https://localhost:8080/"
        },
        "id": "Ox75Izfev4Na",
        "outputId": "63bb43b8-1e77-4a0a-d018-d0688d79485f"
      },
      "outputs": [
        {
          "output_type": "stream",
          "name": "stdout",
          "text": [
            "time: 359 µs (started: 2022-08-31 18:07:46 +00:00)\n"
          ]
        }
      ],
      "source": [
        "import json\n",
        "import funcy\n",
        "import pandas as pd\n",
        "import os\n",
        "import numpy as np\n",
        "import math\n",
        "import matplotlib.pyplot as plt\n",
        "import seaborn as sns\n",
        "import isoweek\n",
        "\n",
        "#import colab_data_construction_helpers\n",
        "import colab_config\n",
        "\n",
        "%load_ext autotime"
      ]
    },
    {
      "cell_type": "code",
      "execution_count": null,
      "metadata": {
        "id": "h6XKFwypv4OS",
        "outputId": "c7d4a37d-1c82-4f94-9c55-7f4ec53874d8",
        "colab": {
          "base_uri": "https://localhost:8080/"
        }
      },
      "outputs": [
        {
          "output_type": "stream",
          "name": "stdout",
          "text": [
            "time: 3.33 ms (started: 2022-08-31 18:07:49 +00:00)\n"
          ]
        }
      ],
      "source": [
        "### \n",
        "## import production files\n",
        "## merge with hints on chat id, merge with kb suggestions\n",
        "## merge with users\n",
        "## get first and last date \n",
        "from colab_config import root_dir\n",
        "\n",
        "## contains production data downloads without text\n",
        "## created by /Users/lindseyraymond/Dropbox (MIT)/Research/Erik/Cresta/Empirics/CrestaCode/sql/intuitcs_production_11Aug2022.sql\n",
        "production_files_dir = os.path.join(root_dir, 'Data/RawData/chats/prod_notext')\n",
        "analytics_files_dir = os.path.join(root_dir, 'Data/RawData/chats/analytics_withtext')\n",
        "clean_analytics_files_dir = os.path.join(root_dir, 'Data/RawData/chats/clean_analytics_withtext')\n",
        "cleaned_production_filename = os.path.join(root_dir, 'Data/IntData/chats/IntuitCS_production_notext.csv')\n",
        "\n",
        "## created by /Users/lindseyraymond/Dropbox (MIT)/Research/Erik/Cresta/Empirics/CrestaCode/sql/intuitcs_production_11Aug2022.sql\n",
        "## contains knowledge base titles and suggestions counts from Aug 2020 through July 2021 with chat_id\n",
        "kb_filename = os.path.join(root_dir, 'Data/RawData/ai_models/intuitCS_prod_kbsuggestions_Aug2022_thruJuly2021.csv')\n",
        "\n",
        "hints_filename = os.path.join(root_dir, 'Data/RawData/ai_models/intuitCS_prod_hints_Aug2022_thruJuly2021.csv')\n",
        "\n",
        "users_filename = os.path.join(root_dir, 'Data/RawData/agents/intuitCS_produsers_Aug2022.csv')\n",
        "\n",
        "## date at which we start importing prod data (before this is just system tests)\n",
        "min_date = pd.to_datetime('2020-08-01').date()\n",
        "\n",
        "intuitCS_sc_dir = os.path.join(root_dir, 'Data/RawData/ai_models/suggestions_SC')\n",
        "intuitCS_sc_file_cleaned = os.path.join(root_dir, 'Data/RawData/ai_models/suggestions_SC_cleaned.csv')\n",
        "\n",
        "from colab_config import mpl_stylesheet_presentation\n",
        "#mpl_stylesheet_presentation = os.path.join(root_dir, 'CrestaCode/presentationstyle.mplstyle')\n",
        "\n",
        "min_messages = 2\n",
        "min_duration = 3\n",
        "max_duration = 120\n",
        "\n",
        "ISOWEEK_DAY = 0 ## 0 corresponds to Monday"
      ]
    },
    {
      "cell_type": "code",
      "execution_count": null,
      "metadata": {
        "id": "K4323z4-v4Oj",
        "outputId": "e83bf658-4458-407a-ece9-21e01ff73d1a",
        "colab": {
          "base_uri": "https://localhost:8080/"
        }
      },
      "outputs": [
        {
          "output_type": "stream",
          "name": "stdout",
          "text": [
            "time: 8.03 ms (started: 2022-08-31 18:07:49 +00:00)\n"
          ]
        }
      ],
      "source": [
        "plt.style.use(mpl_stylesheet_presentation)"
      ]
    },
    {
      "cell_type": "markdown",
      "metadata": {
        "id": "v7pfKkQBv4Ol"
      },
      "source": [
        "## Key Notes\n",
        "* api_source is missing for all chats from pre-2020 (I haven't downloaded it)"
      ]
    },
    {
      "cell_type": "markdown",
      "metadata": {
        "id": "Uk30_h3nv4O1"
      },
      "source": [
        "### Add user information\n",
        "* note that user created date **is not accurate**\n",
        "* agent created at may be accurate \n",
        "* users (agents) can be matched to chats several ways\n",
        "    * chats.latest_agent_id in the chat file should correspond to users.id (user_id)\n",
        "    * chats.agent_user_id matches users.user_id (user_str_id)\n",
        "    * match columns indicate matches between agent username and platform login name (should match)\n",
        "    * users.team_id is mostly null (except for 17)\n",
        "    * team_id not from app.users\n",
        "    * We join users to user_agent_profiles and then to agent_team_user_agent_profile_join to get team id\n",
        "    * team name only available for about 4561\n",
        "    * 362 unique teams, some of them missing"
      ]
    },
    {
      "cell_type": "code",
      "execution_count": null,
      "metadata": {
        "id": "UQbW2XvWv4O3",
        "outputId": "2408ae66-ffb5-40a2-88fb-521fdb9be227",
        "colab": {
          "base_uri": "https://localhost:8080/"
        }
      },
      "outputs": [
        {
          "output_type": "stream",
          "name": "stdout",
          "text": [
            "time: 3.52 ms (started: 2022-08-31 18:07:52 +00:00)\n"
          ]
        }
      ],
      "source": [
        "# these are helper functions for creating strings\n",
        "def filter_list_values(x):\n",
        "    r = list(set(list(filter(None, x))))\n",
        "    if len(r)==1:\n",
        "        return r[0]\n",
        "    return r\n",
        "\n",
        "def return_first_list_value(x):\n",
        "    if isinstance(x, list):\n",
        "        return x[0]\n",
        "    return x\n",
        "\n",
        "def get_isoweek_date(x):\n",
        "    '''x should be a pandas datetime'''\n",
        "    if pd.isnull(x):\n",
        "        return x\n",
        "    return isoweek.Week.withdate(x).day(ISOWEEK_DAY)\n",
        "\n",
        "def clean_lower_strip_str(x):\n",
        "    if pd.isnull(x):\n",
        "        return x\n",
        "    if isinstance(x, (float, int)):\n",
        "        print('Float ', x)\n",
        "        return np.nan\n",
        "    return x.strip().lower()\n",
        "\n",
        "def parse_json(x):\n",
        "    try:\n",
        "        return json.loads(x)\n",
        "    except json.JSONDecodeError as e:\n",
        "        print(e, x)\n",
        "        return ''\n",
        "\n",
        "def parse_duration(x):\n",
        "    if pd.isnull(x):\n",
        "        return x\n",
        "    try:\n",
        "        return np.round(float(x), 2)\n",
        "    except ValueError as e:\n",
        "        print(x, e)\n",
        "        return np.nan\n",
        "\n",
        "\n",
        "def parse_bool(x):\n",
        "# boolean values sometimes appear as booleans other times as string\n",
        "    if pd.isnull(x):\n",
        "        return False\n",
        "    if isinstance(x, bool):\n",
        "        return x\n",
        "    if isinstance(x, str):\n",
        "        if x.title()=='True':\n",
        "            return True\n",
        "        if x.title()=='False':\n",
        "            return False\n",
        "    print('Uncaught case: ', x)\n",
        "    return False\n"
      ]
    },
    {
      "cell_type": "code",
      "execution_count": null,
      "metadata": {
        "id": "Ru68IFXxv4O5",
        "outputId": "c4147ee9-c595-4cd8-b2cf-7a29bef63d5f",
        "colab": {
          "base_uri": "https://localhost:8080/"
        }
      },
      "outputs": [
        {
          "output_type": "stream",
          "name": "stdout",
          "text": [
            "time: 5.12 ms (started: 2022-08-31 18:07:53 +00:00)\n"
          ]
        }
      ],
      "source": [
        "def read_clean_users(users_filename, to_lower_columns=None):\n",
        "    # reads in and cleans users file\n",
        "    ### Note that users may be duplicated, because they show up on multiple teams or with multiple roles\n",
        "    ## we will collect multiple teams and multiple roles in a json object to ensure agents are unique on user_id\n",
        "    if to_lower_columns is None:\n",
        "        to_lower_columns = ['username', 'display_name', 'email', 'full_name', 'team_name', 'platform_login_name']\n",
        "\n",
        "    users_df = pd.read_csv(users_filename, parse_dates=['user_created_at', 'agent_created_at'], dtype={'agent_team_id': float, 'user_id': int})\n",
        "    users_df = users_df.sort_values(['user_id','username']).drop(columns=['match_col'])\n",
        "    ## drop_test_users\n",
        "    print('All users ', users_df.shape)\n",
        "    users_df = users_df.loc[users_df['username'].apply(lambda x: 'test' not in x), :]\n",
        "    print('Removed test users ', users_df.shape)\n",
        "    ## these should all be equal\n",
        "    print(users_df.drop_duplicates('user_id').shape)\n",
        "    print(users_df.drop_duplicates('username').shape)\n",
        "    print(users_df.drop_duplicates('user_str_id').shape)\n",
        "    ## platform ids are also not duplicated except for when they are null\n",
        "    print(users_df.drop_duplicates('platform_id').shape)\n",
        "    assert users_df.drop_duplicates('user_id').shape[0] == users_df.drop_duplicates(\n",
        "        'username').shape[0] == users_df.drop_duplicates('user_str_id').shape[0]\n",
        "    #users_df = users_df.renamce(columns={'user_id': 'user_str_id', 'user_id.1': '', 'agent_id': })\n",
        "    ## make team names loqercase, platform_login_name,  full_name, display_name, username, email\n",
        "    users_df.loc[:, to_lower_columns] = users_df.loc[:, to_lower_columns].applymap(clean_lower_strip_str)\n",
        "    ## 101 duplicates are agents with the same username, but different agent id and same agent platform id\n",
        "    ## make sure to match on agent_id, but do agent analysis with agent username\n",
        "    users_df['flag_agent_duplicated'] = 0\n",
        "    mask = users_df.duplicated('user_id', keep=False)\n",
        "    users_df.loc[mask, 'flag_agent_duplicated'] = 1\n",
        "    print(users_df['flag_agent_duplicated'].mean())\n",
        "    users_df = users_df.rename(columns={'platform_id': 'user_platform_id'})\n",
        "\n",
        "    ## convert dates\n",
        "    users_df.loc[:, 'agent_created_at'] = pd.to_datetime(users_df['agent_created_at']).dt.tz_localize(None)\n",
        "    users_df.loc[:, 'user_created_at'] = pd.to_datetime(users_df['user_created_at']).dt.tz_localize(None)\n",
        "    \n",
        "    ## this identifies duplicates platform ids\n",
        "   # print(users_df.loc[~pd.isnull(users_df['platform_id']) & users_df.duplicated(\n",
        "   #     'platform_id', keep=False), :].sort_values('platform_id'))\n",
        "    \n",
        "    ## collect multiple strings into one column\n",
        "    for col in ['user_role_name', 'agent_team_id', 'team_name']:\n",
        "        users_df['{}_agg'.format(col)] = users_df.groupby('user_id')[col].apply(filter_list_values)\n",
        "        mask = ((pd.isnull(users_df[col])) & (~pd.isnull(users_df['{}_agg'.format(col)])))\n",
        "        print(sum(mask))\n",
        "        users_df.loc[mask, col] = users_df.loc[mask, '{}_agg'.format(col)].apply(return_first_list_value)\n",
        "    users_df = users_df.drop_duplicates('user_id')\n",
        "    return users_df\n"
      ]
    },
    {
      "cell_type": "markdown",
      "metadata": {
        "id": "hxneABd-v4PI"
      },
      "source": [
        "# Hints\n",
        "* hints are downloaded in sql at the chat_id level\n",
        "* this is agent receptivity, scored hints\n",
        "* there are some duplicate chats ids that need to be aggregated because they appear in different data pulls\n",
        "* Hints should be merged in with chat_id and current_agent_id\n",
        "* chats with two different agents ids are likely transfered"
      ]
    },
    {
      "cell_type": "markdown",
      "metadata": {
        "id": "F0p_kXvvv4PY"
      },
      "source": [
        "# Knowledge Base Suggestions\n",
        "* these are downloaded from sql on chat_id"
      ]
    },
    {
      "cell_type": "code",
      "execution_count": null,
      "metadata": {
        "id": "7u652uhpv4Pa",
        "outputId": "c80aac3a-13f5-4ee6-af42-e6913d075492",
        "colab": {
          "base_uri": "https://localhost:8080/"
        }
      },
      "outputs": [
        {
          "output_type": "stream",
          "name": "stdout",
          "text": [
            "time: 1.2 ms (started: 2022-08-31 18:07:54 +00:00)\n"
          ]
        }
      ],
      "source": [
        "def read_clean_kb_suggestions(kb_filename, **kwargs):\n",
        "    kb_df = pd.read_csv(kb_filename, dtype={'number_kb_suggestions': int}).sort_values('chat_id')\n",
        "    print('Original kb df shape: ', kb_df.shape)\n",
        "    print('Original deduped on chat id shape: ', kb_df.drop_duplicates('chat_id').shape)\n",
        "    assert kb_df.drop_duplicates('chat_id').shape[0] == kb_df.shape[0]\n",
        "    return kb_df.set_index('chat_id')"
      ]
    },
    {
      "cell_type": "markdown",
      "metadata": {
        "id": "kjUbquWyv4Pc"
      },
      "source": [
        "# Smart compose files"
      ]
    },
    {
      "cell_type": "code",
      "execution_count": null,
      "metadata": {
        "id": "EyS32n9Sv4Pd",
        "outputId": "8a6a2c2e-56da-4ab4-cb00-9978958b7fe1",
        "colab": {
          "base_uri": "https://localhost:8080/"
        }
      },
      "outputs": [
        {
          "output_type": "stream",
          "name": "stdout",
          "text": [
            "time: 4.12 ms (started: 2022-08-31 18:07:56 +00:00)\n"
          ]
        }
      ],
      "source": [
        "def clean_smartcompose(sc_data_directory, clean_smartcompose_filename, create_file=False):\n",
        "    '''This cleans the file with text smart compose suggestions that are automatically sent by users\n",
        "        Smart compose is like autocomplete. I don't save the SC text for this one\n",
        "    '''\n",
        "    if create_file:\n",
        "        sc_files = []\n",
        "        for f in os.listdir(sc_data_directory):\n",
        "            sc_files.append(pd.read_csv(os.path.join(sc_data_directory, f), parse_dates=['date']))\n",
        "\n",
        "        sc_df = pd.concat(sc_files, axis=0)\n",
        "        sc_df = sc_df.sort_values('chat_id').rename(columns={'is_suggestion': 'number_instantsend_suggestions',\n",
        "                                                        'messages_sent': 'messages_sent_from_sc',\n",
        "                                                         'suggestions_used': 'sc_suggestions_used'})\n",
        "        numeric_columns = [x for x in sc_df.select_dtypes(include=['int16', 'int32', 'int64', 'float64']).columns if 'id' not in x]\n",
        "        sc_df[numeric_columns] = sc_df[numeric_columns].fillna(0).astype(int)\n",
        "        sc_df2 = sc_df.sort_values('chat_id').groupby('chat_id').agg({'sc_suggestions_used':'sum',\n",
        "                                    'ai_used':'sum', 'coach_used':'sum', 'messages_sent_from_sc':'sum', 'number_sc_inserted':'sum',\n",
        "                                    'number_instantsend_suggestions':'sum'}).reset_index()\n",
        "        sc_df2 = sc_df2.sort_values('chat_id').drop(columns=['messages_sent_from_sc'])\n",
        "        sc_df2 = sc_df2.loc[sc_df2['number_instantsend_suggestions'] > 0, :]\n",
        "        sc_df2 = sc_df2.rename(columns={'ai_used': 'sc_ai_used', 'coach_used': 'sc_coach_used'}).set_index('chat_id')\n",
        "        sc_df2.to_csv(clean_smartcompose_filename)\n",
        "    else:\n",
        "        sc_df2 = pd.read_csv(clean_smartcompose_filename, index_col='chat_id',  dtype={'sc_suggestions_used': 'int', 'sc_ai_used': 'int',\n",
        "                                                       'sc_coach_used': 'int', 'number_sc_inserted': 'int',\n",
        "                                                        'number_instantsend_suggestions': 'int'})\n",
        "    return sc_df2"
      ]
    },
    {
      "cell_type": "code",
      "execution_count": null,
      "metadata": {
        "id": "PhxPxhPLv4PK",
        "outputId": "6bef769e-e619-4b39-a26e-09531563c079",
        "colab": {
          "base_uri": "https://localhost:8080/"
        }
      },
      "outputs": [
        {
          "output_type": "stream",
          "name": "stdout",
          "text": [
            "time: 5.15 ms (started: 2022-08-31 18:07:56 +00:00)\n"
          ]
        }
      ],
      "source": [
        "def read_clean_hints(hints_filename, min_date, **kwargs):\n",
        "    hints_df = pd.read_csv(hints_filename, parse_dates=['date_hint'], date_parser=lambda x: pd.to_datetime(x, format='%Y-%m-%d').date, \n",
        "                       dtype={'chat_id': int, 'receptivity': float, 'n_followed_hints': float, 'scored_hints':float,\n",
        "       'inactivity_hints':int, 'guidance_hints':int, 'positive_reinforce_hints':int,\n",
        "       'proactive_hints':int, 'react_game_hints': int, 'flag_receptive_noninactive': int,\n",
        "       'total_number_hints': int, 'disinct_hints': int, 'current_agent_id': int}, **kwargs).sort_values('chat_id')\n",
        "    ## filter hints - drop those \n",
        "    print('Original df shape :', hints_df.shape)\n",
        "    hints_df = hints_df.loc[((hints_df['date_hint'].dt.date >= min_date) & (~pd.isnull(hints_df['current_agent_id']))), :]\n",
        "    hints_df = hints_df.groupby(['chat_id', 'agent_login_name',\n",
        "        'current_agent_id']).agg({'receptivity': np.nanmean, 'n_followed_hints': np.nansum, 'scored_hints': np.nansum,\n",
        "       'inactivity_hints': np.nansum, 'guidance_hints': np.nansum, 'positive_reinforce_hints': np.nansum,\n",
        "       'proactive_hints': np.nansum, 'react_game_hints': np.nansum, 'flag_receptive_noninactive':np.nansum,\n",
        "       'total_number_hints': np.nansum, 'disinct_hints': np.nansum, 'date_hint': np.min}).reset_index()\n",
        "    print('Filtered df shape :', hints_df.shape)\n",
        "    ## fill all nan with zero\n",
        "    print('Deduped shape chat_id: ', hints_df.reset_index().drop_duplicates('chat_id').shape)\n",
        "    print('Deduped shape chat_id+agent id: ', hints_df.reset_index().drop_duplicates(['chat_id', 'current_agent_id']).shape)\n",
        "    assert hints_df.reset_index().drop_duplicates(['chat_id', 'current_agent_id']).shape[0] == hints_df.shape[0]\n",
        "    hints_df = hints_df.set_index(['chat_id', 'current_agent_id']).fillna(0)\n",
        "    #print('Checking duplicates')\n",
        "    #hints_df.loc[hints_df.duplicated('chat_id', keep=False), :]\n",
        "    \n",
        "    ## fill in receptivity with null if no scored hints or no total hints\n",
        "    mask = ((hints_df['scored_hints']==0) | (hints_df['total_number_hints']==0))\n",
        "    hints_df.loc[mask, 'receptivity'] = np.nan\n",
        "    return hints_df.reset_index()"
      ]
    },
    {
      "cell_type": "markdown",
      "metadata": {
        "id": "5I5Rm6-iv4Pr"
      },
      "source": [
        "# Import Files"
      ]
    },
    {
      "cell_type": "code",
      "execution_count": null,
      "metadata": {
        "id": "YHFqH7Z1v4Ps",
        "outputId": "c5476b73-bc65-486f-fc8b-fa9004366c78",
        "colab": {
          "base_uri": "https://localhost:8080/"
        }
      },
      "outputs": [
        {
          "output_type": "stream",
          "name": "stdout",
          "text": [
            "time: 23.6 s (started: 2022-08-31 15:05:38 +00:00)\n"
          ]
        }
      ],
      "source": [
        "sc_df = clean_smartcompose(intuitCS_sc_dir, intuitCS_sc_file_cleaned, create_file=True)"
      ]
    },
    {
      "cell_type": "code",
      "execution_count": null,
      "metadata": {
        "id": "OGU3ulKrv4Pw",
        "outputId": "8d0cea7e-c36f-40ad-eef4-c60459fd559c",
        "colab": {
          "base_uri": "https://localhost:8080/"
        }
      },
      "outputs": [
        {
          "output_type": "stream",
          "name": "stdout",
          "text": [
            "Original df shape : (1194895, 15)\n",
            "Filtered df shape : (1185163, 15)\n",
            "Deduped shape chat_id:  (1180268, 16)\n",
            "Deduped shape chat_id+agent id:  (1185163, 16)\n",
            "time: 15.7 s (started: 2022-08-31 15:24:13 +00:00)\n"
          ]
        }
      ],
      "source": [
        "hints_df = read_clean_hints(hints_filename, min_date)"
      ]
    },
    {
      "cell_type": "code",
      "execution_count": null,
      "metadata": {
        "id": "R9k44EW1v4P-",
        "outputId": "e10893aa-93a5-4f20-f664-24b50549181d",
        "colab": {
          "base_uri": "https://localhost:8080/"
        }
      },
      "outputs": [
        {
          "output_type": "stream",
          "name": "stdout",
          "text": [
            "All users  (10538, 14)\n",
            "Removed test users  (10522, 14)\n",
            "(7781, 14)\n",
            "(7781, 14)\n",
            "(7781, 14)\n",
            "(7002, 14)\n",
            "0.3752138376734461\n",
            "0\n",
            "1156\n",
            "1098\n",
            "time: 733 ms (started: 2022-08-31 15:51:27 +00:00)\n"
          ]
        }
      ],
      "source": [
        "users_df = read_clean_users(users_filename, None)"
      ]
    },
    {
      "cell_type": "code",
      "execution_count": null,
      "metadata": {
        "id": "EtiQAEb2v4QA",
        "outputId": "1590bc16-0894-4992-9bfa-3fe0a8ce7a80",
        "colab": {
          "base_uri": "https://localhost:8080/"
        }
      },
      "outputs": [
        {
          "output_type": "stream",
          "name": "stdout",
          "text": [
            "Original kb df shape:  (1144681, 3)\n",
            "Original deduped on chat id shape:  (1144681, 3)\n",
            "time: 6.87 s (started: 2022-08-31 15:52:44 +00:00)\n"
          ]
        }
      ],
      "source": [
        "kb_df = read_clean_kb_suggestions(kb_filename)"
      ]
    },
    {
      "cell_type": "code",
      "source": [],
      "metadata": {
        "id": "L_0M6YRXftFK"
      },
      "execution_count": null,
      "outputs": []
    },
    {
      "cell_type": "markdown",
      "metadata": {
        "id": "iVtvIxPvv4QC"
      },
      "source": [
        "### Add production data plus suggestions\n",
        "* Suggestions here do not seem particularly accurate\n",
        "* multiple suggestions can appear for every message\n",
        "* suggestion message id can be null\n",
        "* suggestions not well matched up to message text\n",
        "* I have removed these columns for the time being, but we could add them back\n",
        "\n",
        "* Includes chat text and suggested text in json arrays"
      ]
    },
    {
      "cell_type": "code",
      "execution_count": null,
      "metadata": {
        "id": "iwVoag-Nv4QD",
        "outputId": "61bac257-046f-4a1a-ac1e-6fedf3cc1f7e",
        "colab": {
          "base_uri": "https://localhost:8080/"
        }
      },
      "outputs": [
        {
          "output_type": "stream",
          "name": "stdout",
          "text": [
            "time: 7 ms (started: 2022-08-31 18:08:01 +00:00)\n"
          ]
        }
      ],
      "source": [
        "def clean_assemble_prod_data(production_filedir, kb_df, hints_df, users_df, sc_df, min_date, **kwargs):\n",
        "    prod_dfs = []\n",
        "    prod_files = [x for x in os.listdir(production_filedir) if x.startswith('intuitCS_prod')]\n",
        "    for f in prod_files:\n",
        "        print('Reading in :', f)\n",
        "        df = pd.read_csv(os.path.join(production_filedir, f),\n",
        "                         parse_dates=['chat_isoweek_date', 'started_at', 'chat_date'], **kwargs)\n",
        "        df = df.rename(columns={'started_at': 'chat_start_datetime'})\n",
        "        print('Original df shape: ', df.shape)\n",
        "        # filter dataframe -> keep if >1 messages visitor, 1 messages agent,\n",
        "        # drop chats without agent_id, drop chat_date before August 2020\n",
        "        df = df.loc[((df['chat_date'].dt.date >= min_date) & (df[\n",
        "            'n_messages_visitor'] > min_messages) & (df['n_messages_agent'] > min_messages)), :]\n",
        "        print(' Filtered df shape : ', df.shape)\n",
        "        df = df.sort_values('chat_id')\n",
        "        prod_dfs.append(df.copy())\n",
        "    prod_df = pd.concat(prod_dfs, axis=0)\n",
        "    print('Concatenated data shape: ', prod_df.shape)\n",
        "    assert prod_df.drop_duplicates('chat_id').shape[0] == prod_df.shape[0]\n",
        "    prod_df = prod_df.set_index('chat_id')\n",
        "    df3 = prod_df.merge(kb_df, left_index=True, right_index=True, how='left', indicator=True, validate='one_to_one')\n",
        "    assert df3.shape[0] == prod_df.shape[0]\n",
        "    df3.loc[:, 'number_kb_suggestions'] = df3.loc[:, 'number_kb_suggestions'].fillna(0)\n",
        "    print('Kb merge results: ', df3['_merge'].value_counts())\n",
        "    df3 = df3.drop(columns='_merge')\n",
        "    print('Post kb merge shape: ', df3.shape)\n",
        "    \n",
        "    numeric_columns = hints_df.select_dtypes(include=['int16', 'int32', 'int64', 'float64']).columns\n",
        "\n",
        "    df4 = df3.merge(hints_df, left_on=['chat_id', 'latest_agent_id'], right_on=['chat_id', 'current_agent_id'],\n",
        "                    how='left', indicator=True, validate='one_to_one')\n",
        "    assert df4.shape[0] == df3.shape[0]\n",
        "    df4.loc[:, numeric_columns] = df4.loc[:, numeric_columns].fillna(0)\n",
        "    print('Merge hints dataframe results on chat_id + agent_id: ', df4['_merge'].value_counts())\n",
        "    df4 = df4.drop(columns=['_merge', 'agent_login_name', 'date_hint'])\n",
        "    print('Post hints merge shape: ', df4.shape)\n",
        "    ## this is an innter merge, because we only want people who are in the users file\n",
        "    df5 = df4.merge(users_df, left_on='latest_agent_id', right_on='user_id', how='inner', indicator=True)\n",
        "    print('User merge results: ', df5['_merge'].value_counts())\n",
        "    df5 = df5.drop(columns='_merge')\n",
        "    print('After user merge: ', df5.shape)\n",
        "    \n",
        "    df6 = df5.merge(sc_df, on='chat_id', how='left', indicator=True, validate='one_to_one')\n",
        "    print('Smart compose merge results: ', df6['_merge'].value_counts())\n",
        "    df6 = df6.drop(columns='_merge')\n",
        "    print('After Smart compose merge: ', df6.shape)\n",
        "    if 'platform_chat_id' not in df6.columns:\n",
        "        ids = pd.read_csv(os.path.join(production_filedir, 'platform_chat_ids.csv'))\n",
        "        ids = ids.rename(columns={'id': 'chat_id', 'platform_id': 'platform_chat_id'})\n",
        "        df7 = df6.merge(ids, on='chat_id', how='left', indicator=True, validate='one_to_one')\n",
        "        print('ID merge indicator values :', df7['_merge'].value_counts())\n",
        "        df7 = df7.drop(columns=['_merge'])\n",
        "    text_columns = [x for x in df7.select_dtypes(include=[\n",
        "        'object']).columns if 'date' not in x and 'text' not in x and 'behaviors' not in x and 'agg' not in x]\n",
        "    print(text_columns)\n",
        "    df7.loc[:,  text_columns] = df7.loc[:, text_columns].applymap(clean_lower_strip_str) \n",
        "    return df7"
      ]
    },
    {
      "cell_type": "code",
      "execution_count": null,
      "metadata": {
        "id": "zGWtrsH9v4QQ",
        "outputId": "c617ac8d-78f3-4e9c-c21c-45efb9d034d5",
        "colab": {
          "base_uri": "https://localhost:8080/"
        }
      },
      "outputs": [
        {
          "output_type": "stream",
          "name": "stdout",
          "text": [
            "['intuitCS_prod_notext_1.csv', 'intuitCS_prod_notext_2.csv', 'intuitCS_prod_notext_3.csv', 'intuitCS_prod_notext_4.csv', 'intuitCS_prod_notext_5.csv', 'platform_chat_ids.csv']\n",
            "time: 500 ms (started: 2022-08-31 15:53:26 +00:00)\n"
          ]
        }
      ],
      "source": [
        "prod_files = os.listdir(production_files_dir)\n",
        "print(prod_files)"
      ]
    },
    {
      "cell_type": "code",
      "execution_count": null,
      "metadata": {
        "id": "fjF9etAjv4QR",
        "outputId": "19d410c5-c4b4-4e66-ef2c-50e8e4969b7d",
        "colab": {
          "base_uri": "https://localhost:8080/"
        }
      },
      "outputs": [
        {
          "output_type": "stream",
          "name": "stdout",
          "text": [
            "Reading in : intuitCS_prod_notext_1.csv\n",
            "Original df shape:  (239475, 16)\n",
            " Filtered df shape :  (193094, 16)\n",
            "Reading in : intuitCS_prod_notext_2.csv\n",
            "Original df shape:  (306332, 17)\n",
            " Filtered df shape :  (265779, 17)\n",
            "Reading in : intuitCS_prod_notext_3.csv\n",
            "Original df shape:  (552296, 17)\n",
            " Filtered df shape :  (487733, 17)\n",
            "Reading in : intuitCS_prod_notext_4.csv\n",
            "Original df shape:  (556539, 17)\n",
            " Filtered df shape :  (430476, 17)\n",
            "Reading in : intuitCS_prod_notext_5.csv\n",
            "Original df shape:  (552975, 17)\n",
            " Filtered df shape :  (421112, 17)\n",
            "Concatenated data shape:  (1798194, 17)\n",
            "Kb merge results:  both          986544\n",
            "left_only     811650\n",
            "right_only         0\n",
            "Name: _merge, dtype: int64\n",
            "Post kb merge shape:  (1798194, 18)\n",
            "Merge hints dataframe results on chat_id + agent_id:  both          942661\n",
            "left_only     855533\n",
            "right_only         0\n",
            "Name: _merge, dtype: int64\n",
            "Post hints merge shape:  (1798194, 31)\n",
            "User merge results:  both          1798183\n",
            "left_only           0\n",
            "right_only          0\n",
            "Name: _merge, dtype: int64\n",
            "After user merge:  (1798183, 49)\n",
            "Smart compose merge results:  left_only     1448539\n",
            "both           349644\n",
            "right_only          0\n",
            "Name: _merge, dtype: int64\n",
            "After Smart compose merge:  (1798183, 54)\n",
            "ID merge indicator values : both          1798183\n",
            "left_only           0\n",
            "right_only          0\n",
            "Name: _merge, dtype: int64\n",
            "['platform_chat_skill', 'agent_user_id', 'api_source', 'username', 'display_name', 'email', 'full_name', 'user_str_id', 'user_role_name', 'team_name', 'platform_login_name', 'user_platform_id', 'platform_chat_id']\n",
            "time: 1min 19s (started: 2022-08-31 15:53:29 +00:00)\n"
          ]
        }
      ],
      "source": [
        "prod_df = clean_assemble_prod_data(production_files_dir,\n",
        "                                    kb_df, hints_df, users_df, sc_df, min_date)"
      ]
    },
    {
      "cell_type": "code",
      "execution_count": null,
      "metadata": {
        "id": "7B-B0wO1v4QS",
        "outputId": "0ea8ec37-3689-4af1-8896-9aa9633b2528"
      },
      "outputs": [
        {
          "name": "stdout",
          "output_type": "stream",
          "text": [
            "time: 3.71 s (started: 2022-08-30 15:08:02 -04:00)\n"
          ]
        }
      ],
      "source": [
        "## Now, we find date of first AI output\n",
        "list_first_dates = []\n",
        "list_ai_cols = ['number_instantsend_suggestions', 'disinct_hints',  'scored_hints', 'number_kb_suggestions',  'n_suggestions_shown']\n",
        "list_firstdate_cols = ['sc_mindate', 'hints_mindate', 'scoredhints_mindate', 'kb_sugg_mindate', 'sugg_mindate']\n",
        "for ai_col in list_ai_cols:\n",
        "    ai_col_df = prod_df.loc[prod_df[ai_col] > 0,:].groupby('latest_agent_id')['chat_date'].min()\n",
        "    list_first_dates.append(ai_col_df.copy())\n",
        "firstdates_df = pd.concat(list_first_dates, axis=1, verify_integrity=True, sort=True, join='outer')\n",
        "firstdates_df.columns = list_firstdate_cols"
      ]
    },
    {
      "cell_type": "code",
      "execution_count": null,
      "metadata": {
        "id": "IvP_9PmLv4QT",
        "outputId": "eccda7f8-05b2-438e-d67e-f3a460d1d0a0"
      },
      "outputs": [
        {
          "name": "stdout",
          "output_type": "stream",
          "text": [
            "Number of null:  sc_mindate  :  1609\n",
            "Number of null:  hints_mindate  :  835\n",
            "Number of null:  scoredhints_mindate  :  846\n",
            "Number of null:  kb_sugg_mindate  :  1018\n",
            "Number of null:  sugg_mindate  :  0\n",
            "Number where all match\n",
            "2957\n",
            "1569\n",
            "time: 9.34 ms (started: 2022-08-30 15:08:06 -04:00)\n"
          ]
        }
      ],
      "source": [
        "## Count the number of agents where SC turned on, not turned on, equal\n",
        "for c in firstdates_df.columns:\n",
        "    print('Number of null: ', c, ' : ', sum(pd.isnull(firstdates_df[c])))\n",
        "print('Number where all match')\n",
        "print(sum(firstdates_df['hints_mindate']==firstdates_df['sugg_mindate']))\n",
        "print(sum(firstdates_df['hints_mindate']==firstdates_df['sc_mindate']))"
      ]
    },
    {
      "cell_type": "code",
      "execution_count": null,
      "metadata": {
        "id": "8vq8RXzUv4QU",
        "outputId": "b8927fff-f888-4ba7-d3e6-012cab702613"
      },
      "outputs": [
        {
          "name": "stdout",
          "output_type": "stream",
          "text": [
            "time: 10.2 ms (started: 2022-08-30 15:08:06 -04:00)\n"
          ]
        }
      ],
      "source": [
        "firstdates_df['ai_start_mindate'] = firstdates_df.min(axis=1)\n",
        "firstdates_df['ai_start_maxdate'] = firstdates_df.max(axis=1)\n",
        "firstdates_df['ai_start_minmaxdatediff'] = (firstdates_df['ai_start_maxdate'] - firstdates_df['ai_start_mindate']).dt.days\n"
      ]
    },
    {
      "cell_type": "code",
      "execution_count": null,
      "metadata": {
        "id": "CvMLsOL5v4QV",
        "outputId": "6ce70fa8-5c0e-48a1-c202-78fac502df43"
      },
      "outputs": [
        {
          "name": "stdout",
          "output_type": "stream",
          "text": [
            "time: 3.92 ms (started: 2022-08-30 15:08:06 -04:00)\n"
          ]
        }
      ],
      "source": [
        "mask = (pd.isnull(firstdates_df['ai_start_mindate']) | pd.isnull(firstdates_df['ai_start_maxdate']))\n",
        "firstdates_df.loc[mask, 'ai_start_minmaxdatediff'] = np.nan"
      ]
    },
    {
      "cell_type": "code",
      "execution_count": null,
      "metadata": {
        "id": "H6jGPgMNv4Qg",
        "outputId": "727f38bd-ddac-4aed-8480-22d21f0af5c7"
      },
      "outputs": [
        {
          "data": {
            "text/plain": [
              "<AxesSubplot:>"
            ]
          },
          "execution_count": 53,
          "metadata": {},
          "output_type": "execute_result"
        },
        {
          "data": {
            "image/png": "[encoded data removed]",
            "text/plain": [
              "<Figure size 432x288 with 1 Axes>"
            ]
          },
          "metadata": {
            "needs_background": "light"
          },
          "output_type": "display_data"
        },
        {
          "name": "stdout",
          "output_type": "stream",
          "text": [
            "time: 172 ms (started: 2022-08-30 15:08:06 -04:00)\n"
          ]
        }
      ],
      "source": [
        "firstdates_df['ai_start_minmaxdatediff'].hist()\n"
      ]
    },
    {
      "cell_type": "code",
      "execution_count": null,
      "metadata": {
        "id": "DaKcLnF4v4Qh",
        "outputId": "22c8e858-21a7-443c-b686-7ff168e87ae9"
      },
      "outputs": [
        {
          "data": {
            "text/plain": [
              "<AxesSubplot:>"
            ]
          },
          "execution_count": 54,
          "metadata": {},
          "output_type": "execute_result"
        },
        {
          "data": {
            "image/png": "[encoded data removed]",
            "text/plain": [
              "<Figure size 432x288 with 1 Axes>"
            ]
          },
          "metadata": {
            "needs_background": "light"
          },
          "output_type": "display_data"
        },
        {
          "name": "stdout",
          "output_type": "stream",
          "text": [
            "time: 212 ms (started: 2022-08-30 15:08:06 -04:00)\n"
          ]
        }
      ],
      "source": [
        "## Make a graph of when people start\n",
        "\n",
        "firstdates_df['ai_start_maxdate'].hist()"
      ]
    },
    {
      "cell_type": "code",
      "execution_count": null,
      "metadata": {
        "id": "tAe-d5igv4Qi",
        "outputId": "14b7c806-bfc8-48b7-9836-97fa022c8b55"
      },
      "outputs": [
        {
          "data": {
            "text/plain": [
              "<AxesSubplot:>"
            ]
          },
          "execution_count": 55,
          "metadata": {},
          "output_type": "execute_result"
        },
        {
          "data": {
            "image/png": "[encoded data removed]",
            "text/plain": [
              "<Figure size 432x288 with 1 Axes>"
            ]
          },
          "metadata": {
            "needs_background": "light"
          },
          "output_type": "display_data"
        },
        {
          "name": "stdout",
          "output_type": "stream",
          "text": [
            "time: 220 ms (started: 2022-08-30 15:08:07 -04:00)\n"
          ]
        }
      ],
      "source": [
        "firstdates_df['ai_start_mindate'].hist()"
      ]
    },
    {
      "cell_type": "code",
      "execution_count": null,
      "metadata": {
        "id": "KvnCBfOqv4Qj",
        "outputId": "a0a4d19f-5718-454e-cee5-0839bcc51869"
      },
      "outputs": [
        {
          "name": "stdout",
          "output_type": "stream",
          "text": [
            "Min date merge results:  both          1798183\n",
            "left_only           0\n",
            "right_only          0\n",
            "Name: _merge, dtype: int64\n",
            "time: 17.6 s (started: 2022-08-30 15:08:10 -04:00)\n"
          ]
        }
      ],
      "source": [
        "prod_df2 = prod_df.merge(firstdates_df.reset_index(), on='latest_agent_id',how='left', indicator=True)\n",
        "print('Min date merge results: ', prod_df2['_merge'].value_counts())\n",
        "prod_df2 = prod_df2.drop(columns='_merge')"
      ]
    },
    {
      "cell_type": "code",
      "execution_count": null,
      "metadata": {
        "id": "tevKLwsev4Qk",
        "outputId": "e140f2cf-a238-412f-a657-566f303c54be"
      },
      "outputs": [
        {
          "name": "stdout",
          "output_type": "stream",
          "text": [
            "count    1.798183e+06\n",
            "mean     9.831580e-01\n",
            "std      1.286793e-01\n",
            "min      0.000000e+00\n",
            "25%      1.000000e+00\n",
            "50%      1.000000e+00\n",
            "75%      1.000000e+00\n",
            "max      1.000000e+00\n",
            "Name: flag_ai_on_mindate, dtype: float64 0.9831579989355922\n",
            "time: 173 ms (started: 2022-08-30 15:08:27 -04:00)\n"
          ]
        }
      ],
      "source": [
        "prod_df2['days_since_ai_start_mindate'] = (prod_df2['chat_date'] - prod_df2['ai_start_mindate']).dt.days\n",
        "prod_df2['flag_ai_on_mindate'] = 0\n",
        "prod_df2.loc[prod_df2['days_since_ai_start_mindate']>=1, 'flag_ai_on_mindate'] = 1\n",
        "print(prod_df2['flag_ai_on_mindate'].describe(), prod_df2['flag_ai_on_mindate'].mean())"
      ]
    },
    {
      "cell_type": "code",
      "execution_count": null,
      "metadata": {
        "id": "ukXM8UbFv4Ql",
        "outputId": "d7bda261-279e-4df3-dd5c-0634f84cbf83"
      },
      "outputs": [
        {
          "name": "stdout",
          "output_type": "stream",
          "text": [
            "count    1.798183e+06\n",
            "mean     8.635206e-01\n",
            "std      3.432970e-01\n",
            "min      0.000000e+00\n",
            "25%      1.000000e+00\n",
            "50%      1.000000e+00\n",
            "75%      1.000000e+00\n",
            "max      1.000000e+00\n",
            "Name: flag_ai_on_maxdate, dtype: float64 0.8635205649258167\n",
            "time: 160 ms (started: 2022-08-30 15:08:28 -04:00)\n"
          ]
        }
      ],
      "source": [
        "prod_df2['days_since_ai_start_maxdate'] = (prod_df2['chat_date'] - prod_df2['ai_start_maxdate']).dt.days\n",
        "prod_df2['flag_ai_on_maxdate'] = 0\n",
        "prod_df2.loc[prod_df2['days_since_ai_start_maxdate']>=1, 'flag_ai_on_maxdate'] = 1\n",
        "print(prod_df2['flag_ai_on_maxdate'].describe(), prod_df2['flag_ai_on_maxdate'].mean())"
      ]
    },
    {
      "cell_type": "code",
      "execution_count": null,
      "metadata": {
        "id": "Z-C5VVI4v4Qm",
        "outputId": "082f4fd6-9bbc-4c20-f890-fef74c03de2b"
      },
      "outputs": [
        {
          "name": "stdout",
          "output_type": "stream",
          "text": [
            "time: 4min 29s (started: 2022-08-30 15:08:28 -04:00)\n"
          ]
        }
      ],
      "source": [
        "prod_df2['chat_month_date'] = prod_df2['chat_date'].apply(\n",
        "    lambda x: pd.to_datetime('{}-{}-01'.format(x.year, x.month), format='%Y-%m-%d'))\n",
        "\n",
        "prod_df2.loc[:, 'chat_month_date'] = prod_df2['chat_month_date'].dt.date"
      ]
    },
    {
      "cell_type": "code",
      "execution_count": null,
      "metadata": {
        "id": "DcBEeGijv4Qy",
        "outputId": "df624c0a-550a-4a33-b6b0-bc3b50ff5e47"
      },
      "outputs": [
        {
          "name": "stdout",
          "output_type": "stream",
          "text": [
            "1731319\n",
            "(1798183, 69)  Shape after droppping odd duration  (1731319, 69)\n",
            "time: 3.26 s (started: 2022-08-30 15:47:42 -04:00)\n"
          ]
        }
      ],
      "source": [
        "## we drop chats that are negative duration over over 120 minutes\n",
        "to_keep = ((prod_df2['duration_minutes'] >= min_duration) & (prod_df2['duration_minutes']<=max_duration))\n",
        "print(sum(to_keep))\n",
        "prod_df3 = prod_df2.loc[to_keep,:]\n",
        "print(prod_df2.shape, ' Shape after droppping odd duration ', prod_df3.shape)"
      ]
    },
    {
      "cell_type": "code",
      "execution_count": null,
      "metadata": {
        "id": "B-Y4fLK9v4Qz",
        "outputId": "8c36f831-2df1-4d91-b5dc-048eb214ad6f"
      },
      "outputs": [
        {
          "name": "stdout",
          "output_type": "stream",
          "text": [
            "time: 1.12 ms (started: 2022-08-30 15:13:01 -04:00)\n"
          ]
        }
      ],
      "source": [
        "### Recode some platform_chat_skills that were filled in incorrectly\n",
        "platform_chat_skill_recode = {'1345878214':'sbseg-dt_proprem_en_us_supp_msg',\n",
        "                              '1537674214': 'sbseg-dt_diy_en_us_supp_msg',\n",
        "                              '1697911530': 'sbseg-dt_proprem_en_us_act_msg',\n",
        "                        '1800521930': 'sbseg-dt_proprem_en_us_plus_msg',\n",
        "                    '1945457730': 'sbseg-dt_proprem_en_us_suppoutprod_msg',\n",
        "                '1345878214': 'sbseg-dt_proprem_en_us_supp_msg',\n",
        "            '1537674214': 'sbseg-dt_diy_en_us_supp_msg', '1697911530': 'sbseg-dt_proprem_en_us_act_msg',\n",
        "            '1790436730': 'sbseg-dt_diy_en_us_premium_msg',\n",
        "                        '1709463730': 'sbseg-ol_qbop_en_us_core_msg', '2012060130': 'sbseg-dt_proprem_en_us_plusftu_msg'}\n"
      ]
    },
    {
      "cell_type": "code",
      "execution_count": null,
      "metadata": {
        "id": "2DA9UBLmv4Q1",
        "outputId": "c95a5307-95df-4ab7-85fb-0b8fa173f234"
      },
      "outputs": [
        {
          "name": "stderr",
          "output_type": "stream",
          "text": [
            "/Users/lindseyraymond/Dropbox (MIT)/Research/Erik/Cresta/Empirics/CrestaCode/crestavenv/lib/python3.7/site-packages/pandas/core/indexing.py:1817: SettingWithCopyWarning: \n",
            "A value is trying to be set on a copy of a slice from a DataFrame.\n",
            "Try using .loc[row_indexer,col_indexer] = value instead\n",
            "\n",
            "See the caveats in the documentation: https://pandas.pydata.org/pandas-docs/stable/user_guide/indexing.html#returning-a-view-versus-a-copy\n",
            "  self._setitem_single_column(loc, value, pi)\n"
          ]
        },
        {
          "name": "stdout",
          "output_type": "stream",
          "text": [
            "time: 1.72 s (started: 2022-08-30 15:13:01 -04:00)\n"
          ]
        }
      ],
      "source": [
        "for k, v in platform_chat_skill_recode.items():\n",
        "    prod_df3.loc[prod_df3['platform_chat_skill']==k, 'platform_chat_skill'] = v"
      ]
    },
    {
      "cell_type": "markdown",
      "metadata": {
        "id": "HQSpAYD8v4Q2"
      },
      "source": [
        "## Exporting Cleaned production to CSV \n",
        "* takes about 5 minutes"
      ]
    },
    {
      "cell_type": "code",
      "execution_count": null,
      "metadata": {
        "id": "r8XvIvE8v4Q3",
        "outputId": "daba4b78-917a-4853-cd3b-83bdaf6927de"
      },
      "outputs": [
        {
          "name": "stdout",
          "output_type": "stream",
          "text": [
            "time: 5min 44s (started: 2022-08-30 15:13:48 -04:00)\n"
          ]
        }
      ],
      "source": [
        "prod_df3.to_csv(cleaned_production_filename)"
      ]
    },
    {
      "cell_type": "markdown",
      "source": [
        "## End of the clean production part of the code\n",
        "* production data cleaning takes much less time than analytics"
      ],
      "metadata": {
        "id": "WvWyKVnM5Aqr"
      }
    },
    {
      "cell_type": "code",
      "source": [
        "##"
      ],
      "metadata": {
        "id": "dgsiY0W448YA"
      },
      "execution_count": null,
      "outputs": []
    },
    {
      "cell_type": "markdown",
      "metadata": {
        "id": "vTbAHbobv4Q4"
      },
      "source": [
        "### Creating Chat Skillname Counts"
      ]
    },
    {
      "cell_type": "code",
      "execution_count": null,
      "metadata": {
        "id": "1LoeRy73v4Q5",
        "outputId": "bf9cc840-b790-43b2-9238-da84073b3b00"
      },
      "outputs": [
        {
          "name": "stdout",
          "output_type": "stream",
          "text": [
            "time: 10.2 s (started: 2022-08-30 15:19:33 -04:00)\n"
          ]
        }
      ],
      "source": [
        "post_ai_counts = prod_df3.loc[prod_df3['duration_minutes']>2,:].groupby(['chat_month_date','platform_chat_skill']).agg({'platform_chat_skill': 'count',\n",
        "                                                                               'duration_minutes': np.mean,\n",
        "                                                                               'flag_resolved': np.mean})\n"
      ]
    },
    {
      "cell_type": "code",
      "execution_count": null,
      "metadata": {
        "id": "4rAr4KLpv4RJ",
        "outputId": "13266f1e-4530-4bce-bd33-57d911c95ff6"
      },
      "outputs": [
        {
          "name": "stdout",
          "output_type": "stream",
          "text": [
            "time: 8.11 ms (started: 2022-08-30 15:19:43 -04:00)\n"
          ]
        }
      ],
      "source": [
        "post_ai_counts = post_ai_counts.rename(columns={'platform_chat_skill':'count_chats'}).reset_index()"
      ]
    },
    {
      "cell_type": "code",
      "execution_count": null,
      "metadata": {
        "id": "H4e3ETd7v4RK",
        "outputId": "3211f641-b380-40d6-abdf-60c13f492266"
      },
      "outputs": [
        {
          "name": "stdout",
          "output_type": "stream",
          "text": [
            "time: 11.8 ms (started: 2022-08-30 15:19:43 -04:00)\n"
          ]
        }
      ],
      "source": [
        "## add a column that counts the number of months a chat platform skill sticks around\n",
        "post_ai_counts['number_months'] = post_ai_counts.groupby('platform_chat_skill')['chat_month_date'].transform('count')"
      ]
    },
    {
      "cell_type": "code",
      "execution_count": null,
      "metadata": {
        "id": "oNI9aonBv4Rd",
        "outputId": "2cb8b4cb-65b0-4fed-8077-844f4ec12516"
      },
      "outputs": [
        {
          "name": "stdout",
          "output_type": "stream",
          "text": [
            "827\n",
            "Pre filter :  (1064, 6)  post filter  (827, 6)\n",
            "time: 22.6 ms (started: 2022-08-30 15:19:43 -04:00)\n"
          ]
        }
      ],
      "source": [
        "## drop if number of chats in a given month-category below a certain threshold\n",
        "mask = (post_ai_counts['count_chats']>5)\n",
        "print(sum(mask))\n",
        "post_ai_counts2 = post_ai_counts.loc[mask, :]\n",
        "print('Pre filter : ', post_ai_counts.shape, ' post filter ', post_ai_counts2.shape)"
      ]
    },
    {
      "cell_type": "code",
      "execution_count": null,
      "metadata": {
        "id": "-QsY0IINv4Rr",
        "outputId": "d676ae53-f5a9-4a41-e3a1-17307c8c8e6b"
      },
      "outputs": [
        {
          "name": "stdout",
          "output_type": "stream",
          "text": [
            "time: 32.8 ms (started: 2022-08-30 15:19:43 -04:00)\n"
          ]
        },
        {
          "name": "stderr",
          "output_type": "stream",
          "text": [
            "/Users/lindseyraymond/Dropbox (MIT)/Research/Erik/Cresta/Empirics/CrestaCode/crestavenv/lib/python3.7/site-packages/ipykernel_launcher.py:2: SettingWithCopyWarning: \n",
            "A value is trying to be set on a copy of a slice from a DataFrame.\n",
            "Try using .loc[row_indexer,col_indexer] = value instead\n",
            "\n",
            "See the caveats in the documentation: https://pandas.pydata.org/pandas-docs/stable/user_guide/indexing.html#returning-a-view-versus-a-copy\n",
            "  \n"
          ]
        }
      ],
      "source": [
        "post_ai_counts2['rank_chats'] = post_ai_counts2.groupby(['chat_month_date'])['count_chats'].rank(\n",
        "    ascending=False, method='min')"
      ]
    },
    {
      "cell_type": "code",
      "execution_count": null,
      "metadata": {
        "id": "yEiTyDQpv4Rs",
        "outputId": "682a07ce-cf40-49ff-b711-01635d7e566a"
      },
      "outputs": [
        {
          "name": "stdout",
          "output_type": "stream",
          "text": [
            "time: 24.5 ms (started: 2022-08-30 15:19:43 -04:00)\n"
          ]
        },
        {
          "name": "stderr",
          "output_type": "stream",
          "text": [
            "/Users/lindseyraymond/Dropbox (MIT)/Research/Erik/Cresta/Empirics/CrestaCode/crestavenv/lib/python3.7/site-packages/ipykernel_launcher.py:2: SettingWithCopyWarning: \n",
            "A value is trying to be set on a copy of a slice from a DataFrame.\n",
            "Try using .loc[row_indexer,col_indexer] = value instead\n",
            "\n",
            "See the caveats in the documentation: https://pandas.pydata.org/pandas-docs/stable/user_guide/indexing.html#returning-a-view-versus-a-copy\n",
            "  \n"
          ]
        }
      ],
      "source": [
        "post_ai_counts2['rank_duration'] = post_ai_counts2.groupby(['chat_month_date'])['duration_minutes'].rank(\n",
        "    ascending=True, method='min')\n"
      ]
    },
    {
      "cell_type": "code",
      "execution_count": null,
      "metadata": {
        "id": "f50iY8rlv4Rt",
        "outputId": "616be803-0d2a-4b1f-fa6e-52a7e9cf501d"
      },
      "outputs": [
        {
          "name": "stdout",
          "output_type": "stream",
          "text": [
            "time: 22.4 ms (started: 2022-08-30 15:19:43 -04:00)\n"
          ]
        },
        {
          "name": "stderr",
          "output_type": "stream",
          "text": [
            "/Users/lindseyraymond/Dropbox (MIT)/Research/Erik/Cresta/Empirics/CrestaCode/crestavenv/lib/python3.7/site-packages/ipykernel_launcher.py:2: SettingWithCopyWarning: \n",
            "A value is trying to be set on a copy of a slice from a DataFrame.\n",
            "Try using .loc[row_indexer,col_indexer] = value instead\n",
            "\n",
            "See the caveats in the documentation: https://pandas.pydata.org/pandas-docs/stable/user_guide/indexing.html#returning-a-view-versus-a-copy\n",
            "  \n"
          ]
        }
      ],
      "source": [
        "post_ai_counts2['rank_resolution'] = post_ai_counts2.groupby(['chat_month_date'])['flag_resolved'].rank(\n",
        "    ascending=False, method='min')"
      ]
    },
    {
      "cell_type": "code",
      "execution_count": null,
      "metadata": {
        "id": "u5Ra3x8jv4Ru",
        "outputId": "a2d3e953-6bb0-4c19-e04b-be9f70fa9e34"
      },
      "outputs": [
        {
          "name": "stdout",
          "output_type": "stream",
          "text": [
            "time: 163 ms (started: 2022-08-30 15:19:43 -04:00)\n"
          ]
        },
        {
          "name": "stderr",
          "output_type": "stream",
          "text": [
            "/Users/lindseyraymond/Dropbox (MIT)/Research/Erik/Cresta/Empirics/CrestaCode/crestavenv/lib/python3.7/site-packages/ipykernel_launcher.py:4: SettingWithCopyWarning: \n",
            "A value is trying to be set on a copy of a slice from a DataFrame.\n",
            "Try using .loc[row_indexer,col_indexer] = value instead\n",
            "\n",
            "See the caveats in the documentation: https://pandas.pydata.org/pandas-docs/stable/user_guide/indexing.html#returning-a-view-versus-a-copy\n",
            "  after removing the cwd from sys.path.\n"
          ]
        }
      ],
      "source": [
        "## break thse into buckets by month, quarters\n",
        "#df.groupby('country')[['value']].transform(lambda x: pd.cut(x, bins = 2).astype(str)\n",
        "post_ai_counts2['quantile_chat_ranks'] = post_ai_counts2.groupby('chat_month_date')[\n",
        "    'count_chats'].transform(lambda x: pd.qcut(x, q=5, labels=['q0', 'q1', 'q2', 'q3', 'q4']))"
      ]
    },
    {
      "cell_type": "code",
      "execution_count": null,
      "metadata": {
        "id": "Zz4G9XMiv4Rv",
        "outputId": "df4d1c75-59a5-4599-b687-0d8fe29817d7"
      },
      "outputs": [
        {
          "name": "stdout",
          "output_type": "stream",
          "text": [
            "time: 7.68 ms (started: 2022-08-30 15:19:43 -04:00)\n"
          ]
        },
        {
          "name": "stderr",
          "output_type": "stream",
          "text": [
            "/Users/lindseyraymond/Dropbox (MIT)/Research/Erik/Cresta/Empirics/CrestaCode/crestavenv/lib/python3.7/site-packages/ipykernel_launcher.py:1: SettingWithCopyWarning: \n",
            "A value is trying to be set on a copy of a slice from a DataFrame.\n",
            "Try using .loc[row_indexer,col_indexer] = value instead\n",
            "\n",
            "See the caveats in the documentation: https://pandas.pydata.org/pandas-docs/stable/user_guide/indexing.html#returning-a-view-versus-a-copy\n",
            "  \"\"\"Entry point for launching an IPython kernel.\n"
          ]
        }
      ],
      "source": [
        "post_ai_counts2['res_per_hour'] = post_ai_counts2['flag_resolved']/(post_ai_counts2['duration_minutes']/60)"
      ]
    },
    {
      "cell_type": "markdown",
      "metadata": {
        "id": "EHwbU649v4Rv"
      },
      "source": [
        "### Export chat frequency graph"
      ]
    },
    {
      "cell_type": "code",
      "execution_count": null,
      "metadata": {
        "id": "bSylMfWov4R9",
        "outputId": "3f402f78-34cd-494f-e08b-2367f92adae7"
      },
      "outputs": [
        {
          "name": "stdout",
          "output_type": "stream",
          "text": [
            "time: 83.8 ms (started: 2022-08-30 15:19:44 -04:00)\n"
          ]
        }
      ],
      "source": [
        "post_ai_counts2.to_csv(os.path.join(root_dir, 'Data/IntData/chats/chat_ranks.csv'))"
      ]
    },
    {
      "cell_type": "markdown",
      "metadata": {
        "id": "p5ULjEpQv4R-"
      },
      "source": [
        "### Import Analytics Files and Clean"
      ]
    },
    {
      "cell_type": "code",
      "execution_count": null,
      "metadata": {
        "id": "1Se0oEJ3v4R-",
        "outputId": "e3854d0d-2f51-471c-cbed-82d06f94301a"
      },
      "outputs": [
        {
          "name": "stdout",
          "output_type": "stream",
          "text": [
            "time: 5.71 ms (started: 2022-08-30 15:19:44 -04:00)\n"
          ]
        }
      ],
      "source": [
        "analytics_files = sorted([x for x in os.listdir(analytics_files_dir) if x.endswith('.csv')])"
      ]
    },
    {
      "cell_type": "code",
      "execution_count": null,
      "metadata": {
        "id": "Zcc9HF0dv4R_",
        "outputId": "63d46040-e25f-4708-8fcb-d635f439aacb"
      },
      "outputs": [
        {
          "name": "stdout",
          "output_type": "stream",
          "text": [
            "time: 1.28 ms (started: 2022-08-30 16:33:47 -04:00)\n"
          ]
        }
      ],
      "source": [
        "## import each chat, \n"
      ]
    },
    {
      "cell_type": "code",
      "execution_count": null,
      "metadata": {
        "id": "2b53ZP8_v4SB",
        "outputId": "05b77849-6f5d-4043-877c-4c79b1be523b"
      },
      "outputs": [
        {
          "name": "stdout",
          "output_type": "stream",
          "text": [
            "time: 2.46 ms (started: 2022-08-30 20:16:15 -04:00)\n"
          ]
        }
      ],
      "source": []
    },
    {
      "cell_type": "code",
      "execution_count": null,
      "metadata": {
        "id": "yYFMYNxcv4SB",
        "outputId": "36f6a7ee-3473-4f80-c248-5ea3a7bcb718",
        "colab": {
          "base_uri": "https://localhost:8080/"
        }
      },
      "outputs": [
        {
          "output_type": "stream",
          "name": "stdout",
          "text": [
            "time: 47.3 ms (started: 2022-08-31 19:51:00 +00:00)\n"
          ]
        }
      ],
      "source": [
        "def clean_single_analytics(analytics_filepath, clean_filepath, include_text, **kwargs):\n",
        "    ## import a single analytics file to clean\n",
        "    print('Reading in :', analytics_filepath)\n",
        "\n",
        "    analytics_columns = ['analytics_chat_db_id', 'agent_fullname', 'agent_nickname',  'agent_platform_id',  \n",
        "                             'analytics_chat_name', 'chat_agentdeleted',  'chat_agentfullname',  'chat_agentgroupname', 'chat_agentloginname',\n",
        "                             'chat_agentnickname',  'chat_closereason', 'chat_closereasondescr', 'chat_duration',  'chat_features',\n",
        "                             'chat_firstconversation',  'chat_name', 'chat_skillname', 'chat_status', \n",
        "                             'chat_text', 'cleaned_platform_chat_id',  'first_agent_platform_id', 'first_nonystem_message',\n",
        "                             'hermes_chat_id',  'ispartial', 'latest_groupid', 'latest_skillid', 'chat_start_date']\n",
        "    if not include_text:\n",
        "        analytics_columns = list(filter(lambda x: x!='chat_text', analytics_columns))\n",
        "    df = pd.read_csv(analytics_filepath, on_bad_lines='warn', parse_dates=['chat_start_date', 'first_nonystem_message'],\n",
        "                    usecols=analytics_columns, **kwargs)\n",
        "    print('Original df shape: ', df.shape)\n",
        "    df = df.loc[~pd.isnull(df['chat_text'])]\n",
        "    bool_cols = ['ispartial', 'chat_agentdeleted', 'chat_firstconversation']\n",
        "    sums = []\n",
        "    for col in bool_cols:\n",
        "        r = df.loc[((df[col]==True)|(df[col].isin(['True', 'true', 'TRUE']))), :].shape[0]\n",
        "        sums.append(r)\n",
        "    \n",
        "    df.loc[:, bool_cols] = df.loc[:, bool_cols].applymap(parse_bool)\n",
        "    for i, col in enumerate(bool_cols):\n",
        "        print(i, col, df[col].sum() == sums[i])\n",
        "\n",
        "    df.loc[:, 'chat_duration'] = df['chat_duration'].apply(parse_duration)\n",
        "    text_analytics_columns = ['analytics_chat_name', 'agent_platform_id','first_agent_platform_id', 'chat_skillname', 'chat_agentfullname',\n",
        "       'chat_agentnickname', 'chat_agentgroupname', 'chat_agentloginname', 'chat_status', 'chat_closereason', 'chat_closereasondescr', \n",
        "       'cleaned_platform_chat_id', 'chat_name','agent_fullname', 'agent_nickname']\n",
        "    \n",
        "    df.loc[:, text_analytics_columns] = df.loc[:, text_analytics_columns].applymap(clean_lower_strip_str)\n",
        "\n",
        "    if include_text:\n",
        "        df['ana_n_messages_agent'] = df['chat_text'].apply(\n",
        "                lambda x: len(list(filter(lambda x: x['speaker_role']=='agent', parse_json(x)))))\n",
        "        df['ana_n_messages_visitor'] = df['chat_text'].apply(\n",
        "                lambda x: len(list(filter(lambda x: x['speaker_role']=='visitor', parse_json(x)))))\n",
        "        # filter dataframe -> keep if >1 messages visitor, 1 messages agent,\n",
        "        # drop chats without agent_id, drop chat_date before August 2020\n",
        "        print('Subsetting to chats with at least 2 visitor and agent messages: ', df.shape)\n",
        "        df = df.loc[((df['ana_n_messages_visitor'] > min_messages) & (df['ana_n_messages_agent'] > min_messages)), :]\n",
        "        print('Shape after subsetting : ', df.shape)\n",
        "    # now drop rows that are less than or greater min and max duration\n",
        "    ## we drop chats that are negative duration over over 120 minutes\n",
        "    to_keep = ((df['chat_duration'] >= min_duration) & (df['chat_duration'] <= max_duration))\n",
        "    print('Shape after dropping strange durations: ', sum(to_keep))\n",
        "    df = df.loc[to_keep,:]\n",
        "    ## filter all platform ids\n",
        "    \n",
        "    print('Filtering on platform chat id and agent platform id. Original df: ', df.shape)\n",
        "    df = df.loc[((~pd.isnull(df['cleaned_platform_chat_id'])) & (~pd.isnull(df['agent_platform_id']))), :]\n",
        "    mask = ((pd.isnull(df['first_agent_platform_id'])) & (~pd.isnull(df['agent_platform_id'])))\n",
        "    df.loc[mask, 'first_agent_platform_id'] = df.loc[mask, 'agent_platform_id'].apply(lambda x: x.split('|')[0])\n",
        "    print('Number missing agent platform ids', df.loc[pd.isnull(df['first_agent_platform_id']),].shape)\n",
        "    df = df.loc[(~pd.isnull(df['first_agent_platform_id'])), :]\n",
        "    print(' Filtered df shape : ', df.shape)\n",
        "    df = df.sort_values('analytics_chat_db_id')\n",
        "    if 'chat_start_date' in df.columns:\n",
        "        df.loc[:, 'chat_start_date'] = pd.to_datetime(df['chat_start_date']).dt.date\n",
        "\n",
        "\n",
        "    assert df.drop_duplicates('analytics_chat_db_id').shape[0] == df.shape[0]\n",
        "    df = df.set_index('analytics_chat_db_id')\n",
        "    if include_text:\n",
        "        print('Creating text columns')\n",
        "        df['sorted_chat_text']  = df['chat_text'].apply(\n",
        "            lambda z: sorted(parse_json(z), key=lambda x: pd.to_datetime(x['pub_date'])))\n",
        "        df['agent_chat_text']  = df['sorted_chat_text'].apply(lambda z: list(map(lambda x: x['chat_text'], filter(lambda x: x[\n",
        "        'speaker_role']=='agent', z))))\n",
        "        df['visitor_chat_text']  = df['sorted_chat_text'].apply(lambda z: list(map(lambda x: x['chat_text'], filter(lambda x: x[\n",
        "        'speaker_role']=='visitor', z))))\n",
        "\n",
        "    df = df.rename(columns={'cleaned_platform_chat_id':'platform_chat_id', 'chat_start_date': 'chat_start_datetime'})\n",
        "    assert df['ispartial'].sum() == df.loc[((df['ispartial']=='True') | (df['ispartial']==True)), :].shape[0]\n",
        "    assert df['chat_firstconversation'].sum() == df.loc[((df['chat_firstconversation']=='True') | (df['chat_firstconversation']==True)), :].shape[0]\n",
        "    assert df['chat_agentdeleted'].sum() == df.loc[((df['chat_agentdeleted']=='True') | (df['chat_agentdeleted']==True)), :].shape[0]  \n",
        "    print('Exporting to csv: ', clean_filepath)\n",
        "    df.to_csv(clean_filepath)\n",
        "    print('Done exporting to csv')\n",
        "    return df\n",
        "    "
      ]
    },
    {
      "cell_type": "code",
      "execution_count": null,
      "metadata": {
        "id": "kATMJtfQv4SN",
        "outputId": "8b4fcb63-de16-47ca-864e-ad0e8706a520",
        "colab": {
          "base_uri": "https://localhost:8080/"
        }
      },
      "outputs": [
        {
          "output_type": "stream",
          "name": "stdout",
          "text": [
            "time: 3.19 ms (started: 2022-08-31 21:17:35 +00:00)\n"
          ]
        }
      ],
      "source": [
        "def clean_analytics(analytics_filesdir, clean_analytics_filesdir, include_text=True, return_dfs=False, **kwargs):\n",
        "    ana_dfs = []\n",
        "    analytics_files = sorted([x for x in os.listdir(analytics_filesdir) if x.endswith(\n",
        "        '.csv') and x.startswith('intuitCS_analytics')])\n",
        "    for i, f in enumerate(analytics_files):\n",
        "        if f.endswith('_1.csv') or f.endswith('_2.csv'):\n",
        "            print('Reading in :', f)\n",
        "            single_df = clean_single_analytics(os.path.join(analytics_filesdir, f),\n",
        "                                     os.path.join(clean_analytics_filesdir, f), include_text, **kwargs)\n",
        "            if return_dfs:\n",
        "                ana_dfs.append(single_df.copy())\n",
        "            if not return_dfs:\n",
        "              del single_df\n",
        "    if not return_dfs:\n",
        "        return None\n",
        "    ana_df = pd.concat(ana_dfs, axis=0)\n",
        "    print('Concatenated data shape: ', ana_df.shape)\n",
        "    return ana_df\n",
        "                 \n",
        "                    \n",
        "                         "
      ]
    },
    {
      "cell_type": "code",
      "execution_count": null,
      "metadata": {
        "id": "9p0PnFt6v4SO",
        "outputId": "bf85c5ac-e84e-48d8-afb9-6ebc2f2d7bdf",
        "colab": {
          "base_uri": "https://localhost:8080/"
        }
      },
      "outputs": [
        {
          "output_type": "stream",
          "name": "stdout",
          "text": [
            "time: 1.66 ms (started: 2022-08-31 21:17:38 +00:00)\n"
          ]
        }
      ],
      "source": [
        "def load_analytics(clean_analytics_filesdir, include_text=True, **kwargs):\n",
        "    ana_dfs = []\n",
        "    analytics_files = sorted([x for x in os.listdir(clean_analytics_filesdir) if x.endswith(\n",
        "        '.csv') and x.startswith('intuitCS_analytics')])\n",
        "    for f in analytics_files[:3]:\n",
        "        print('Reading in :', f)\n",
        "        single_df = pd.read_csv(os.path.join(clean_analytics_filesdir, f), parse_dates=['chat_start_datetime', 'first_nonystem_message'], **kwargs)\n",
        "        ana_dfs.append(single_df.copy())\n",
        "    ana_df = pd.concat(ana_dfs, axis=0)\n",
        "    print('Concatenated data shape: ', ana_df.shape)\n",
        "    return ana_df"
      ]
    },
    {
      "cell_type": "code",
      "execution_count": null,
      "metadata": {
        "scrolled": true,
        "id": "Hj37KYHAv4SP",
        "outputId": "6abd3db5-c28e-4c42-c7b1-684edfc0d332",
        "colab": {
          "base_uri": "https://localhost:8080/"
        }
      },
      "outputs": [
        {
          "output_type": "stream",
          "name": "stdout",
          "text": [
            "Reading in : intuitCS_analytics_12March2022_1.csv\n",
            "Reading in : /content/drive/MyDrive/Research/Cresta/Data/RawData/chats/analytics_withtext/intuitCS_analytics_12March2022_1.csv\n",
            "Original df shape:  (551909, 27)\n",
            "0 ispartial True\n",
            "1 chat_agentdeleted True\n",
            "2 chat_firstconversation True\n",
            "Expecting value: line 1 column 5381 (char 5380) [{\"chat_text\" : \"I cannot use the same email address, right?\", \"speaker_role\" : \"visitor\", \"pub_date\" : \"2019-11-12T02:59:23\"}, {\"chat_text\" : \"I will check on this Ei Ei. Billing history feature has just been recently released and that is still under testing or Beta. I will submit feedback about this to our engineers.\", \"speaker_role\" : \"agent\", \"pub_date\" : \"2019-11-12T02:27:14\"}, {\"chat_text\" : \"No, you can't. You may use a different email to be the company admin.\", \"speaker_role\" : \"agent\", \"pub_date\" : \"2019-11-12T02:59:59\"}, {\"chat_text\" : \"Ok, that's all I think\", \"speaker_role\" : \"visitor\", \"pub_date\" : \"2019-11-12T03:11:49\"}, {\"chat_text\" : \"also can export invoice to pdf\", \"speaker_role\" : \"visitor\", \"pub_date\" : \"2019-11-12T03:07:53\"}, {\"chat_text\" : \"It has been great working with you and hope to be of service to you again soon. Speaking with users such as yourself make working as a Customer Service agent so much more worthwhile.\", \"speaker_role\" : \"agent\", \"pub_date\" : \"2019-11-12T03:12:27\"}, {\"chat_text\" : \"Ok, I want to separate it. Pls assist.\", \"speaker_role\" : \"visitor\", \"pub_date\" : \"2019-11-12T02:54:57\"}, {\"chat_text\" : \"You are most welcome. Please stay on the line so we can check if you will receive it.\", \"speaker_role\" : \"agent\", \"pub_date\" : \"2019-11-12T02:28:54\"}, {\"chat_text\" : \"Start from August 2019\", \"speaker_role\" : \"visitor\", \"pub_date\" : \"2019-11-12T02:13:49\"}, {\"chat_text\" : \"thanks\", \"speaker_role\" : \"visitor\", \"pub_date\" : \"2019-11-12T02:43:24\"}, {\"chat_text\" : \"If you are referring to delete the company admin newly added, yes you can delete.\", \"speaker_role\" : \"agent\", \"pub_date\" : \"2019-11-12T03:11:32\"}, {\"chat_text\" : \"I have another subscription and that one I can export pdf\", \"speaker_role\" : \"visitor\", \"pub_date\" : \"2019-11-12T02:14:21\"}, {\"chat_text\" : \"I only can view the billing history\", \"speaker_role\" : \"visitor\", \"pub_date\" : \"2019-11-12T02:21:54\"}, {\"chat_text\" : \"Check it on this ID : 1231 4644 2496 879\", \"speaker_role\" : \"visitor\", \"pub_date\" : \"2019-11-12T02:22:24\"}, {\"chat_text\" : \"what is the reason?\", \"speaker_role\" : \"visitor\", \"pub_date\" : \"2019-11-12T02:14:36\"}, {\"chat_text\" : \"Please let me check this account for you.\", \"speaker_role\" : \"agent\", \"pub_date\" : \"2019-11-12T02:43:16\"}, {\"chat_text\" : \"For now, what I can do is to send it to you via email.\", \"speaker_role\" : \"agent\", \"pub_date\" : \"2019-11-12T02:27:29\"}, {\"chat_text\" : \"Sure thing.\", \"speaker_role\" : \"agent\", \"pub_date\" : \"2019-11-12T02:40:43\"}, {\"chat_text\" : \"Would there be anything else I can do to make this conversation perfect for us today?\", \"speaker_role\" : \"agent\", \"pub_date\" : \"2019-11-12T03:09:40\"}, {\"chat_text\" : \"That's wonderful! Thank you so much as well for your kindest understanding and cooperation. :)\", \"speaker_role\" : \"agent\", \"pub_date\" : \"2019-11-12T03:13:48\"}, {\"chat_text\" : \"This balance of 121791.36, may I know as of what date is that?\", \"speaker_role\" : \"agent\", \"pub_date\" : \"2019-11-12T02:16:47\"}, {\"chat_text\" : \"Just wanted to inform you that we have a way to separate your access from the QBOA and the SIAPTEK PTE. LTD. account.\", \"speaker_role\" : \"agent\", \"pub_date\" : \"2019-11-12T02:50:53\"}, {\"chat_text\" : \"Again, this Joel and if you need further assistance, we're just a chat away! Thank you for reaching Intuit QuickBooks Online Support, for future references regarding QB Online, you may visit this website for helpful articles: https://community.intuit.com/quickbooks-online-intl\\n\\nHave a great day and take care always! :)\\n\\nBye for now. :) More power to your business!\", \"speaker_role\" : \"agent\", \"pub_date\" : \"2019-11-12T03:13:58\"}, {\"chat_text\" : \"Upon checking, you have sign up a QBOA account using the same master admin email and login profile of your client file that you are now accessing using the Accountant account. This is the reason why the account has been automatically added under the client list of your QBOA account and you can no longer access to it directly.\", \"speaker_role\" : \"agent\", \"pub_date\" : \"2019-11-12T02:47:28\"}, {\"chat_text\" : \"So here's what we need to do to remove and separate the QBOA and your client file now.\", \"speaker_role\" : \"agent\", \"pub_date\" : \"2019-11-12T02:49:01\"}, {\"chat_text\" : \"1231 4608 6080 069\", \"speaker_role\" : \"visitor\", \"pub_date\" : \"2019-11-12T02:10:30\"}, {\"chat_text\" : \"Always my pleasure to Help Ei Ei.\", \"speaker_role\" : \"agent\", \"pub_date\" : \"2019-11-12T03:12:07\"}, {\"chat_text\" : \"I can export to pdf for the invoice.\", \"speaker_role\" : \"visitor\", \"pub_date\" : \"2019-11-12T02:22:41\"}, {\"chat_text\" : \"I need to print the monthly invoice from Intuit quickbook for the subscription\", \"speaker_role\" : \"visitor\", \"pub_date\" : \"2019-11-12T02:09:20\"}, {\"chat_text\" : \"actually I'm the only user for this account.\", \"speaker_role\" : \"visitor\", \"pub_date\" : \"2019-11-12T02:41:42\"}, {\"chat_text\" : \"how to remove that client function\", \"speaker_role\" : \"visitor\", \"pub_date\" : \"2019-11-12T02:42:19\"}, {\"chat_text\" : \"That's great! I have not done for August yet. Please give me a minute.\", \"speaker_role\" : \"agent\", \"pub_date\" : \"2019-11-12T02:38:59\"}, {\"chat_text\" : \"yes, pls send the invoice from Aug , Sep and Oct for Siaptek Pte Ltd\", \"speaker_role\" : \"visitor\", \"pub_date\" : \"2019-11-12T02:28:14\"}, {\"chat_text\" : \"Thank you\", \"speaker_role\" : \"visitor\", \"pub_date\" : \"2019-11-12T02:28:16\"}, {\"chat_text\" : ွShall I delete the master admin user?\"\"\n",
            "Expecting value: line 1 column 5381 (char 5380) [{\"chat_text\" : \"I cannot use the same email address, right?\", \"speaker_role\" : \"visitor\", \"pub_date\" : \"2019-11-12T02:59:23\"}, {\"chat_text\" : \"I will check on this Ei Ei. Billing history feature has just been recently released and that is still under testing or Beta. I will submit feedback about this to our engineers.\", \"speaker_role\" : \"agent\", \"pub_date\" : \"2019-11-12T02:27:14\"}, {\"chat_text\" : \"No, you can't. You may use a different email to be the company admin.\", \"speaker_role\" : \"agent\", \"pub_date\" : \"2019-11-12T02:59:59\"}, {\"chat_text\" : \"Ok, that's all I think\", \"speaker_role\" : \"visitor\", \"pub_date\" : \"2019-11-12T03:11:49\"}, {\"chat_text\" : \"also can export invoice to pdf\", \"speaker_role\" : \"visitor\", \"pub_date\" : \"2019-11-12T03:07:53\"}, {\"chat_text\" : \"It has been great working with you and hope to be of service to you again soon. Speaking with users such as yourself make working as a Customer Service agent so much more worthwhile.\", \"speaker_role\" : \"agent\", \"pub_date\" : \"2019-11-12T03:12:27\"}, {\"chat_text\" : \"Ok, I want to separate it. Pls assist.\", \"speaker_role\" : \"visitor\", \"pub_date\" : \"2019-11-12T02:54:57\"}, {\"chat_text\" : \"You are most welcome. Please stay on the line so we can check if you will receive it.\", \"speaker_role\" : \"agent\", \"pub_date\" : \"2019-11-12T02:28:54\"}, {\"chat_text\" : \"Start from August 2019\", \"speaker_role\" : \"visitor\", \"pub_date\" : \"2019-11-12T02:13:49\"}, {\"chat_text\" : \"thanks\", \"speaker_role\" : \"visitor\", \"pub_date\" : \"2019-11-12T02:43:24\"}, {\"chat_text\" : \"If you are referring to delete the company admin newly added, yes you can delete.\", \"speaker_role\" : \"agent\", \"pub_date\" : \"2019-11-12T03:11:32\"}, {\"chat_text\" : \"I have another subscription and that one I can export pdf\", \"speaker_role\" : \"visitor\", \"pub_date\" : \"2019-11-12T02:14:21\"}, {\"chat_text\" : \"I only can view the billing history\", \"speaker_role\" : \"visitor\", \"pub_date\" : \"2019-11-12T02:21:54\"}, {\"chat_text\" : \"Check it on this ID : 1231 4644 2496 879\", \"speaker_role\" : \"visitor\", \"pub_date\" : \"2019-11-12T02:22:24\"}, {\"chat_text\" : \"what is the reason?\", \"speaker_role\" : \"visitor\", \"pub_date\" : \"2019-11-12T02:14:36\"}, {\"chat_text\" : \"Please let me check this account for you.\", \"speaker_role\" : \"agent\", \"pub_date\" : \"2019-11-12T02:43:16\"}, {\"chat_text\" : \"For now, what I can do is to send it to you via email.\", \"speaker_role\" : \"agent\", \"pub_date\" : \"2019-11-12T02:27:29\"}, {\"chat_text\" : \"Sure thing.\", \"speaker_role\" : \"agent\", \"pub_date\" : \"2019-11-12T02:40:43\"}, {\"chat_text\" : \"Would there be anything else I can do to make this conversation perfect for us today?\", \"speaker_role\" : \"agent\", \"pub_date\" : \"2019-11-12T03:09:40\"}, {\"chat_text\" : \"That's wonderful! Thank you so much as well for your kindest understanding and cooperation. :)\", \"speaker_role\" : \"agent\", \"pub_date\" : \"2019-11-12T03:13:48\"}, {\"chat_text\" : \"This balance of 121791.36, may I know as of what date is that?\", \"speaker_role\" : \"agent\", \"pub_date\" : \"2019-11-12T02:16:47\"}, {\"chat_text\" : \"Just wanted to inform you that we have a way to separate your access from the QBOA and the SIAPTEK PTE. LTD. account.\", \"speaker_role\" : \"agent\", \"pub_date\" : \"2019-11-12T02:50:53\"}, {\"chat_text\" : \"Again, this Joel and if you need further assistance, we're just a chat away! Thank you for reaching Intuit QuickBooks Online Support, for future references regarding QB Online, you may visit this website for helpful articles: https://community.intuit.com/quickbooks-online-intl\\n\\nHave a great day and take care always! :)\\n\\nBye for now. :) More power to your business!\", \"speaker_role\" : \"agent\", \"pub_date\" : \"2019-11-12T03:13:58\"}, {\"chat_text\" : \"Upon checking, you have sign up a QBOA account using the same master admin email and login profile of your client file that you are now accessing using the Accountant account. This is the reason why the account has been automatically added under the client list of your QBOA account and you can no longer access to it directly.\", \"speaker_role\" : \"agent\", \"pub_date\" : \"2019-11-12T02:47:28\"}, {\"chat_text\" : \"So here's what we need to do to remove and separate the QBOA and your client file now.\", \"speaker_role\" : \"agent\", \"pub_date\" : \"2019-11-12T02:49:01\"}, {\"chat_text\" : \"1231 4608 6080 069\", \"speaker_role\" : \"visitor\", \"pub_date\" : \"2019-11-12T02:10:30\"}, {\"chat_text\" : \"Always my pleasure to Help Ei Ei.\", \"speaker_role\" : \"agent\", \"pub_date\" : \"2019-11-12T03:12:07\"}, {\"chat_text\" : \"I can export to pdf for the invoice.\", \"speaker_role\" : \"visitor\", \"pub_date\" : \"2019-11-12T02:22:41\"}, {\"chat_text\" : \"I need to print the monthly invoice from Intuit quickbook for the subscription\", \"speaker_role\" : \"visitor\", \"pub_date\" : \"2019-11-12T02:09:20\"}, {\"chat_text\" : \"actually I'm the only user for this account.\", \"speaker_role\" : \"visitor\", \"pub_date\" : \"2019-11-12T02:41:42\"}, {\"chat_text\" : \"how to remove that client function\", \"speaker_role\" : \"visitor\", \"pub_date\" : \"2019-11-12T02:42:19\"}, {\"chat_text\" : \"That's great! I have not done for August yet. Please give me a minute.\", \"speaker_role\" : \"agent\", \"pub_date\" : \"2019-11-12T02:38:59\"}, {\"chat_text\" : \"yes, pls send the invoice from Aug , Sep and Oct for Siaptek Pte Ltd\", \"speaker_role\" : \"visitor\", \"pub_date\" : \"2019-11-12T02:28:14\"}, {\"chat_text\" : \"Thank you\", \"speaker_role\" : \"visitor\", \"pub_date\" : \"2019-11-12T02:28:16\"}, {\"chat_text\" : ွShall I delete the master admin user?\"\"\n",
            "Subsetting to chats with at least 2 visitor and agent messages:  (551421, 29)\n",
            "Shape after subsetting :  (437057, 29)\n",
            "Shape after dropping strange durations:  394709\n",
            "Filtering on platform chat id and agent platform id. Original df:  (394709, 29)\n",
            "Number missing agent platform ids (0, 29)\n",
            " Filtered df shape :  (394709, 29)\n",
            "Creating text columns\n",
            "Exporting to csv:  /content/drive/MyDrive/Research/Cresta/Data/RawData/chats/clean_analytics_withtext/intuitCS_analytics_12March2022_1.csv\n",
            "Done exporting to csv\n",
            "Reading in : intuitCS_analytics_12March2022_2.csv\n",
            "Reading in : /content/drive/MyDrive/Research/Cresta/Data/RawData/chats/analytics_withtext/intuitCS_analytics_12March2022_2.csv\n",
            "Original df shape:  (528593, 27)\n",
            "0 ispartial True\n",
            "1 chat_agentdeleted True\n",
            "2 chat_firstconversation True\n",
            "Subsetting to chats with at least 2 visitor and agent messages:  (528340, 29)\n",
            "Shape after subsetting :  (401136, 29)\n",
            "Shape after dropping strange durations:  360763\n",
            "Filtering on platform chat id and agent platform id. Original df:  (360763, 29)\n",
            "Number missing agent platform ids (0, 29)\n",
            " Filtered df shape :  (360763, 29)\n",
            "Creating text columns\n",
            "Exporting to csv:  /content/drive/MyDrive/Research/Cresta/Data/RawData/chats/clean_analytics_withtext/intuitCS_analytics_12March2022_2.csv\n",
            "Done exporting to csv\n",
            "time: 48min 56s (started: 2022-08-31 21:17:40 +00:00)\n"
          ]
        }
      ],
      "source": [
        "## this iterates through all analytics files and cleans them \n",
        "clean_analytics(analytics_files_dir, clean_analytics_files_dir, include_text=True, return_dfs=False)"
      ]
    },
    {
      "cell_type": "code",
      "source": [
        "    analytics_files = sorted([x for x in os.listdir(clean_analytics_filesdir) if x.endswith(\n",
        "        '.csv') and x.startswith('intuitCS_analytics')])"
      ],
      "metadata": {
        "id": "QOGWcjm4nadV"
      },
      "execution_count": null,
      "outputs": []
    },
    {
      "cell_type": "code",
      "execution_count": null,
      "metadata": {
        "id": "FslZ4evMv4SQ"
      },
      "outputs": [],
      "source": [
        "orig_prod_user_columns = ['agent_created_at',  'agent_team_id',\n",
        " 'agent_team_id_agg',  'agent_user_id', 'behaviors_needing_coaching', 'display_name', 'full_name',\n",
        "    'team_name', 'team_name_agg', 'user_created_at', 'user_id',  'user_platform_id', 'user_role_name',\n",
        " 'user_role_name_agg', 'user_str_id', 'username']\n",
        "\n",
        "orig_analytics_user_columns = ['agent_fullname', 'agent_nickname',  'agent_platform_id', 'chat_agentfullname',\n",
        " 'chat_agentgroupname', 'chat_agentloginname', 'chat_agentnickname']"
      ]
    },
    {
      "cell_type": "code",
      "execution_count": null,
      "metadata": {
        "id": "otWeQzR9v4SR",
        "outputId": "557a9078-ab50-44d7-ad21-79fbd5865613"
      },
      "outputs": [
        {
          "name": "stdout",
          "output_type": "stream",
          "text": [
            "time: 16.8 ms (started: 2022-08-30 22:15:16 -04:00)\n"
          ]
        }
      ],
      "source": [
        "\n",
        "to_agg_cols = ['agent_fullname', 'agent_nickname', 'chat_agentgroupname', 'agent_platform_id', \n",
        "               'chat_agentnickname', 'chat_agentfullname']\n",
        "\n",
        "\n",
        "def aggregate_rows(x):\n",
        "    r = set(list(filter(lambda z: isinstance(z, str), x)))\n",
        "    if r is None:\n",
        "        return np.nan\n",
        "    return '|'.join(list(r))\n",
        "\n",
        "\n",
        "def collect_analytics_users(clean_analytics_filesdir, **kwargs):\n",
        "    ana_dfs = []\n",
        "    analytics_files = sorted([x for x in os.listdir(clean_analytics_filesdir) if x.endswith(\n",
        "        '.csv') and x.startswith('intuitCS_analytics')])\n",
        "    for f in analytics_files[:1]:\n",
        "        print('Reading in :', os.path.join(clean_analytics_filesdir, f))\n",
        "        single_df = pd.read_csv(os.path.join(clean_analytics_filesdir, f),\n",
        "                                parse_dates=['chat_start_datetime'], **kwargs)\n",
        "        single_df['chat_date'] = pd.to_datetime(single_df['chat_start_datetime']).dt.date\n",
        "        single_df['chat_isoweek_date'] = single_df['chat_date'].apply(lambda x: isoweek.Week.withdate(x).day(ISOWEEK_DAY))\n",
        "        \n",
        "        single_df = single_df.loc[~pd.isnull(single_df['first_agent_platform_id']),:]\n",
        "        single_df['universal_agent_username'] = single_df['first_agent_platform_id'].apply(\n",
        "            lambda x: x if pd.isnull(x) else x.replace('livepersonagent-',''))\n",
        "        for col in to_agg_cols:\n",
        "            single_df[col] = single_df.groupby(['universal_agent_username'])[col].transform(aggregate_rows)\n",
        "\n",
        "        users_df_ana = single_df[to_agg_cols+['universal_agent_username']].sort_values(['universal_agent_username']+to_agg_cols).drop_duplicates(['universal_agent_username'])\n",
        "        min_date = single_df.groupby('universal_agent_username')['chat_date'].agg('min').to_frame()\n",
        "        min_date.columns = ['min_chat_date']\n",
        "        max_date = single_df.groupby('universal_agent_username')['chat_date'].agg('max').to_frame()\n",
        "        max_date.columns = ['max_chat_date']\n",
        "        n_weeks = single_df.groupby('universal_agent_username')['chat_isoweek_date'].agg('count').to_frame()\n",
        "        n_weeks.columns = ['n_distinct_weeks']\n",
        "        n_days = single_df.groupby('universal_agent_username')['chat_date'].agg('count').to_frame()\n",
        "        n_days.columns = ['n_distinct_days']\n",
        "        to_merge = pd.concat([n_weeks, max_date, min_date, n_days], axis=1, sort=True, join='outer', verify_integrity=True)\n",
        "        users_df_ana = users_df_ana.merge(to_merge,\n",
        "                        how='left', left_on='universal_agent_username', right_index=True)\n",
        "            \n",
        "        ana_dfs.append(users_df_ana.copy())\n",
        "    return pd.concat(ana_dfs.columns)"
      ]
    },
    {
      "cell_type": "code",
      "execution_count": null,
      "metadata": {
        "id": "73gZqhpGv4SS",
        "outputId": "0deec5a2-dbbe-49d1-e732-b149cbc10733"
      },
      "outputs": [
        {
          "data": {
            "text/plain": [
              "Index(['analytics_chat_db_id', 'analytics_chat_name', 'chat_start_datetime',\n",
              "       'agent_platform_id', 'first_agent_platform_id', 'chat_skillname',\n",
              "       'chat_agentfullname', 'chat_agentnickname', 'chat_agentgroupname',\n",
              "       'chat_agentloginname', 'chat_features', 'chat_duration', 'chat_status',\n",
              "       'ispartial', 'chat_closereason', 'chat_agentdeleted',\n",
              "       'chat_firstconversation', 'chat_closereasondescr', 'hermes_chat_id',\n",
              "       'latest_skillid', 'latest_groupid', 'platform_chat_id', 'chat_text',\n",
              "       'chat_name', 'first_nonystem_message', 'agent_fullname',\n",
              "       'agent_nickname', 'ana_n_messages_agent', 'ana_n_messages_visitor',\n",
              "       'sorted_chat_text', 'agent_chat_text', 'visitor_chat_text'],\n",
              "      dtype='object')"
            ]
          },
          "execution_count": 394,
          "metadata": {},
          "output_type": "execute_result"
        },
        {
          "name": "stdout",
          "output_type": "stream",
          "text": [
            "time: 74.2 ms (started: 2022-08-30 22:09:56 -04:00)\n"
          ]
        }
      ],
      "source": [
        "pd.read_csv('/Users/lindseyraymond/Dropbox (MIT)/Research/Erik/Cresta/Empirics/Data/RawData/chats/clean_analytics_withtext/intuitCS_analytics_12March2022_1.csv', nrows=100).columns"
      ]
    },
    {
      "cell_type": "code",
      "execution_count": null,
      "metadata": {
        "id": "fa1kAU54v4ST",
        "outputId": "55d622df-dd19-4ba9-80ff-c7c1834ab3e5"
      },
      "outputs": [
        {
          "name": "stdout",
          "output_type": "stream",
          "text": [
            "Reading in : /Users/lindseyraymond/Dropbox (MIT)/Research/Erik/Cresta/Empirics/Data/RawData/chats/clean_analytics_withtext/intuitCS_analytics_12March2022_1.csv\n"
          ]
        }
      ],
      "source": [
        "## collect unique users from analytics\n",
        "users_df_ana = collect_analytics_users(clean_analytics_files_dir)"
      ]
    },
    {
      "cell_type": "code",
      "execution_count": null,
      "metadata": {
        "id": "lDQ9d3w7v4ST"
      },
      "outputs": [],
      "source": []
    },
    {
      "cell_type": "code",
      "execution_count": null,
      "metadata": {
        "id": "LjTAwb4vv4SU"
      },
      "outputs": [],
      "source": []
    },
    {
      "cell_type": "code",
      "execution_count": null,
      "metadata": {
        "id": "2Z0NFEMTv4SU"
      },
      "outputs": [],
      "source": [
        "\n",
        "    \n",
        "\n",
        "## we do have to worry about multiple groups per anal username\n",
        "users_df_ana['agent_groupnames_agg'] = users_df_ana.groupby(['universal_agent_username'])['chat_agentgroupname'].transform(aggregate_rows)\n",
        "users_df_ana['agent_fullname_agg'] = users_df_ana.groupby(['universal_agent_username'])['agent_fullname'].transform(aggregate_rows)\n",
        "users_df_ana['agent_nickname_agg'] = users_df_ana.groupby(['universal_agent_username'])['agent_nickname'].transform(aggregate_rows)\n",
        "users_df_ana['agent_platform_id_agg'] = users_df_ana.groupby(['universal_agent_username'])['agent_platform_id'].transform(aggregate_rows)\n",
        "\n",
        "users_df_ana['chat_agentnickname_agg'] = users_df_ana.groupby(['universal_agent_username'])['chat_agentnickname'].transform(aggregate_rows)\n",
        "users_df_ana['chat_agentfullname_agg'] = users_df_ana.groupby(['universal_agent_username'])['chat_agentfullname'].transform(aggregate_rows)\n",
        "\n",
        "\n",
        "users_df_ana = users_df_ana[['universal_agent_username', 'agent_groupnames_agg', 'chat_agentfullname_agg',\n",
        "                             'chat_agentnickname_agg',\n",
        "                'agent_fullname_agg', 'agent_nickname_agg', 'agent_platform_id_agg']].drop_duplicates(['universal_agent_username'])\n"
      ]
    },
    {
      "cell_type": "code",
      "execution_count": null,
      "metadata": {
        "id": "YXJ4Ew4cv4Sf",
        "outputId": "0127e17e-f377-4785-98f9-8d5a83078267"
      },
      "outputs": [
        {
          "name": "stdout",
          "output_type": "stream",
          "text": [
            "time: 263 µs (started: 2022-08-30 16:33:54 -04:00)\n"
          ]
        }
      ],
      "source": [
        "## check for prod date columns to parse"
      ]
    },
    {
      "cell_type": "code",
      "execution_count": null,
      "metadata": {
        "id": "R1mdvF4xv4Sg",
        "outputId": "1d2280db-f36e-4cad-a5aa-60b79070116e"
      },
      "outputs": [
        {
          "name": "stdout",
          "output_type": "stream",
          "text": [
            "time: 644 µs (started: 2022-08-30 16:33:55 -04:00)\n"
          ]
        }
      ],
      "source": [
        "prod_datecols = ['chat_isoweek_date',\n",
        "       'chat_start_datetime', 'chat_date','user_created_at', 'agent_created_at', 'sc_mindate', 'hints_mindate',\n",
        "       'scoredhints_mindate', 'kb_sugg_mindate', 'sugg_mindate',\n",
        "       'ai_start_mindate', 'ai_start_maxdate', 'ai_start_minmaxdatediff',\n",
        "       'days_since_ai_start_mindate', 'flag_ai_on_mindate',\n",
        "       'days_since_ai_start_maxdate', 'flag_ai_on_maxdate', 'chat_month_date']\n",
        "\n",
        "# prod_df3 = pd.read_csv(cleaned_production_filename, parse_dates=)"
      ]
    },
    {
      "cell_type": "code",
      "execution_count": null,
      "metadata": {
        "id": "6Ew45kNzv4Sh",
        "outputId": "7a4cec1f-54f8-45e3-eef3-3ef3c17ee554"
      },
      "outputs": [
        {
          "name": "stdout",
          "output_type": "stream",
          "text": [
            "Reading in : intuitCS_analytics_12March2022_1.csv\n",
            "Reading in : /Users/lindseyraymond/Dropbox (MIT)/Research/Erik/Cresta/Empirics/Data/RawData/chats/analytics_withtext/intuitCS_analytics_12March2022_1.csv\n",
            "Original df shape:  (10000, 27)\n",
            "['analytics_chat_name', 'chat_start_date', 'agent_platform_id', 'first_agent_platform_id', 'chat_skillname', 'chat_agentfullname', 'chat_agentnickname', 'chat_agentgroupname', 'chat_agentloginname', 'chat_status', 'chat_closereason', 'chat_closereasondescr', 'cleaned_platform_chat_id', 'chat_name', 'agent_fullname', 'agent_nickname']\n",
            "Subsetting to chats with at least 2 visitor and agent messages:  (9995, 29)\n",
            "Shape after subsetting :  (7943, 29)\n",
            "Shape after dropping strange durations:  7162\n",
            "Filtering on platform chat id and agent platform id. Original df:  (7162, 29)\n",
            "Number missing agent platform ids (0, 29)\n",
            " Filtered df shape :  (7162, 29)\n",
            "Reading in : intuitCS_analytics_12March2022_2.csv\n",
            "Reading in : /Users/lindseyraymond/Dropbox (MIT)/Research/Erik/Cresta/Empirics/Data/RawData/chats/analytics_withtext/intuitCS_analytics_12March2022_2.csv\n",
            "Original df shape:  (10000, 27)\n",
            "['analytics_chat_name', 'chat_start_date', 'agent_platform_id', 'first_agent_platform_id', 'chat_skillname', 'chat_agentfullname', 'chat_agentnickname', 'chat_agentgroupname', 'chat_agentloginname', 'chat_status', 'chat_closereason', 'chat_closereasondescr', 'cleaned_platform_chat_id', 'chat_name', 'agent_fullname', 'agent_nickname']\n",
            "Subsetting to chats with at least 2 visitor and agent messages:  (9996, 29)\n",
            "Shape after subsetting :  (7678, 29)\n",
            "Shape after dropping strange durations:  6943\n",
            "Filtering on platform chat id and agent platform id. Original df:  (6943, 29)\n",
            "Number missing agent platform ids (0, 29)\n",
            " Filtered df shape :  (6943, 29)\n",
            "Reading in : intuitCS_analytics_12March2022_3.csv\n",
            "Reading in : /Users/lindseyraymond/Dropbox (MIT)/Research/Erik/Cresta/Empirics/Data/RawData/chats/analytics_withtext/intuitCS_analytics_12March2022_3.csv\n",
            "Original df shape:  (10000, 27)\n",
            "['analytics_chat_name', 'chat_start_date', 'agent_platform_id', 'first_agent_platform_id', 'chat_skillname', 'chat_agentfullname', 'chat_agentnickname', 'chat_agentgroupname', 'chat_agentloginname', 'chat_status', 'chat_closereason', 'chat_closereasondescr', 'cleaned_platform_chat_id', 'chat_name', 'agent_fullname', 'agent_nickname']\n",
            "Subsetting to chats with at least 2 visitor and agent messages:  (9990, 29)\n",
            "Shape after subsetting :  (8209, 29)\n",
            "Shape after dropping strange durations:  7499\n",
            "Filtering on platform chat id and agent platform id. Original df:  (7499, 29)\n",
            "Number missing agent platform ids (0, 29)\n",
            " Filtered df shape :  (7499, 29)\n",
            "Concatenated data shape:  (21604, 31)\n",
            "time: 1min 22s (started: 2022-08-30 16:33:56 -04:00)\n"
          ]
        }
      ],
      "source": [
        "ana_df = clean_analytics(analytics_files_dir, include_text=True, analytics_columns=analytics_columns, nrows=10000)"
      ]
    },
    {
      "cell_type": "code",
      "execution_count": null,
      "metadata": {
        "id": "9V1gYPkkv4Si",
        "outputId": "29168add-a3e6-4db6-dcc4-f570c7464985"
      },
      "outputs": [
        {
          "name": "stdout",
          "output_type": "stream",
          "text": [
            "time: 548 µs (started: 2022-08-30 15:25:22 -04:00)\n"
          ]
        }
      ],
      "source": [
        "### make a unique agent_id (agent login )\n",
        "## combine existing columns into one unique column\n",
        "## see if amazon connect api missing a lot of informaiton from analytics\n",
        "## check to see that durations match\n",
        "## come up with an agent resovled per hour version of the story\n",
        "## skillname, groupname, "
      ]
    },
    {
      "cell_type": "code",
      "execution_count": null,
      "metadata": {
        "id": "H2GlLKAEv4Si"
      },
      "outputs": [],
      "source": []
    },
    {
      "cell_type": "code",
      "execution_count": null,
      "metadata": {
        "id": "QhP8IVncv4Sj",
        "outputId": "575d719f-84bd-4bdf-cc94-7a04bfc1bc73"
      },
      "outputs": [
        {
          "name": "stdout",
          "output_type": "stream",
          "text": [
            "(21604,)\n",
            "(21604, 31)\n",
            "time: 8.5 ms (started: 2022-08-30 16:35:19 -04:00)\n"
          ]
        }
      ],
      "source": [
        "print(ana_df['platform_chat_id'].drop_duplicates().shape)\n",
        "print(ana_df.shape)\n",
        "assert ana_df['platform_chat_id'].drop_duplicates().shape[0] == ana_df.shape[0]"
      ]
    },
    {
      "cell_type": "code",
      "execution_count": null,
      "metadata": {
        "id": "JwH_IAYbv4Sj",
        "outputId": "d265e17d-22de-43bb-caad-817cf80bf779"
      },
      "outputs": [
        {
          "name": "stdout",
          "output_type": "stream",
          "text": [
            "(1731319,)\n",
            "(1731319, 69)\n",
            "time: 1.67 s (started: 2022-08-30 16:35:19 -04:00)\n"
          ]
        }
      ],
      "source": [
        "print(prod_df3['platform_chat_id'].drop_duplicates().shape)\n",
        "print(prod_df3.shape)\n",
        "assert prod_df3['platform_chat_id'].drop_duplicates().shape[0] == prod_df3.shape[0]"
      ]
    },
    {
      "cell_type": "code",
      "execution_count": null,
      "metadata": {
        "id": "cgfNuAcbv4Sk",
        "outputId": "92185563-0207-4220-d3b9-4a33d3d39d00"
      },
      "outputs": [
        {
          "name": "stdout",
          "output_type": "stream",
          "text": [
            "time: 29.9 s (started: 2022-08-30 16:36:23 -04:00)\n"
          ]
        }
      ],
      "source": [
        "prod_ana_df = prod_df3.merge(\n",
        "    ana_df, on='platform_chat_id', how='outer', indicator=True, validate='one_to_one', suffixes=['_p', '_a'])"
      ]
    },
    {
      "cell_type": "code",
      "execution_count": null,
      "metadata": {
        "id": "mJlfvmoav4Sl",
        "outputId": "8d10c783-64dd-4e93-ded7-3134143bf2bd"
      },
      "outputs": [
        {
          "name": "stdout",
          "output_type": "stream",
          "text": [
            "left_only     1731319\n",
            "right_only      21604\n",
            "both                0\n",
            "Name: _merge, dtype: int64\n",
            "time: 12.3 ms (started: 2022-08-30 16:36:53 -04:00)\n"
          ]
        }
      ],
      "source": [
        "print(prod_ana_df['_merge'].value_counts(dropna=False))"
      ]
    },
    {
      "cell_type": "code",
      "execution_count": null,
      "metadata": {
        "id": "XHGXU2B2v4Sl",
        "outputId": "c82f4789-2d22-46bb-b802-9b0fb8132983"
      },
      "outputs": [
        {
          "name": "stdout",
          "output_type": "stream",
          "text": [
            "prod         1731319\n",
            "analytics      21604\n",
            "Name: data_source, dtype: int64\n",
            "time: 3.48 s (started: 2022-08-30 16:36:53 -04:00)\n"
          ]
        }
      ],
      "source": [
        "prod_ana_df['data_source'] = 'prod'\n",
        "prod_ana_df.loc[prod_ana_df['_merge']=='right_only', 'data_source'] = 'analytics'\n",
        "prod_ana_df.loc[prod_ana_df['_merge']=='both', 'data_source'] = 'both'\n",
        "print(prod_ana_df['data_source'].value_counts())\n",
        "prod_ana_df = prod_ana_df.drop(columns=['_merge'])"
      ]
    },
    {
      "cell_type": "code",
      "execution_count": null,
      "metadata": {
        "id": "FNWmCd0wv4Sm",
        "outputId": "5405802e-d715-4682-d6b6-a44ef6614503"
      },
      "outputs": [
        {
          "name": "stdout",
          "output_type": "stream",
          "text": [
            "2019-09-01 02:51:53\n",
            "2020-07-31 22:44:28\n",
            "NaT\n",
            "NaT\n",
            "NaT\n",
            "NaT\n",
            "time: 720 ms (started: 2022-08-30 16:36:57 -04:00)\n"
          ]
        }
      ],
      "source": [
        "print(prod_ana_df.loc[prod_ana_df['data_source']=='analytics', 'chat_start_datetime_a'].min())\n",
        "print(prod_ana_df.loc[prod_ana_df['data_source']=='analytics', 'chat_start_datetime_a'].max())\n",
        "print(prod_ana_df.loc[prod_ana_df['data_source']=='both', 'chat_start_datetime_a'].min())\n",
        "print(prod_ana_df.loc[prod_ana_df['data_source']=='both', 'chat_start_datetime_a'].max())\n",
        "print(prod_ana_df.loc[prod_ana_df['data_source']=='prod', 'chat_start_datetime_a'].min())\n",
        "print(prod_ana_df.loc[prod_ana_df['data_source']=='prod', 'chat_start_datetime_a'].max())"
      ]
    },
    {
      "cell_type": "code",
      "execution_count": null,
      "metadata": {
        "id": "36HHrLj2v4Sn",
        "outputId": "d8141a70-244e-439a-9292-a55ab8d66456"
      },
      "outputs": [
        {
          "name": "stdout",
          "output_type": "stream",
          "text": [
            "time: 190 ms (started: 2022-08-30 16:36:57 -04:00)\n"
          ]
        }
      ],
      "source": [
        "assert sum(((~pd.isnull(prod_ana_df['hermes_chat_id'])) & (prod_ana_df['hermes_chat_id']!=prod_ana_df['chat_id'])))==0"
      ]
    },
    {
      "cell_type": "code",
      "execution_count": null,
      "metadata": {
        "id": "i9xgMSpVv4Sy",
        "outputId": "10ee1092-bb24-49c6-be22-b28e4a7dbed0"
      },
      "outputs": [
        {
          "name": "stdout",
          "output_type": "stream",
          "text": [
            "Overlap 0\n",
            "Number that differ by more than ten : (0, 101)\n",
            "time: 1.08 s (started: 2022-08-30 16:37:14 -04:00)\n"
          ]
        }
      ],
      "source": [
        "## if prod duration is missing, we take analytics duration\n",
        "\n",
        "ana_mask = (prod_ana_df['data_source'] =='analytics')\n",
        "both_mask = (prod_ana_df['data_source'] =='both')\n",
        "prod_ana_df.loc[ana_mask, 'duration_minutes'] = prod_ana_df.loc[ana_mask, 'chat_duration']\n",
        "both_missing_mask =  (both_mask & (pd.isnull(prod_ana_df['duration_minutes'])))\n",
        "prod_ana_df.loc[both_missing_mask, 'duration_minutes'] = prod_ana_df.loc[both_missing_mask, 'chat_duration']\n",
        "prod_ana_df['temp'] = prod_ana_df['duration_minutes'] - prod_ana_df['chat_duration']\n",
        "prod_ana_df.loc[:, 'temp'] = prod_ana_df['temp'].fillna(0)\n",
        "print('Overlap', sum(both_mask))\n",
        "print('Number that differ by more than ten :', prod_ana_df.loc[(both_mask & (np.abs(prod_ana_df['temp'])>10)),: ].shape)"
      ]
    },
    {
      "cell_type": "code",
      "execution_count": null,
      "metadata": {
        "id": "4RG4vDC6v4Sz",
        "outputId": "991fcf34-469b-4a2f-ff05-fe5f302762b5"
      },
      "outputs": [
        {
          "name": "stdout",
          "output_type": "stream",
          "text": [
            "time: 1.45 s (started: 2022-08-30 16:37:15 -04:00)\n"
          ]
        }
      ],
      "source": [
        "prod_ana_df = prod_ana_df.drop(columns=['chat_duration', 'temp'])"
      ]
    },
    {
      "cell_type": "code",
      "execution_count": null,
      "metadata": {
        "id": "cjPvvuPHv4S0",
        "outputId": "d1f271ea-912b-4312-9672-a56033865d0f"
      },
      "outputs": [
        {
          "name": "stdout",
          "output_type": "stream",
          "text": [
            "Overlap 0\n",
            "Number that differ : (0, 100)\n",
            "time: 505 ms (started: 2022-08-30 16:37:16 -04:00)\n"
          ]
        }
      ],
      "source": [
        "prod_ana_df.loc[ana_mask, 'platform_chat_skill'] = prod_ana_df.loc[ana_mask, 'chat_skillname']\n",
        "                                                               \n",
        "both_missing_mask =  (both_mask & (pd.isnull(prod_ana_df['platform_chat_skill'])))\n",
        "prod_ana_df.loc[both_missing_mask, 'platform_chat_skill'] = prod_ana_df.loc[both_missing_mask, 'chat_skillname']\n",
        "prod_ana_df['temp'] = prod_ana_df['platform_chat_skill']!=prod_ana_df['chat_skillname']\n",
        "prod_ana_df.loc[:, 'temp'] = prod_ana_df['temp'].astype(int).fillna(0)\n",
        "print('Overlap', sum(both_mask))\n",
        "print('Number that differ :', prod_ana_df.loc[(both_mask & (np.abs(prod_ana_df['temp'])>0)),: ].shape)\n"
      ]
    },
    {
      "cell_type": "code",
      "execution_count": null,
      "metadata": {
        "id": "47K-QDOOv4S1",
        "outputId": "fa9354a1-184a-4aae-ddb2-7e12df20e452"
      },
      "outputs": [
        {
          "name": "stdout",
          "output_type": "stream",
          "text": [
            "Are there any chat skills ids that we can use?\n",
            "Series([], Name: latest_skillid, dtype: int64)\n",
            "Now recoding skillids to skill names\n",
            "time: 1.42 s (started: 2022-08-30 16:37:17 -04:00)\n"
          ]
        }
      ],
      "source": [
        "## check if any missing in prod that have a chat_skill id from analytics\n",
        "print('Are there any chat skills ids that we can use?')\n",
        "print(prod_ana_df.loc[both_missing_mask , 'latest_skillid'].value_counts(dropna=False))\n",
        "prod_ana_df.loc[both_missing_mask, 'platform_chat_skill'] = prod_ana_df.loc[both_missing_mask, 'latest_skillid']\n",
        "print('Now recoding skillids to skill names')\n",
        "for k, v in platform_chat_skill_recode.items():\n",
        "    prod_ana_df.loc[prod_ana_df['platform_chat_skill']==k, 'platform_chat_skill'] = v"
      ]
    },
    {
      "cell_type": "code",
      "execution_count": null,
      "metadata": {
        "id": "e41fx7cAv4S1",
        "outputId": "81ccb221-0f0e-4de8-ae41-1060791001c2"
      },
      "outputs": [
        {
          "name": "stdout",
          "output_type": "stream",
          "text": [
            "time: 1.43 s (started: 2022-08-30 16:37:18 -04:00)\n"
          ]
        }
      ],
      "source": [
        "prod_ana_df = prod_ana_df.drop(columns=['chat_skillname', 'latest_skillid', 'temp'])\n"
      ]
    },
    {
      "cell_type": "code",
      "execution_count": null,
      "metadata": {
        "id": "BhoaeXlRv4S2",
        "outputId": "53c27775-5914-46b9-f0c4-563eb6a9ddc2"
      },
      "outputs": [
        {
          "name": "stdout",
          "output_type": "stream",
          "text": [
            "time: 56.6 ms (started: 2022-08-30 16:37:20 -04:00)\n"
          ]
        }
      ],
      "source": [
        "## now combine chat_start_datetime\n",
        "prod_ana_df.loc[:, 'chat_start_datetime_p'] = prod_ana_df['chat_start_datetime_p'].dt.tz_localize(None)\n",
        "prod_ana_df['chat_start_datetime'] = prod_ana_df['chat_start_datetime_p']\n",
        "prod_ana_df.loc[ana_mask, 'chat_start_datetime'] = prod_ana_df.loc[ana_mask, 'chat_start_datetime_a']\n",
        "prod_ana_df.loc[(both_mask & (pd.isnull(prod_ana_df[\n",
        "    'chat_start_datetime']))), 'chat_start_datetime'] = prod_ana_df.loc[(both_mask & (pd.isnull(\n",
        "        prod_ana_df['chat_start_datetime']))), 'chat_start_datetime_a']"
      ]
    },
    {
      "cell_type": "code",
      "execution_count": null,
      "metadata": {
        "id": "Ru4y2OY7v4S3",
        "outputId": "6acfa4cd-66c5-49a4-fec5-d5ed12f22e5b"
      },
      "outputs": [
        {
          "name": "stdout",
          "output_type": "stream",
          "text": [
            "time: 26.2 ms (started: 2022-08-30 16:37:20 -04:00)\n"
          ]
        }
      ],
      "source": [
        "prod_ana_df.loc[:, 'chat_start_datetime'] = pd.to_datetime(prod_ana_df.loc[:, 'chat_start_datetime'])"
      ]
    },
    {
      "cell_type": "code",
      "execution_count": null,
      "metadata": {
        "id": "WnAJyNmGv4S3",
        "outputId": "3d5a51e6-0227-4082-d8f1-5dcb31b6f8dd"
      },
      "outputs": [
        {
          "name": "stdout",
          "output_type": "stream",
          "text": [
            "(0, 99)\n",
            "time: 6.13 s (started: 2022-08-30 16:37:22 -04:00)\n"
          ]
        }
      ],
      "source": [
        "prod_ana_df['temp'] = np.abs(prod_ana_df['chat_start_datetime_a'] - prod_ana_df['chat_start_datetime_p'])\n",
        "prod_ana_df.loc[prod_ana_df['temp'] < np.timedelta64(10, 'M'), 'temp'] = 0\n",
        "prod_ana_df.loc[:, 'temp'] =prod_ana_df['temp'].fillna(0)\n",
        "print(prod_ana_df.loc[prod_ana_df['temp']>0, :].shape)"
      ]
    },
    {
      "cell_type": "code",
      "execution_count": null,
      "metadata": {
        "id": "-zidwoOav4S4",
        "outputId": "fbb7d214-02f3-4f4f-9255-da41c8d790b0"
      },
      "outputs": [
        {
          "name": "stdout",
          "output_type": "stream",
          "text": [
            "time: 1.56 s (started: 2022-08-30 16:37:28 -04:00)\n"
          ]
        }
      ],
      "source": [
        "prod_ana_df = prod_ana_df.drop(columns=['chat_start_datetime_a', 'chat_start_datetime_p', 'temp', 'first_nonystem_message',])"
      ]
    },
    {
      "cell_type": "code",
      "execution_count": null,
      "metadata": {
        "id": "vJ8VgNtlv4S4",
        "outputId": "974c6995-ef06-47c1-e457-bb34bf76620b"
      },
      "outputs": [
        {
          "name": "stdout",
          "output_type": "stream",
          "text": [
            "time: 37.4 ms (started: 2022-08-30 16:37:29 -04:00)\n"
          ]
        }
      ],
      "source": [
        "### Fill in date columns for rows from ana\n",
        "mask = pd.isnull(prod_ana_df['chat_date'])\n",
        "prod_ana_df.loc[mask, 'chat_date'] = prod_ana_df.loc[mask, 'chat_start_datetime'].dt.date"
      ]
    },
    {
      "cell_type": "code",
      "execution_count": null,
      "metadata": {
        "id": "WL5MllFkv4TD",
        "outputId": "a244f9b7-588d-4a23-8879-d5d084aed264"
      },
      "outputs": [
        {
          "name": "stdout",
          "output_type": "stream",
          "text": [
            "time: 1.17 s (started: 2022-08-30 16:37:29 -04:00)\n"
          ]
        }
      ],
      "source": [
        "prod_ana_df.loc[:, 'chat_month_date'] = pd.to_datetime(prod_ana_df.loc[:,'chat_month_date'])"
      ]
    },
    {
      "cell_type": "code",
      "execution_count": null,
      "metadata": {
        "id": "ORR7dmzLv4TF",
        "outputId": "1e296ead-57df-4b56-ef8b-e9175954997d"
      },
      "outputs": [
        {
          "name": "stdout",
          "output_type": "stream",
          "text": [
            "time: 18.1 s (started: 2022-08-30 16:37:31 -04:00)\n"
          ]
        }
      ],
      "source": [
        "mask = pd.isnull(prod_ana_df['chat_month_date'])\n",
        "prod_ana_df.loc[mask, 'chat_month_date'] = prod_ana_df.loc[mask, 'chat_date'].apply(\n",
        "    lambda x: pd.to_datetime('{}-{}-01'.format(x.year, x.month), format='%Y-%m-%d').date)"
      ]
    },
    {
      "cell_type": "code",
      "execution_count": null,
      "metadata": {
        "id": "Rzi4UZNQv4TF",
        "outputId": "73c60230-05f7-42af-d5e5-6d4a3dbd714c"
      },
      "outputs": [
        {
          "name": "stdout",
          "output_type": "stream",
          "text": [
            "time: 933 ms (started: 2022-08-30 16:37:49 -04:00)\n"
          ]
        }
      ],
      "source": [
        "prod_ana_df.loc[:, 'chat_isoweek_date'] = pd.to_datetime(prod_ana_df.loc[:, 'chat_isoweek_date']).dt.date"
      ]
    },
    {
      "cell_type": "code",
      "execution_count": null,
      "metadata": {
        "id": "TB8iBFBOv4TG",
        "outputId": "558a44f4-27c2-4bff-c142-50309b110156"
      },
      "outputs": [
        {
          "name": "stdout",
          "output_type": "stream",
          "text": [
            "time: 96.6 ms (started: 2022-08-30 16:37:50 -04:00)\n"
          ]
        }
      ],
      "source": [
        "mask = pd.isnull(prod_ana_df['chat_isoweek_date'])"
      ]
    },
    {
      "cell_type": "code",
      "execution_count": null,
      "metadata": {
        "id": "cqBo6bIlv4TH",
        "outputId": "996e3d8e-da55-471f-f1d7-a30bf32c3f7c"
      },
      "outputs": [
        {
          "name": "stdout",
          "output_type": "stream",
          "text": [
            "time: 273 ms (started: 2022-08-30 16:37:50 -04:00)\n"
          ]
        }
      ],
      "source": [
        "prod_ana_df.loc[mask, 'chat_isoweek_date']= prod_ana_df.loc[mask, 'chat_start_datetime'].apply(\n",
        "    lambda x: isoweek.Week.withdate(x).day(ISOWEEK_DAY))"
      ]
    },
    {
      "cell_type": "code",
      "execution_count": null,
      "metadata": {
        "id": "uYnVnKiov4TI",
        "outputId": "e322f8fb-e8a4-4c04-9658-fcb7b3012ddf"
      },
      "outputs": [
        {
          "name": "stdout",
          "output_type": "stream",
          "text": [
            "time: 1.18 ms (started: 2022-08-30 16:37:50 -04:00)\n"
          ]
        }
      ],
      "source": [
        "## amazon connect analytics do have hermes_id (production chats.id) in the analytics table\n",
        "## agent_platform_ids is a json field with multiple possible values\n",
        "## this corresponds to the users.username in the production database with livepersonagent- appended. \n",
        "# {livepersonagent-megan.beverly@sykes.com} for chat id 5205265 in analytics and username megan.beverly@sykes.com in app.users.prod\n",
        "# this holds true for messages that go through amazon-connect and liveperson\n",
        "# platform_id in app.chats in production should match chat_name in analytics if we append 'liveperson-'\n",
        "# for example platform id 8b84ca8f-0899-4526-b077-6285faf76ced becomes liveperson-8b84ca8f-0899-4526-b077-6285faf76ced\n"
      ]
    },
    {
      "cell_type": "code",
      "execution_count": null,
      "metadata": {
        "id": "tBA2nxpbv4TJ",
        "outputId": "a41a3ac1-9758-49c3-9a32-3e9574b5ebec"
      },
      "outputs": [
        {
          "name": "stdout",
          "output_type": "stream",
          "text": [
            "time: 124 ms (started: 2022-08-30 16:37:50 -04:00)\n"
          ]
        }
      ],
      "source": [
        "prod_ana_df['universal_agent_username'] = prod_ana_df['username']\n",
        "prod_ana_df.loc[ana_mask, 'universal_agent_username'] = prod_ana_df.loc[ana_mask,'first_agent_platform_id'].apply(\n",
        "    lambda x: x if pd.isnull(x) else x.replace('livepersonagent-',''))"
      ]
    },
    {
      "cell_type": "code",
      "execution_count": null,
      "metadata": {
        "id": "yVJoGDhMv4TJ",
        "outputId": "ab368b92-16f0-4556-dbf3-b5be2aed6519"
      },
      "outputs": [
        {
          "name": "stdout",
          "output_type": "stream",
          "text": [
            "time: 322 ms (started: 2022-08-30 16:37:50 -04:00)\n"
          ]
        }
      ],
      "source": [
        "assert sum(pd.isnull(prod_ana_df['universal_agent_username']))==0"
      ]
    },
    {
      "cell_type": "code",
      "execution_count": null,
      "metadata": {
        "id": "cCOVvYKKv4TK",
        "outputId": "96203c35-20a6-4053-bcd8-f418ada9267a"
      },
      "outputs": [
        {
          "name": "stdout",
          "output_type": "stream",
          "text": [
            "time: 1.84 ms (started: 2022-08-30 19:43:27 -04:00)\n"
          ]
        }
      ],
      "source": []
    },
    {
      "cell_type": "code",
      "execution_count": null,
      "metadata": {
        "id": "jIQD8jF-v4TK",
        "outputId": "5f3920bd-c21c-463c-fa80-43bf81e2878d"
      },
      "outputs": [
        {
          "name": "stdout",
          "output_type": "stream",
          "text": [
            "time: 340 µs (started: 2022-08-30 19:43:28 -04:00)\n"
          ]
        }
      ],
      "source": [
        "## for each user, calculate first date, last date, flag if present in prod, flag if present in analytics"
      ]
    },
    {
      "cell_type": "code",
      "execution_count": null,
      "metadata": {
        "id": "QVgU2PIYv4TL",
        "outputId": "a697256f-7bcd-4b51-a8f0-a662e236cff0"
      },
      "outputs": [
        {
          "name": "stdout",
          "output_type": "stream",
          "text": [
            "time: 238 µs (started: 2022-08-30 19:43:28 -04:00)\n"
          ]
        }
      ],
      "source": [
        "# we don't have to worry about multiple values for the same username here"
      ]
    },
    {
      "cell_type": "code",
      "execution_count": null,
      "metadata": {
        "id": "tJP55sn7v4TW",
        "outputId": "5a21466c-1c99-4d46-95e1-4c21d8959866"
      },
      "outputs": [
        {
          "name": "stdout",
          "output_type": "stream",
          "text": [
            "time: 4.91 s (started: 2022-08-30 19:43:28 -04:00)\n"
          ]
        }
      ],
      "source": [
        "users_df_prod = prod_ana_df.loc[prod_ana_df['data_source']=='prod', orig_prod_user_columns+[\n",
        "    'universal_agent_username']].sort_values(['universal_agent_username'], na_position='last').drop_duplicates('universal_agent_username')"
      ]
    },
    {
      "cell_type": "code",
      "execution_count": null,
      "metadata": {
        "id": "Dr3msLUdv4TX",
        "outputId": "b730c3f9-1845-493a-94e5-f953c5b16967"
      },
      "outputs": [
        {
          "name": "stdout",
          "output_type": "stream",
          "text": [
            "time: 4.73 ms (started: 2022-08-30 19:43:33 -04:00)\n"
          ]
        }
      ],
      "source": [
        "## create universal full name, user_id, user_role_name, username\n",
        "users_df_prod = users_df_prod.rename(columns={x:'{}_prod'.format(x) for x in orig_prod_user_columns})"
      ]
    },
    {
      "cell_type": "code",
      "execution_count": null,
      "metadata": {
        "id": "Z0XoBYJKv4TY"
      },
      "outputs": [],
      "source": [
        "def "
      ]
    },
    {
      "cell_type": "code",
      "execution_count": null,
      "metadata": {
        "id": "xMhDQRvwv4TZ",
        "outputId": "46b2df17-1c71-4f0a-c933-436044fb88b3"
      },
      "outputs": [
        {
          "name": "stdout",
          "output_type": "stream",
          "text": [
            "time: 301 ms (started: 2022-08-30 19:43:33 -04:00)\n"
          ]
        }
      ],
      "source": [
        "users_df_ana = prod_ana_df.loc[prod_ana_df['data_source']=='analytics', orig_analytics_user_columns+[\n",
        "    'universal_agent_username']].sort_values(['universal_agent_username', 'agent_fullname',\n",
        "                    'agent_nickname', 'chat_agentgroupname', 'agent_platform_id']).drop_duplicates(\n",
        "    ['universal_agent_username', 'agent_fullname',\n",
        "                    'agent_nickname', 'chat_agentgroupname', 'agent_platform_id', 'chat_agentnickname', 'chat_agentfullname'])\n",
        "\n",
        "\n",
        "def aggregate_rows(x):\n",
        "    r = set(list(filter(lambda z: isinstance(z, str), x)))\n",
        "    if r is None:\n",
        "        return np.nan\n",
        "    return '|'.join(list(r))\n",
        "    \n",
        "\n",
        "## we do have to worry about multiple groups per anal username\n",
        "users_df_ana['agent_groupnames_agg'] = users_df_ana.groupby(['universal_agent_username'])['chat_agentgroupname'].transform(aggregate_rows)\n",
        "users_df_ana['agent_fullname_agg'] = users_df_ana.groupby(['universal_agent_username'])['agent_fullname'].transform(aggregate_rows)\n",
        "users_df_ana['agent_nickname_agg'] = users_df_ana.groupby(['universal_agent_username'])['agent_nickname'].transform(aggregate_rows)\n",
        "users_df_ana['agent_platform_id_agg'] = users_df_ana.groupby(['universal_agent_username'])['agent_platform_id'].transform(aggregate_rows)\n",
        "\n",
        "users_df_ana['chat_agentnickname_agg'] = users_df_ana.groupby(['universal_agent_username'])['chat_agentnickname'].transform(aggregate_rows)\n",
        "users_df_ana['chat_agentfullname_agg'] = users_df_ana.groupby(['universal_agent_username'])['chat_agentfullname'].transform(aggregate_rows)\n",
        "\n",
        "\n",
        "users_df_ana = users_df_ana[['universal_agent_username', 'agent_groupnames_agg', 'chat_agentfullname_agg',\n",
        "                             'chat_agentnickname_agg',\n",
        "                'agent_fullname_agg', 'agent_nickname_agg', 'agent_platform_id_agg']].drop_duplicates(['universal_agent_username'])\n"
      ]
    },
    {
      "cell_type": "code",
      "execution_count": null,
      "metadata": {
        "id": "98T0GKApv4Ta",
        "outputId": "96ff48cb-941f-4aa0-ddd4-80cd259b10fe"
      },
      "outputs": [
        {
          "name": "stdout",
          "output_type": "stream",
          "text": [
            "time: 57 ms (started: 2022-08-30 19:43:41 -04:00)\n"
          ]
        }
      ],
      "source": [
        "users_df = users_df_prod.merge(\n",
        "    users_df_ana, on='universal_agent_username', how='outer', validate='one_to_one', indicator=True)"
      ]
    },
    {
      "cell_type": "code",
      "execution_count": null,
      "metadata": {
        "id": "cnG2NBSBv4Tb",
        "outputId": "eff1f5ce-a255-4a9b-84cc-1878d544078e"
      },
      "outputs": [
        {
          "data": {
            "text/plain": [
              "left_only     3912\n",
              "right_only    2063\n",
              "both            75\n",
              "Name: _merge, dtype: int64"
            ]
          },
          "execution_count": 343,
          "metadata": {},
          "output_type": "execute_result"
        },
        {
          "name": "stdout",
          "output_type": "stream",
          "text": [
            "time: 4.17 ms (started: 2022-08-30 19:43:41 -04:00)\n"
          ]
        }
      ],
      "source": [
        "users_df['_merge'].value_counts(dropna=False)"
      ]
    },
    {
      "cell_type": "code",
      "execution_count": null,
      "metadata": {
        "id": "kAnx8zK-v4Tb",
        "outputId": "544eac9a-9d7e-4fb0-f973-241fc3385083"
      },
      "outputs": [
        {
          "name": "stdout",
          "output_type": "stream",
          "text": [
            "time: 825 µs (started: 2022-08-30 19:43:41 -04:00)\n"
          ]
        }
      ],
      "source": [
        "prod_user_columns = ['agent_created_at',  'agent_team_id',\n",
        " 'agent_team_id_agg',  'agent_user_id', 'behaviors_needing_coaching', 'display_name', 'full_name',\n",
        "    'team_name', 'team_name_agg', 'user_created_at', 'user_id',  'user_platform_id', 'user_role_name',\n",
        " 'user_role_name_agg', 'user_str_id', 'username']\n",
        "\n",
        "analytics_user_columns = ['agent_groupnames_agg', 'chat_agentfullname_agg',\n",
        "                             'chat_agentnickname_agg',\n",
        "                'agent_fullname_agg', 'agent_nickname_agg', 'agent_platform_id_agg']"
      ]
    },
    {
      "cell_type": "code",
      "execution_count": null,
      "metadata": {
        "id": "fx19Sqvxv4Tc",
        "outputId": "2974b170-454c-44a0-c048-a8e89a91c223"
      },
      "outputs": [
        {
          "data": {
            "text/plain": [
              "Series([], Name: agent_fullname_agg, dtype: object)"
            ]
          },
          "execution_count": 345,
          "metadata": {},
          "output_type": "execute_result"
        },
        {
          "name": "stdout",
          "output_type": "stream",
          "text": [
            "time: 3.26 ms (started: 2022-08-30 19:43:41 -04:00)\n"
          ]
        }
      ],
      "source": [
        "users_df.loc[mask, 'agent_fullname_agg']"
      ]
    },
    {
      "cell_type": "code",
      "execution_count": null,
      "metadata": {
        "id": "haQ5wg-Dv4Td",
        "outputId": "41bcadb5-543b-44cc-8b78-560eafd98f04"
      },
      "outputs": [
        {
          "name": "stdout",
          "output_type": "stream",
          "text": [
            "Filling in with ana value : 2063\n",
            "Filling in with ana value from agent : 0\n",
            "time: 12.8 ms (started: 2022-08-30 19:43:41 -04:00)\n"
          ]
        }
      ],
      "source": [
        "# fill in full name\n",
        "users_df['full_name'] = users_df['full_name_prod']\n",
        "mask = (pd.isnull(users_df['full_name_prod']) & (~pd.isnull(users_df['agent_fullname_agg'])))\n",
        "print('Filling in with ana value :', sum(mask))\n",
        "users_df.loc[mask, 'full_name'] = users_df.loc[mask, 'agent_fullname_agg'].apply(lambda x: x.split('|')[0])\n",
        "\n",
        "mask = (pd.isnull(users_df['full_name']) & (~pd.isnull(users_df['chat_agentfullname_agg'])))\n",
        "print('Filling in with ana value from agent :', sum(mask))\n",
        "users_df.loc[mask, 'full_name'] = users_df.loc[mask, 'chat_agentfullname_agg'].apply(lambda x: x.split('|')[0])\n"
      ]
    },
    {
      "cell_type": "code",
      "execution_count": null,
      "metadata": {
        "id": "C4WjAVd_v4To",
        "outputId": "e1aefe44-61ce-4aa2-a862-f0a3829b11e3"
      },
      "outputs": [
        {
          "name": "stdout",
          "output_type": "stream",
          "text": [
            "time: 560 µs (started: 2022-08-30 19:43:41 -04:00)\n"
          ]
        }
      ],
      "source": [
        "to_drop = ['chat_agentfullname_ana', 'agent_fullname_ana', 'full_name_prod',\n",
        "           'agent_nickname_ana', 'display_name_prod', 'chat_agentnickname']"
      ]
    },
    {
      "cell_type": "code",
      "execution_count": null,
      "metadata": {
        "id": "zYyT2hF-v4Tp",
        "outputId": "148cec5b-30bd-46f3-d436-a3e29b412d5c"
      },
      "outputs": [
        {
          "name": "stdout",
          "output_type": "stream",
          "text": [
            "Filling in with ana value : 2063\n",
            "Filling in with ana value from agent : 0\n",
            "time: 13.1 ms (started: 2022-08-30 19:43:41 -04:00)\n"
          ]
        }
      ],
      "source": [
        "## fill in agent_display name which is the same as display_name in prod\n",
        "users_df['agent_display_name'] = users_df['display_name_prod']\n",
        "mask = (pd.isnull(users_df['agent_display_name']) & (~pd.isnull(users_df['agent_nickname_agg'])))\n",
        "print('Filling in with ana value :', sum(mask))\n",
        "users_df.loc[mask, 'agent_display_name'] = users_df.loc[mask, 'agent_nickname_agg'].apply(lambda x: x.split('|')[0])\n",
        "\n",
        "mask = (pd.isnull(users_df['agent_display_name']) & (~pd.isnull(users_df['chat_agentnickname_agg'])))\n",
        "print('Filling in with ana value from agent :', sum(mask))\n",
        "users_df.loc[mask, 'agent_display_name'] = users_df.loc[mask, 'chat_agentnickname_agg'].apply(lambda x: x.split('|')[0])\n",
        "\n",
        "\n"
      ]
    },
    {
      "cell_type": "code",
      "execution_count": null,
      "metadata": {
        "id": "hNgxU0XDv4Tq",
        "outputId": "394c5d6b-426b-4896-ec53-f98d74f9b807"
      },
      "outputs": [
        {
          "name": "stdout",
          "output_type": "stream",
          "text": [
            "time: 445 ms (started: 2022-08-30 19:43:43 -04:00)\n"
          ]
        }
      ],
      "source": [
        "min_date = prod_ana_df.groupby('universal_agent_username')['chat_date'].agg('min').to_frame()\n",
        "min_date.columns = ['min_chat_date']\n",
        "max_date = prod_ana_df.groupby('universal_agent_username')['chat_date'].agg('max').to_frame()\n",
        "max_date.columns = ['max_chat_date']\n",
        "n_weeks = prod_ana_df.groupby('universal_agent_username')['chat_isoweek_date'].agg('count').to_frame()\n",
        "n_weeks.columns = ['n_distinct_weeks']\n",
        "\n",
        "users_df = users_df.merge(n_weeks,\n",
        "                        how='left', left_on='universal_agent_username', right_index=True)\n",
        "users_df = users_df.merge(max_date,\n",
        "                        how='left', left_on='universal_agent_username', right_index=True)\n",
        "users_df = users_df.merge(min_date,\n",
        "                        how='left', left_on='universal_agent_username', right_index=True)"
      ]
    },
    {
      "cell_type": "code",
      "execution_count": null,
      "metadata": {
        "id": "WT6gm4bzv4Tr",
        "outputId": "59ccb023-70af-4755-dd22-48cd99fe0424"
      },
      "outputs": [
        {
          "name": "stdout",
          "output_type": "stream",
          "text": [
            "time: 12.5 ms (started: 2022-08-30 19:44:09 -04:00)\n"
          ]
        }
      ],
      "source": [
        "users_df = users_df.drop(columns=['_merge'])"
      ]
    },
    {
      "cell_type": "code",
      "execution_count": null,
      "metadata": {
        "id": "x_h0Kd6lv4Ts"
      },
      "outputs": [],
      "source": [
        "## merge these back to the dataframe,drop uder columns from datagrame\n",
        "## create first and last seen date\n",
        "## create "
      ]
    },
    {
      "cell_type": "code",
      "execution_count": null,
      "metadata": {
        "id": "Dvf-ag16v4Tt"
      },
      "outputs": [],
      "source": [
        "# append/merge analytics to production with platform_id\n",
        "# create user_agent, chat_date, resolved, duration for chats not matched to production\n",
        "# check kpi results to resolved chats\n",
        "# merge in chat groupname from analytics\n",
        "\n",
        "    "
      ]
    },
    {
      "cell_type": "code",
      "execution_count": null,
      "metadata": {
        "id": "1xaGo7wdv4Tt"
      },
      "outputs": [],
      "source": [
        "### instead of redownloading data from analytics, we are going to use the existing analytics filepulls"
      ]
    },
    {
      "cell_type": "code",
      "execution_count": null,
      "metadata": {
        "id": "Vk8aC5ygv4Tu"
      },
      "outputs": [],
      "source": []
    },
    {
      "cell_type": "code",
      "execution_count": null,
      "metadata": {
        "id": "aCJ-eQlPv4Tv"
      },
      "outputs": [],
      "source": [
        "### Nice graph of the "
      ]
    },
    {
      "cell_type": "code",
      "execution_count": null,
      "metadata": {
        "id": "B6oS68CAv4Tv"
      },
      "outputs": [],
      "source": []
    },
    {
      "cell_type": "code",
      "execution_count": null,
      "metadata": {
        "id": "BvEzDpljv4Tv"
      },
      "outputs": [],
      "source": []
    },
    {
      "cell_type": "code",
      "execution_count": null,
      "metadata": {
        "id": "eSBtjwbfv4T6"
      },
      "outputs": [],
      "source": []
    },
    {
      "cell_type": "code",
      "execution_count": null,
      "metadata": {
        "id": "wKkg4iy0v4T7"
      },
      "outputs": [],
      "source": []
    },
    {
      "cell_type": "code",
      "execution_count": null,
      "metadata": {
        "id": "y_j_7qFZv4T7"
      },
      "outputs": [],
      "source": []
    },
    {
      "cell_type": "code",
      "execution_count": null,
      "metadata": {
        "id": "mk6EohHwv4T8"
      },
      "outputs": [],
      "source": [
        "post_ai_counts['chat_month_date'].drop_duplicates()"
      ]
    },
    {
      "cell_type": "code",
      "execution_count": null,
      "metadata": {
        "id": "8SI_Osg6v4T8"
      },
      "outputs": [],
      "source": [
        "for month in post_ai_counts['chat_month_date'].unique():\n",
        "    print(month)\n",
        "    post_ai_counts.loc[post_ai_counts['chat_month_date']==month,: ]"
      ]
    },
    {
      "cell_type": "code",
      "execution_count": null,
      "metadata": {
        "id": "EgFZvtj6v4T9"
      },
      "outputs": [],
      "source": [
        "data=post_ai_counts.loc[post_ai_counts['chat_month_date']==pd.to_datetime('2020-08-01').date(),: ]"
      ]
    },
    {
      "cell_type": "code",
      "execution_count": null,
      "metadata": {
        "id": "RH8siNyav4T9"
      },
      "outputs": [],
      "source": []
    },
    {
      "cell_type": "code",
      "execution_count": null,
      "metadata": {
        "id": "ufYL8TMav4T-"
      },
      "outputs": [],
      "source": [
        "binsreg.binsreg(x='count_chats', y='duration_minutes', data=data)"
      ]
    },
    {
      "cell_type": "code",
      "execution_count": null,
      "metadata": {
        "id": "_HFCnlAbv4T-"
      },
      "outputs": [],
      "source": [
        "fig, axes = plt.subplots(1)\n",
        "axes.binscatter(data['count_chats'], data['duration_minutes'])"
      ]
    },
    {
      "cell_type": "code",
      "execution_count": null,
      "metadata": {
        "id": "oSqwxB0gv4T_"
      },
      "outputs": [],
      "source": [
        "### Create date when agent first receives AI output\n",
        "## Create "
      ]
    },
    {
      "cell_type": "markdown",
      "metadata": {
        "id": "KzsKKjqzv4UA"
      },
      "source": [
        "### Add hints"
      ]
    },
    {
      "cell_type": "code",
      "execution_count": null,
      "metadata": {
        "id": "UayfrYL-v4UA"
      },
      "outputs": [],
      "source": []
    },
    {
      "cell_type": "code",
      "execution_count": null,
      "metadata": {
        "id": "O9sU_JnPv4UB"
      },
      "outputs": [],
      "source": []
    },
    {
      "cell_type": "code",
      "execution_count": null,
      "metadata": {
        "id": "hzwS68ZHv4UB"
      },
      "outputs": [],
      "source": []
    },
    {
      "cell_type": "code",
      "execution_count": null,
      "metadata": {
        "id": "NczJvI3Bv4UB"
      },
      "outputs": [],
      "source": [
        "### Add user information"
      ]
    },
    {
      "cell_type": "code",
      "execution_count": null,
      "metadata": {
        "id": "hg-BtbvSv4UN"
      },
      "outputs": [],
      "source": [
        "df4.head()"
      ]
    },
    {
      "cell_type": "code",
      "execution_count": null,
      "metadata": {
        "id": "nCXH3eUTv4UO"
      },
      "outputs": [],
      "source": []
    },
    {
      "cell_type": "code",
      "execution_count": null,
      "metadata": {
        "id": "Th-DuDMRv4UP"
      },
      "outputs": [],
      "source": []
    },
    {
      "cell_type": "code",
      "execution_count": null,
      "metadata": {
        "id": "4WBtnPbYv4UP"
      },
      "outputs": [],
      "source": []
    },
    {
      "cell_type": "code",
      "execution_count": null,
      "metadata": {
        "id": "j3mROHH3v4UQ"
      },
      "outputs": [],
      "source": []
    },
    {
      "cell_type": "code",
      "execution_count": null,
      "metadata": {
        "id": "WdtaKr1Mv4UQ"
      },
      "outputs": [],
      "source": []
    },
    {
      "cell_type": "code",
      "execution_count": null,
      "metadata": {
        "id": "cFv3mqtEv4UR"
      },
      "outputs": [],
      "source": []
    },
    {
      "cell_type": "code",
      "execution_count": null,
      "metadata": {
        "id": "ZVFlI10Kv4UR"
      },
      "outputs": [],
      "source": [
        "users_df.head()"
      ]
    },
    {
      "cell_type": "code",
      "execution_count": null,
      "metadata": {
        "id": "d6mXxTeLv4US"
      },
      "outputs": [],
      "source": [
        "\n"
      ]
    }
  ],
  "metadata": {
    "kernelspec": {
      "display_name": "Python 3 (ipykernel)",
      "language": "python",
      "name": "python3"
    },
    "language_info": {
      "codemirror_mode": {
        "name": "ipython",
        "version": 3
      },
      "file_extension": ".py",
      "mimetype": "text/x-python",
      "name": "python",
      "nbconvert_exporter": "python",
      "pygments_lexer": "ipython3",
      "version": "3.7.13"
    },
    "colab": {
      "provenance": [],
      "machine_shape": "hm",
      "collapsed_sections": [
        "vTbAHbobv4Q4",
        "EHwbU649v4Rv"
      ],
      "include_colab_link": true
    },
    "gpuClass": "standard"
  },
  "nbformat": 4,
  "nbformat_minor": 0
}